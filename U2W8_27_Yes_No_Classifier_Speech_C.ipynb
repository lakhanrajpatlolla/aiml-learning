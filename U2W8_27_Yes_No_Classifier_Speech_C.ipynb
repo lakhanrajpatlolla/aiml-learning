{
  "nbformat": 4,
  "nbformat_minor": 0,
  "metadata": {
    "colab": {
      "provenance": [],
      "include_colab_link": true
    },
    "kernelspec": {
      "display_name": "Python 3",
      "language": "python",
      "name": "python3"
    },
    "accelerator": "GPU"
  },
  "cells": [
    {
      "cell_type": "markdown",
      "metadata": {
        "id": "view-in-github",
        "colab_type": "text"
      },
      "source": [
        "<a href=\"https://colab.research.google.com/github/lakhanrajpatlolla/aiml-learning/blob/master/U2W8_27_Yes_No_Classifier_Speech_C.ipynb\" target=\"_parent\"><img src=\"https://colab.research.google.com/assets/colab-badge.svg\" alt=\"Open In Colab\"/></a>"
      ]
    },
    {
      "cell_type": "markdown",
      "metadata": {
        "id": "ys_OuKdn_ij5"
      },
      "source": [
        "# Advanced Certification in AIML\n",
        "## A Program by IIIT-H and TalentSprint"
      ]
    },
    {
      "cell_type": "markdown",
      "metadata": {
        "id": "B6YRo1_NFkb7"
      },
      "source": [
        "## Learning Objectives\n",
        "\n",
        "At the end of the experiment, you will be able to :\n",
        "\n",
        "* obtain the mfcc features from audio samples\n",
        "* train the classifier with these mfcc features\n",
        "* classify the audio samples into 'yes' and 'no'"
      ]
    },
    {
      "cell_type": "code",
      "metadata": {
        "id": "T6TIgra3pPfA",
        "cellView": "form"
      },
      "source": [
        "#@title Experiment Walkthrough Video\n",
        "\n",
        "from IPython.display import HTML\n",
        "\n",
        "HTML(\"\"\"<video width=\"854\" height=\"480\" controls>\n",
        "<source src=\"https://cdn.exec.talentsprint.com/content/yes_no_classifier.mp4\" type=\"video/mp4\">\n",
        "</video>\"\"\")"
      ],
      "execution_count": null,
      "outputs": []
    },
    {
      "cell_type": "markdown",
      "metadata": {
        "id": "tbAmXhdzFoX5"
      },
      "source": [
        "## Dataset"
      ]
    },
    {
      "cell_type": "markdown",
      "metadata": {
        "id": "chgrAe1GFrYb"
      },
      "source": [
        "### Description\n",
        "The dataset used in the experiment contains 2661 audio samples with the extension .wav.\n",
        "\n",
        "Each audio sample has utterances 'yes' or 'no'\n",
        "\n",
        "The naming convention of the sample is of the format 'yes_no/' followed by '10' (representing 'yes') or '11' (representing 'no')\n",
        "\n",
        "Ex:   \n",
        "\n",
        "        'yes_no/10_g38_46.wav'    ---> yes audio sample\n",
        "        'yes_no/11_G6_11.wav'     ---> no audio sample\n",
        "\n"
      ]
    },
    {
      "cell_type": "markdown",
      "metadata": {
        "id": "ISxllNzfFtwa"
      },
      "source": [
        "## Domain Information\n",
        "\n",
        "When we listen to an audio sample it changes constantly. This means that speech is non-stationary signal. Therefore, normal signal processing techniques cannot be applied to get features from audio. However, if the speech signal is observed using a very small duration window, the speech content in that small duration appears to be  stationary. That brought in the concept of short-time processing of speech.\n",
        "\n",
        "MFCC is a techique for short-time processing of speech.\n",
        "\n",
        "**Note: While it is a bonus to understand 'how' a speech signal is converted to a 'representation' by MFCC (or other similar speech processing techniques), it is not mandatory to understand the same. It is sufficient to realize that you're generating a unique numeric representation (a set of numbers) of a speech signal and that this unique representation helps you run your machine learning algorithms over the samples.**"
      ]
    },
    {
      "cell_type": "markdown",
      "metadata": {
        "id": "mZUtIsOUFv_a"
      },
      "source": [
        "## AIML Technique\n",
        "\n",
        "In this short-time processing technique MFCC, a small duration window (say 25 milli sec) is considered for processing of the audio samples at a time. This small duration is called a frame. Now, for each of the frames, MFCC features are computed which give a compact representation of the audio samples. A spectogram is computed for audio samples which gives a heat map of frequencies vs time from the series of spectral vectors generated from audio samples.\n",
        "\n",
        "This representation is obtained by keeping in mind that humans are much better at grasping small changes in the audio at low frequencies than audio at high frequencies. So mel-scale converts high frequencies to human graspable frequencies."
      ]
    },
    {
      "cell_type": "markdown",
      "metadata": {
        "id": "BNLA8HiKxQhc"
      },
      "source": [
        "### Setup Steps:"
      ]
    },
    {
      "cell_type": "code",
      "metadata": {
        "id": "2YzfoPvJDiTX"
      },
      "source": [
        "#@title Please enter your registration id to start: { run: \"auto\", display-mode: \"form\" }\n",
        "Id = \"2418775\" #@param {type:\"string\"}"
      ],
      "execution_count": 1,
      "outputs": []
    },
    {
      "cell_type": "code",
      "metadata": {
        "id": "rEzlYL4CDrmE"
      },
      "source": [
        "#@title Please enter your password (normally your phone number) to continue: { run: \"auto\", display-mode: \"form\" }\n",
        "password = \"9959000490\" #@param {type:\"string\"}"
      ],
      "execution_count": 2,
      "outputs": []
    },
    {
      "cell_type": "code",
      "metadata": {
        "id": "WBPPuGmBlDIN",
        "cellView": "form",
        "outputId": "c7ce39ab-d1a5-48ed-baea-a10869da52c4",
        "colab": {
          "base_uri": "https://localhost:8080/",
          "height": 34
        }
      },
      "source": [
        "#@title Run this cell to complete the setup for this Notebook\n",
        "from IPython import get_ipython\n",
        "import re\n",
        "ipython = get_ipython()\n",
        "\n",
        "notebook= \"U2W8_27_Yes_No_Classifier_Speech_C\" #name of the notebook\n",
        "\n",
        "def setup():\n",
        "#  ipython.magic(\"sx pip3 install torch\")\n",
        "    from IPython.display import HTML, display\n",
        "    ipython.magic(\"sx wget https://cdn.talentsprint.com/aiml/Experiment_related_data/yes_no.zip\")\n",
        "    ipython.magic(\"sx unzip yes_no.zip\")\n",
        "    display(HTML('<script src=\"https://dashboard.talentsprint.com/aiml/record_ip.html?traineeId={0}&recordId={1}\"></script>'.format(getId(),submission_id)))\n",
        "    print(\"Setup completed successfully\")\n",
        "    return\n",
        "\n",
        "def submit_notebook():\n",
        "    ipython.magic(\"notebook -e \"+ notebook + \".ipynb\")\n",
        "\n",
        "    import requests, json, base64, datetime\n",
        "\n",
        "    url = \"https://dashboard.talentsprint.com/xp/app/save_notebook_attempts\"\n",
        "    if not submission_id:\n",
        "      data = {\"id\" : getId(), \"notebook\" : notebook, \"mobile\" : getPassword()}\n",
        "      r = requests.post(url, data = data)\n",
        "      r = json.loads(r.text)\n",
        "\n",
        "      if r[\"status\"] == \"Success\":\n",
        "          return r[\"record_id\"]\n",
        "      elif \"err\" in r:\n",
        "        print(r[\"err\"])\n",
        "        return None\n",
        "      else:\n",
        "        print (\"Something is wrong, the notebook will not be submitted for grading\")\n",
        "        return None\n",
        "\n",
        "    elif getAnswer() and getComplexity() and getAdditional() and getConcepts() and getWalkthrough() and getComments() and getMentorSupport():\n",
        "      f = open(notebook + \".ipynb\", \"rb\")\n",
        "      file_hash = base64.b64encode(f.read())\n",
        "\n",
        "      data = {\"complexity\" : Complexity, \"additional\" :Additional,\n",
        "              \"concepts\" : Concepts, \"record_id\" : submission_id,\n",
        "              \"answer\" : Answer, \"id\" : Id, \"file_hash\" : file_hash,\n",
        "              \"notebook\" : notebook, \"feedback_walkthrough\":Walkthrough ,\n",
        "              \"feedback_experiments_input\" : Comments,\n",
        "              \"feedback_inclass_mentor\": Mentor_support}\n",
        "\n",
        "      r = requests.post(url, data = data)\n",
        "      r = json.loads(r.text)\n",
        "      if \"err\" in r:\n",
        "        print(r[\"err\"])\n",
        "        return None\n",
        "      else:\n",
        "        print(\"Your submission is successful.\")\n",
        "        print(\"Ref Id:\", submission_id)\n",
        "        print(\"Date of submission: \", r[\"date\"])\n",
        "        print(\"Time of submission: \", r[\"time\"])\n",
        "        print(\"View your submissions: https://learn-iiith.talentsprint.com/notebook_submissions\")\n",
        "        #print(\"For any queries/discrepancies, please connect with mentors through the chat icon in LMS dashboard.\")\n",
        "        return submission_id\n",
        "    else: submission_id\n",
        "\n",
        "\n",
        "def getAdditional():\n",
        "  try:\n",
        "    if not Additional:\n",
        "      raise NameError\n",
        "    else:\n",
        "      return Additional\n",
        "  except NameError:\n",
        "    print (\"Please answer Additional Question\")\n",
        "    return None\n",
        "\n",
        "def getComplexity():\n",
        "  try:\n",
        "    if not Complexity:\n",
        "      raise NameError\n",
        "    else:\n",
        "      return Complexity\n",
        "  except NameError:\n",
        "    print (\"Please answer Complexity Question\")\n",
        "    return None\n",
        "\n",
        "def getConcepts():\n",
        "  try:\n",
        "    if not Concepts:\n",
        "      raise NameError\n",
        "    else:\n",
        "      return Concepts\n",
        "  except NameError:\n",
        "    print (\"Please answer Concepts Question\")\n",
        "    return None\n",
        "\n",
        "\n",
        "def getWalkthrough():\n",
        "  try:\n",
        "    if not Walkthrough:\n",
        "      raise NameError\n",
        "    else:\n",
        "      return Walkthrough\n",
        "  except NameError:\n",
        "    print (\"Please answer Walkthrough Question\")\n",
        "    return None\n",
        "\n",
        "def getComments():\n",
        "  try:\n",
        "    if not Comments:\n",
        "      raise NameError\n",
        "    else:\n",
        "      return Comments\n",
        "  except NameError:\n",
        "    print (\"Please answer Comments Question\")\n",
        "    return None\n",
        "\n",
        "\n",
        "def getMentorSupport():\n",
        "  try:\n",
        "    if not Mentor_support:\n",
        "      raise NameError\n",
        "    else:\n",
        "      return Mentor_support\n",
        "  except NameError:\n",
        "    print (\"Please answer Mentor support Question\")\n",
        "    return None\n",
        "\n",
        "def getAnswer():\n",
        "  try:\n",
        "    if not Answer:\n",
        "      raise NameError\n",
        "    else:\n",
        "      return Answer\n",
        "  except NameError:\n",
        "    print (\"Please answer Question\")\n",
        "    return None\n",
        "\n",
        "\n",
        "def getId():\n",
        "  try:\n",
        "    return Id if Id else None\n",
        "  except NameError:\n",
        "    return None\n",
        "\n",
        "def getPassword():\n",
        "  try:\n",
        "    return password if password else None\n",
        "  except NameError:\n",
        "    return None\n",
        "\n",
        "submission_id = None\n",
        "### Setup\n",
        "if getPassword() and getId():\n",
        "  submission_id = submit_notebook()\n",
        "  if submission_id:\n",
        "    setup()\n",
        "else:\n",
        "  print (\"Please complete Id and Password cells before running setup\")\n",
        "\n"
      ],
      "execution_count": 3,
      "outputs": [
        {
          "output_type": "display_data",
          "data": {
            "text/plain": [
              "<IPython.core.display.HTML object>"
            ],
            "text/html": [
              "<script src=\"https://dashboard.talentsprint.com/aiml/record_ip.html?traineeId=2418775&recordId=1516\"></script>"
            ]
          },
          "metadata": {}
        },
        {
          "output_type": "stream",
          "name": "stdout",
          "text": [
            "Setup completed successfully\n"
          ]
        }
      ]
    },
    {
      "cell_type": "markdown",
      "metadata": {
        "id": "8L2zGiq9foa2"
      },
      "source": [
        "## Importing Required Packages"
      ]
    },
    {
      "cell_type": "code",
      "metadata": {
        "id": "D_wB9zdv_b9y"
      },
      "source": [
        "import numpy as np\n",
        "import librosa\n",
        "\n",
        "# Visualization\n",
        "import matplotlib.pyplot as plt\n",
        "import librosa.display\n",
        "\n",
        "# Import glob to perform pattern matching to find files\n",
        "import glob\n",
        "\n",
        "# Import train_test_split to split the data into train and test sets\n",
        "from sklearn.model_selection import train_test_split\n",
        "\n",
        "# Import MLPClassifier to be trained on features of wav files\n",
        "from sklearn.neural_network import MLPClassifier"
      ],
      "execution_count": 4,
      "outputs": []
    },
    {
      "cell_type": "markdown",
      "metadata": {
        "id": "Ogx1P_LqHUxj"
      },
      "source": [
        "## About glob.iglob:\n",
        "\n",
        "The glob library  provides methods for traversing the file system and returning files that matched a defined set of glob patterns. Here it helps traverse file name matching the \".wav\" pattern\n",
        "\n",
        "**Note:** Refer to  [glob.iglob](https://docs.python.org/3/library/glob.html)"
      ]
    },
    {
      "cell_type": "code",
      "metadata": {
        "id": "3aQBPBaX3W8S"
      },
      "source": [
        "labels = []\n",
        "wave_files = []\n",
        "for filename in glob.iglob('yes_no/*.wav', recursive=True):\n",
        "  # Store the labels of each wav file in a list\n",
        "  labels.append(int((filename.split(\"/\")[-1]).split(\"_\")[0])) # Split the file name to get the labels of the audio files\n",
        "  # Store the wav files in a list\n",
        "  wave_files.append(filename)"
      ],
      "execution_count": 5,
      "outputs": []
    },
    {
      "cell_type": "code",
      "metadata": {
        "id": "pmKykvSxsgd4",
        "outputId": "4fa12b35-f5d5-4452-84cc-c4f10d9ded44",
        "colab": {
          "base_uri": "https://localhost:8080/"
        }
      },
      "source": [
        "# Check the length of wav files\n",
        "len(wave_files)"
      ],
      "execution_count": 6,
      "outputs": [
        {
          "output_type": "execute_result",
          "data": {
            "text/plain": [
              "2661"
            ]
          },
          "metadata": {},
          "execution_count": 6
        }
      ]
    },
    {
      "cell_type": "markdown",
      "metadata": {
        "id": "YtEBGU5fW76z"
      },
      "source": [
        "## Mel Spectrogram\n",
        "\n",
        "Human ears tend to listen to sounds on the log scale. That means, at lower frequencies we can detect small changes, but at higher frequencies our ears become less sensitive to small changes. For example, the difference between 10 Hz and 20 Hz would sound almost the same to us as that between 1000 Hz and 2000 Hz.\n",
        "\n",
        "Let us compute the Mel Spectrogram features using a convenient function in the `librosa` library in Python:"
      ]
    },
    {
      "cell_type": "markdown",
      "metadata": {
        "id": "Y10Vz0VDYZnC"
      },
      "source": [
        "Below is the function for loading the wavefile and extracting the melspectogram features at a sample rate\n",
        "\n",
        "* Refer to [librosa.load](http://man.hubwiz.com/docset/LibROSA.docset/Contents/Resources/Documents/generated/librosa.core.load.html)\n",
        "\n",
        "* Refer to [librosa.feature.melspectrogram](https://librosa.org/doc/main/generated/librosa.feature.melspectrogram.html)"
      ]
    },
    {
      "cell_type": "code",
      "metadata": {
        "id": "ZUuLLyddYZnE"
      },
      "source": [
        "def get_melspectrogram_features(filename):\n",
        "    y, sr = librosa.load(filename)\n",
        "    S = librosa.feature.melspectrogram(y=y, sr=sr, n_mels=128)\n",
        "    # The log of the spectrogram is a better parameter to observe rather than the spectrogram itself.\n",
        "    # Convert to log scale (dB). We'll use the peak power (max) as reference.\n",
        "    log_S = librosa.power_to_db(S, ref=np.max)\n",
        "    return log_S,sr"
      ],
      "execution_count": 7,
      "outputs": []
    },
    {
      "cell_type": "markdown",
      "metadata": {
        "id": "qbXV7RceYZnL"
      },
      "source": [
        "Let us try to extract the features for one of the wave file and plot the melspectrogram\n",
        "\n",
        "**Note:** Refer to [librosa.display.specshow](https://librosa.org/doc/latest/generated/librosa.display.specshow.html)\n"
      ]
    },
    {
      "cell_type": "code",
      "metadata": {
        "id": "XtUy-DaP_b9-",
        "outputId": "30f98313-49c4-4fdf-a103-00c15cd0635b",
        "colab": {
          "base_uri": "https://localhost:8080/",
          "height": 407
        }
      },
      "source": [
        "features, sr = get_melspectrogram_features(wave_files[0])\n",
        "plt.figure(figsize=(12, 4))\n",
        "librosa.display.specshow(features, sr=sr, x_axis='time', y_axis='mel')\n",
        "plt.title('Mel power spectrogram ')\n",
        "plt.colorbar(format='%+02.0f dB')\n",
        "plt.tight_layout()"
      ],
      "execution_count": 8,
      "outputs": [
        {
          "output_type": "display_data",
          "data": {
            "text/plain": [
              "<Figure size 1200x400 with 2 Axes>"
            ],
            "image/png": "[encoded data removed]"
          },
          "metadata": {}
        }
      ]
    },
    {
      "cell_type": "code",
      "metadata": {
        "id": "Qin-hjCShaoU",
        "outputId": "c9070ccf-0919-443e-e256-969b631a0b2b",
        "colab": {
          "base_uri": "https://localhost:8080/",
          "height": 52
        }
      },
      "source": [
        "# Play the audio from wave file\n",
        "import IPython.display as ipd\n",
        "ipd.Audio(wave_files[0])"
      ],
      "execution_count": 9,
      "outputs": [
        {
          "output_type": "execute_result",
          "data": {
            "text/plain": [
              "<IPython.lib.display.Audio object>"
            ],
            "text/html": [
              "\n",
              "                <audio  controls=\"controls\" >\n",
              "                    <source src=\"data:audio/x-wav;base64,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\" type=\"audio/x-wav\" />\n",
              "                    Your browser does not support the audio element.\n",
              "                </audio>\n",
              "              "
            ]
          },
          "metadata": {},
          "execution_count": 9
        }
      ]
    },
    {
      "cell_type": "markdown",
      "metadata": {
        "id": "yiZMR8ZxInfO"
      },
      "source": [
        "## Extract the MFCC features for all Audio files\n",
        "\n",
        "\n",
        "* Refer to [librosa.load](http://man.hubwiz.com/docset/LibROSA.docset/Contents/Resources/Documents/generated/librosa.core.load.html)\n",
        "\n",
        "\n",
        "*   Refer to [librosa.feature.mfcc](https://librosa.org/doc/0.7.2/generated/librosa.feature.mfcc.html)  "
      ]
    },
    {
      "cell_type": "code",
      "metadata": {
        "id": "DP-3oye8TZxb"
      },
      "source": [
        "n_mfcc = 30  # mfcc features"
      ],
      "execution_count": 10,
      "outputs": []
    },
    {
      "cell_type": "markdown",
      "metadata": {
        "id": "WVJqijHmK3CX"
      },
      "source": [
        "Since our ear cannot response to very fast change of speech data, we normally cut the speech data into frames before analysis.\n"
      ]
    },
    {
      "cell_type": "code",
      "metadata": {
        "id": "h_9CS41S_b96"
      },
      "source": [
        "# Extract MFCC features\n",
        "\n",
        "def get_mfcc_features(filename, sr=7000):\n",
        "    frames = 15          # Get the MFCC features with frame size 15\n",
        "    # Load the audio files with the sampling rate 7000.\n",
        "    y, sr = librosa.load(filename, sr=sr)\n",
        "    features = librosa.feature.mfcc(y=y, sr=sr, n_mfcc=30)\n",
        "    # We need to split the signal into short-time frames as the frequencies in a signal change over time.\n",
        "    # So in most cases we don't do the Fourier transform across the entire signal.\n",
        "    if features.shape[1] < frames :\n",
        "        features = np.hstack((features, np.zeros((n_mfcc, frames - features.shape[1]))))\n",
        "    elif features.shape[1] > frames:\n",
        "        features = features[:, :frames]\n",
        "    return features"
      ],
      "execution_count": 11,
      "outputs": []
    },
    {
      "cell_type": "markdown",
      "metadata": {
        "id": "mVCKIjMfgCST"
      },
      "source": [
        "## Extracting mfcc features for all the samples"
      ]
    },
    {
      "cell_type": "code",
      "metadata": {
        "id": "ZZniCuHD_b-R"
      },
      "source": [
        "features = []                  # It takes some time to run this cell\n",
        "for filename in wave_files:\n",
        "    fea = get_mfcc_features(filename)\n",
        "    features.append(fea)"
      ],
      "execution_count": 12,
      "outputs": []
    },
    {
      "cell_type": "code",
      "metadata": {
        "id": "c_QdLHH3Om2a",
        "outputId": "c962ff0b-5bc2-40d1-97c6-e31e46e1399f",
        "colab": {
          "base_uri": "https://localhost:8080/"
        }
      },
      "source": [
        "# Check the shape of the features\n",
        "features[0].shape"
      ],
      "execution_count": 13,
      "outputs": [
        {
          "output_type": "execute_result",
          "data": {
            "text/plain": [
              "(30, 15)"
            ]
          },
          "metadata": {},
          "execution_count": 13
        }
      ]
    },
    {
      "cell_type": "markdown",
      "metadata": {
        "id": "ukfzjKvigEAa"
      },
      "source": [
        "## Split the mfcc features into train and test sets with 80-20 split"
      ]
    },
    {
      "cell_type": "code",
      "metadata": {
        "id": "_FUreImQ_b-W"
      },
      "source": [
        "X_train, X_test, y_train, y_test = train_test_split(features, labels, test_size = 0.2)"
      ],
      "execution_count": 14,
      "outputs": []
    },
    {
      "cell_type": "markdown",
      "metadata": {
        "id": "Htjjq8CbgHmk"
      },
      "source": [
        "Get the length of the train and test data"
      ]
    },
    {
      "cell_type": "code",
      "metadata": {
        "id": "04PKEJDJ_b-a",
        "outputId": "c59ac7c7-e85a-41a9-eda9-0e220713da45",
        "colab": {
          "base_uri": "https://localhost:8080/"
        }
      },
      "source": [
        "len(X_train), len(X_test), len(y_train), len(y_test)"
      ],
      "execution_count": 15,
      "outputs": [
        {
          "output_type": "execute_result",
          "data": {
            "text/plain": [
              "(2128, 533, 2128, 533)"
            ]
          },
          "metadata": {},
          "execution_count": 15
        }
      ]
    },
    {
      "cell_type": "code",
      "metadata": {
        "id": "N5vsTt1A_b-g"
      },
      "source": [
        "# Convert the X_train to an array and reshape from 2128*30*15 to 2128*450\n",
        "\n",
        "X_train = np.array(X_train)\n",
        "X_train = X_train.reshape(X_train.shape[0], X_train.shape[1] *  X_train.shape[2])\n",
        "\n",
        "# Convert the X_test to an array and reshape from 533*30*15 to 533*450\n",
        "\n",
        "X_test = np.array(X_test)\n",
        "X_test = X_test.reshape(X_test.shape[0], X_test.shape[1] *  X_test.shape[2])"
      ],
      "execution_count": 16,
      "outputs": []
    },
    {
      "cell_type": "code",
      "metadata": {
        "id": "smcjlD8h-sIw",
        "outputId": "ff294b10-3d49-424b-9d18-ea2109f14b2e",
        "colab": {
          "base_uri": "https://localhost:8080/"
        }
      },
      "source": [
        "# Get the shape of X_train, X_test\n",
        "X_train.shape, X_test.shape"
      ],
      "execution_count": 17,
      "outputs": [
        {
          "output_type": "execute_result",
          "data": {
            "text/plain": [
              "((2128, 450), (533, 450))"
            ]
          },
          "metadata": {},
          "execution_count": 17
        }
      ]
    },
    {
      "cell_type": "markdown",
      "metadata": {
        "id": "hAyyo1mQPtMC"
      },
      "source": [
        "## Apply MLP classifier on the MFCC features\n",
        "\n",
        "**Note:** Refer to [MLP Classifier](https://scikit-learn.org/stable/modules/generated/sklearn.neural_network.MLPClassifier.html) from sklearn"
      ]
    },
    {
      "cell_type": "code",
      "metadata": {
        "id": "VdPIHTV0_b-j"
      },
      "source": [
        "# Create a object for MLPClassifier\n",
        "clf = MLPClassifier(activation='logistic', hidden_layer_sizes=(100,50), random_state=1, solver='adam', max_iter=500)\n",
        "\n",
        "# Fit the train fetaures and labels to the classifier\n",
        "clf.fit(np.array(X_train), np.array(y_train))\n",
        "\n",
        "# Predict the labels of the test features\n",
        "predicted_values = clf.predict(X_test)"
      ],
      "execution_count": 18,
      "outputs": []
    },
    {
      "cell_type": "code",
      "metadata": {
        "id": "2pGxbZeN_b-5",
        "outputId": "e7a58eed-37c6-439f-b107-9cd8ea2ee3cb",
        "colab": {
          "base_uri": "https://localhost:8080/"
        }
      },
      "source": [
        "# Get the accuracy score by comparing predicted labels and test labels\n",
        "from sklearn.metrics import accuracy_score\n",
        "accuracy_score(y_test,predicted_values)"
      ],
      "execution_count": 19,
      "outputs": [
        {
          "output_type": "execute_result",
          "data": {
            "text/plain": [
              "0.8330206378986866"
            ]
          },
          "metadata": {},
          "execution_count": 19
        }
      ]
    },
    {
      "cell_type": "markdown",
      "metadata": {
        "id": "w4-oWiOAI7kZ"
      },
      "source": [
        "### Please answer the questions below to complete the experiment:\n",
        "\n",
        "\n"
      ]
    },
    {
      "cell_type": "code",
      "metadata": {
        "id": "Hvm-8H2RI7kd"
      },
      "source": [
        "#@title 'Sampling rate' of the audio file is one of the input parameters of the MLPClassifier (of SKlearn) that is used above? { run: \"auto\", form-width: \"500px\", display-mode: \"form\" }\n",
        "Answer = \"FALSE\" #@param [\"\",\"TRUE\", \"FALSE\"]"
      ],
      "execution_count": 20,
      "outputs": []
    },
    {
      "cell_type": "code",
      "metadata": {
        "id": "NMzKSbLIgFzQ"
      },
      "source": [
        "#@title How was the experiment? { run: \"auto\", form-width: \"500px\", display-mode: \"form\" }\n",
        "Complexity = \"Good and Challenging for me\" #@param [\"\",\"Too Simple, I am wasting time\", \"Good, But Not Challenging for me\", \"Good and Challenging for me\", \"Was Tough, but I did it\", \"Too Difficult for me\"]\n"
      ],
      "execution_count": 21,
      "outputs": []
    },
    {
      "cell_type": "code",
      "metadata": {
        "id": "DjcH1VWSFI2l"
      },
      "source": [
        "#@title If it was too easy, what more would you have liked to be added? If it was very difficult, what would you have liked to have been removed? { run: \"auto\", display-mode: \"form\" }\n",
        "Additional = \"Its good\" #@param {type:\"string\"}\n"
      ],
      "execution_count": 22,
      "outputs": []
    },
    {
      "cell_type": "code",
      "metadata": {
        "id": "94dIhQKDI7kf"
      },
      "source": [
        "#@title Can you identify the concepts from the lecture which this experiment covered? { run: \"auto\", vertical-output: true, display-mode: \"form\" }\n",
        "Concepts = \"Yes\" #@param [\"\",\"Yes\", \"No\"]\n"
      ],
      "execution_count": 23,
      "outputs": []
    },
    {
      "cell_type": "code",
      "metadata": {
        "id": "YKzGvfdyI7kg"
      },
      "source": [
        "#@title  Experiment walkthrough video? { run: \"auto\", vertical-output: true, display-mode: \"form\" }\n",
        "Walkthrough = \"Very Useful\" #@param [\"\",\"Very Useful\", \"Somewhat Useful\", \"Not Useful\", \"Didn't use\"]\n"
      ],
      "execution_count": 24,
      "outputs": []
    },
    {
      "cell_type": "code",
      "metadata": {
        "id": "2OjkIq7II7kh"
      },
      "source": [
        "#@title  Text and image description/explanation and code comments within the experiment: { run: \"auto\", vertical-output: true, display-mode: \"form\" }\n",
        "Comments = \"Very Useful\" #@param [\"\",\"Very Useful\", \"Somewhat Useful\", \"Not Useful\", \"Didn't use\"]\n"
      ],
      "execution_count": 25,
      "outputs": []
    },
    {
      "cell_type": "code",
      "metadata": {
        "id": "OwLT_C0vI7ki"
      },
      "source": [
        "#@title Mentor Support: { run: \"auto\", vertical-output: true, display-mode: \"form\" }\n",
        "Mentor_support = \"Somewhat Useful\" #@param [\"\",\"Very Useful\", \"Somewhat Useful\", \"Not Useful\", \"Didn't use\"]\n"
      ],
      "execution_count": 26,
      "outputs": []
    },
    {
      "cell_type": "code",
      "metadata": {
        "cellView": "form",
        "id": "gPMKJg_eI7kj",
        "outputId": "e261277a-4037-49d0-a90b-f6b51514f5c8",
        "colab": {
          "base_uri": "https://localhost:8080/"
        }
      },
      "source": [
        "#@title Run this cell to submit your notebook for grading { vertical-output: true }\n",
        "try:\n",
        "  if submission_id:\n",
        "      return_id = submit_notebook()\n",
        "      if return_id : submission_id = return_id\n",
        "  else:\n",
        "      print(\"Please complete the setup first.\")\n",
        "except NameError:\n",
        "  print (\"Please complete the setup first.\")"
      ],
      "execution_count": 27,
      "outputs": [
        {
          "output_type": "stream",
          "name": "stdout",
          "text": [
            "Your submission is successful.\n",
            "Ref Id: 1516\n",
            "Date of submission:  17 Jan 2025\n",
            "Time of submission:  18:34:58\n",
            "View your submissions: https://learn-iiith.talentsprint.com/notebook_submissions\n"
          ]
        }
      ]
    }
  ]
}