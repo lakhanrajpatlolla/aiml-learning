{
  "nbformat": 4,
  "nbformat_minor": 0,
  "metadata": {
    "colab": {
      "provenance": [],
      "gpuType": "T4",
      "include_colab_link": true
    },
    "kernelspec": {
      "name": "python3",
      "display_name": "Python 3"
    },
    "language_info": {
      "name": "python"
    },
    "accelerator": "GPU"
  },
  "cells": [
    {
      "cell_type": "markdown",
      "metadata": {
        "id": "view-in-github",
        "colab_type": "text"
      },
      "source": [
        "<a href=\"https://colab.research.google.com/github/lakhanrajpatlolla/aiml-learning/blob/master/PyTorch_MB_I.ipynb\" target=\"_parent\"><img src=\"https://colab.research.google.com/assets/colab-badge.svg\" alt=\"Open In Colab\"/></a>"
      ]
    },
    {
      "cell_type": "markdown",
      "source": [
        "\n",
        "## PyTorch : Model Building - I & Data Class"
      ],
      "metadata": {
        "id": "eRAzj-CJkofA"
      }
    },
    {
      "cell_type": "markdown",
      "source": [
        "## Learning Objectives\n",
        "\n",
        "At the end of the experiment, you will be able to\n",
        "\n",
        "* understand & build different components of Model Class in PyTorch through a regression example\n",
        "* understand & build  the train and test loop in PyTorch\n",
        "* understand & build Customdataset Class in PyTorch\n",
        "* understand batch processing in PyTorch\n",
        "* understand & use dataloader in PyTorch"
      ],
      "metadata": {
        "id": "Uvitdh7p2xbG"
      }
    },
    {
      "cell_type": "code",
      "source": [
        "import torch\n",
        "import pandas as pd\n",
        "import numpy as np\n",
        "from sklearn.model_selection import train_test_split\n",
        "from sklearn import metrics\n",
        "import matplotlib.pyplot as plt"
      ],
      "metadata": {
        "id": "-daPbjVm2dnB"
      },
      "execution_count": null,
      "outputs": []
    },
    {
      "cell_type": "code",
      "source": [
        "# Check PyTorch version\n",
        "torch.__version__"
      ],
      "metadata": {
        "id": "gO7qF2mmty_Z",
        "colab": {
          "base_uri": "https://localhost:8080/",
          "height": 36
        },
        "outputId": "9566f761-524f-4dc5-c6b3-169c3571447c"
      },
      "execution_count": null,
      "outputs": [
        {
          "output_type": "execute_result",
          "data": {
            "text/plain": [
              "'2.5.1+cu124'"
            ],
            "application/vnd.google.colaboratory.intrinsic+json": {
              "type": "string"
            }
          },
          "metadata": {},
          "execution_count": 2
        }
      ]
    },
    {
      "cell_type": "markdown",
      "source": [
        "### **Downloading  & Understanding data**"
      ],
      "metadata": {
        "id": "fg1mxKRnxKhw"
      }
    },
    {
      "cell_type": "code",
      "source": [
        "!wget -qq https://cdn.iisc.talentsprint.com/AIandMLOps/Datasets/data1.txt"
      ],
      "metadata": {
        "id": "MRrN_z1fwnQL"
      },
      "execution_count": null,
      "outputs": []
    },
    {
      "cell_type": "markdown",
      "source": [
        "#### Visualizing the data"
      ],
      "metadata": {
        "id": "GIj7Ftq8xQq5"
      }
    },
    {
      "cell_type": "code",
      "execution_count": null,
      "metadata": {
        "id": "_yj3RVXssJmc",
        "colab": {
          "base_uri": "https://localhost:8080/",
          "height": 206
        },
        "outputId": "eaaf26a8-8fb7-4db0-e717-9e3b75727dc5",
        "collapsed": true
      },
      "outputs": [
        {
          "output_type": "execute_result",
          "data": {
            "text/plain": [
              "   Population   Profit\n",
              "0      6.1101  17.5920\n",
              "1      5.5277   9.1302\n",
              "2      8.5186  13.6620\n",
              "3      7.0032  11.8540\n",
              "4      5.8598   6.8233"
            ],
            "text/html": [
              "\n",
              "  <div id=\"df-8db796d6-fa82-4494-882a-a63cce9d2330\" class=\"colab-df-container\">\n",
              "    <div>\n",
              "<style scoped>\n",
              "    .dataframe tbody tr th:only-of-type {\n",
              "        vertical-align: middle;\n",
              "    }\n",
              "\n",
              "    .dataframe tbody tr th {\n",
              "        vertical-align: top;\n",
              "    }\n",
              "\n",
              "    .dataframe thead th {\n",
              "        text-align: right;\n",
              "    }\n",
              "</style>\n",
              "<table border=\"1\" class=\"dataframe\">\n",
              "  <thead>\n",
              "    <tr style=\"text-align: right;\">\n",
              "      <th></th>\n",
              "      <th>Population</th>\n",
              "      <th>Profit</th>\n",
              "    </tr>\n",
              "  </thead>\n",
              "  <tbody>\n",
              "    <tr>\n",
              "      <th>0</th>\n",
              "      <td>6.1101</td>\n",
              "      <td>17.5920</td>\n",
              "    </tr>\n",
              "    <tr>\n",
              "      <th>1</th>\n",
              "      <td>5.5277</td>\n",
              "      <td>9.1302</td>\n",
              "    </tr>\n",
              "    <tr>\n",
              "      <th>2</th>\n",
              "      <td>8.5186</td>\n",
              "      <td>13.6620</td>\n",
              "    </tr>\n",
              "    <tr>\n",
              "      <th>3</th>\n",
              "      <td>7.0032</td>\n",
              "      <td>11.8540</td>\n",
              "    </tr>\n",
              "    <tr>\n",
              "      <th>4</th>\n",
              "      <td>5.8598</td>\n",
              "      <td>6.8233</td>\n",
              "    </tr>\n",
              "  </tbody>\n",
              "</table>\n",
              "</div>\n",
              "    <div class=\"colab-df-buttons\">\n",
              "\n",
              "  <div class=\"colab-df-container\">\n",
              "    <button class=\"colab-df-convert\" onclick=\"convertToInteractive('df-8db796d6-fa82-4494-882a-a63cce9d2330')\"\n",
              "            title=\"Convert this dataframe to an interactive table.\"\n",
              "            style=\"display:none;\">\n",
              "\n",
              "  <svg xmlns=\"http://www.w3.org/2000/svg\" height=\"24px\" viewBox=\"0 -960 960 960\">\n",
              "    <path d=\"M120-120v-720h720v720H120Zm60-500h600v-160H180v160Zm220 220h160v-160H400v160Zm0 220h160v-160H400v160ZM180-400h160v-160H180v160Zm440 0h160v-160H620v160ZM180-180h160v-160H180v160Zm440 0h160v-160H620v160Z\"/>\n",
              "  </svg>\n",
              "    </button>\n",
              "\n",
              "  <style>\n",
              "    .colab-df-container {\n",
              "      display:flex;\n",
              "      gap: 12px;\n",
              "    }\n",
              "\n",
              "    .colab-df-convert {\n",
              "      background-color: #E8F0FE;\n",
              "      border: none;\n",
              "      border-radius: 50%;\n",
              "      cursor: pointer;\n",
              "      display: none;\n",
              "      fill: #1967D2;\n",
              "      height: 32px;\n",
              "      padding: 0 0 0 0;\n",
              "      width: 32px;\n",
              "    }\n",
              "\n",
              "    .colab-df-convert:hover {\n",
              "      background-color: #E2EBFA;\n",
              "      box-shadow: 0px 1px 2px rgba(60, 64, 67, 0.3), 0px 1px 3px 1px rgba(60, 64, 67, 0.15);\n",
              "      fill: #174EA6;\n",
              "    }\n",
              "\n",
              "    .colab-df-buttons div {\n",
              "      margin-bottom: 4px;\n",
              "    }\n",
              "\n",
              "    [theme=dark] .colab-df-convert {\n",
              "      background-color: #3B4455;\n",
              "      fill: #D2E3FC;\n",
              "    }\n",
              "\n",
              "    [theme=dark] .colab-df-convert:hover {\n",
              "      background-color: #434B5C;\n",
              "      box-shadow: 0px 1px 3px 1px rgba(0, 0, 0, 0.15);\n",
              "      filter: drop-shadow(0px 1px 2px rgba(0, 0, 0, 0.3));\n",
              "      fill: #FFFFFF;\n",
              "    }\n",
              "  </style>\n",
              "\n",
              "    <script>\n",
              "      const buttonEl =\n",
              "        document.querySelector('#df-8db796d6-fa82-4494-882a-a63cce9d2330 button.colab-df-convert');\n",
              "      buttonEl.style.display =\n",
              "        google.colab.kernel.accessAllowed ? 'block' : 'none';\n",
              "\n",
              "      async function convertToInteractive(key) {\n",
              "        const element = document.querySelector('#df-8db796d6-fa82-4494-882a-a63cce9d2330');\n",
              "        const dataTable =\n",
              "          await google.colab.kernel.invokeFunction('convertToInteractive',\n",
              "                                                    [key], {});\n",
              "        if (!dataTable) return;\n",
              "\n",
              "        const docLinkHtml = 'Like what you see? Visit the ' +\n",
              "          '<a target=\"_blank\" href=https://colab.research.google.com/notebooks/data_table.ipynb>data table notebook</a>'\n",
              "          + ' to learn more about interactive tables.';\n",
              "        element.innerHTML = '';\n",
              "        dataTable['output_type'] = 'display_data';\n",
              "        await google.colab.output.renderOutput(dataTable, element);\n",
              "        const docLink = document.createElement('div');\n",
              "        docLink.innerHTML = docLinkHtml;\n",
              "        element.appendChild(docLink);\n",
              "      }\n",
              "    </script>\n",
              "  </div>\n",
              "\n",
              "\n",
              "<div id=\"df-327749f6-1e7b-4c7b-8931-d4bdf4378a03\">\n",
              "  <button class=\"colab-df-quickchart\" onclick=\"quickchart('df-327749f6-1e7b-4c7b-8931-d4bdf4378a03')\"\n",
              "            title=\"Suggest charts\"\n",
              "            style=\"display:none;\">\n",
              "\n",
              "<svg xmlns=\"http://www.w3.org/2000/svg\" height=\"24px\"viewBox=\"0 0 24 24\"\n",
              "     width=\"24px\">\n",
              "    <g>\n",
              "        <path d=\"M19 3H5c-1.1 0-2 .9-2 2v14c0 1.1.9 2 2 2h14c1.1 0 2-.9 2-2V5c0-1.1-.9-2-2-2zM9 17H7v-7h2v7zm4 0h-2V7h2v10zm4 0h-2v-4h2v4z\"/>\n",
              "    </g>\n",
              "</svg>\n",
              "  </button>\n",
              "\n",
              "<style>\n",
              "  .colab-df-quickchart {\n",
              "      --bg-color: #E8F0FE;\n",
              "      --fill-color: #1967D2;\n",
              "      --hover-bg-color: #E2EBFA;\n",
              "      --hover-fill-color: #174EA6;\n",
              "      --disabled-fill-color: #AAA;\n",
              "      --disabled-bg-color: #DDD;\n",
              "  }\n",
              "\n",
              "  [theme=dark] .colab-df-quickchart {\n",
              "      --bg-color: #3B4455;\n",
              "      --fill-color: #D2E3FC;\n",
              "      --hover-bg-color: #434B5C;\n",
              "      --hover-fill-color: #FFFFFF;\n",
              "      --disabled-bg-color: #3B4455;\n",
              "      --disabled-fill-color: #666;\n",
              "  }\n",
              "\n",
              "  .colab-df-quickchart {\n",
              "    background-color: var(--bg-color);\n",
              "    border: none;\n",
              "    border-radius: 50%;\n",
              "    cursor: pointer;\n",
              "    display: none;\n",
              "    fill: var(--fill-color);\n",
              "    height: 32px;\n",
              "    padding: 0;\n",
              "    width: 32px;\n",
              "  }\n",
              "\n",
              "  .colab-df-quickchart:hover {\n",
              "    background-color: var(--hover-bg-color);\n",
              "    box-shadow: 0 1px 2px rgba(60, 64, 67, 0.3), 0 1px 3px 1px rgba(60, 64, 67, 0.15);\n",
              "    fill: var(--button-hover-fill-color);\n",
              "  }\n",
              "\n",
              "  .colab-df-quickchart-complete:disabled,\n",
              "  .colab-df-quickchart-complete:disabled:hover {\n",
              "    background-color: var(--disabled-bg-color);\n",
              "    fill: var(--disabled-fill-color);\n",
              "    box-shadow: none;\n",
              "  }\n",
              "\n",
              "  .colab-df-spinner {\n",
              "    border: 2px solid var(--fill-color);\n",
              "    border-color: transparent;\n",
              "    border-bottom-color: var(--fill-color);\n",
              "    animation:\n",
              "      spin 1s steps(1) infinite;\n",
              "  }\n",
              "\n",
              "  @keyframes spin {\n",
              "    0% {\n",
              "      border-color: transparent;\n",
              "      border-bottom-color: var(--fill-color);\n",
              "      border-left-color: var(--fill-color);\n",
              "    }\n",
              "    20% {\n",
              "      border-color: transparent;\n",
              "      border-left-color: var(--fill-color);\n",
              "      border-top-color: var(--fill-color);\n",
              "    }\n",
              "    30% {\n",
              "      border-color: transparent;\n",
              "      border-left-color: var(--fill-color);\n",
              "      border-top-color: var(--fill-color);\n",
              "      border-right-color: var(--fill-color);\n",
              "    }\n",
              "    40% {\n",
              "      border-color: transparent;\n",
              "      border-right-color: var(--fill-color);\n",
              "      border-top-color: var(--fill-color);\n",
              "    }\n",
              "    60% {\n",
              "      border-color: transparent;\n",
              "      border-right-color: var(--fill-color);\n",
              "    }\n",
              "    80% {\n",
              "      border-color: transparent;\n",
              "      border-right-color: var(--fill-color);\n",
              "      border-bottom-color: var(--fill-color);\n",
              "    }\n",
              "    90% {\n",
              "      border-color: transparent;\n",
              "      border-bottom-color: var(--fill-color);\n",
              "    }\n",
              "  }\n",
              "</style>\n",
              "\n",
              "  <script>\n",
              "    async function quickchart(key) {\n",
              "      const quickchartButtonEl =\n",
              "        document.querySelector('#' + key + ' button');\n",
              "      quickchartButtonEl.disabled = true;  // To prevent multiple clicks.\n",
              "      quickchartButtonEl.classList.add('colab-df-spinner');\n",
              "      try {\n",
              "        const charts = await google.colab.kernel.invokeFunction(\n",
              "            'suggestCharts', [key], {});\n",
              "      } catch (error) {\n",
              "        console.error('Error during call to suggestCharts:', error);\n",
              "      }\n",
              "      quickchartButtonEl.classList.remove('colab-df-spinner');\n",
              "      quickchartButtonEl.classList.add('colab-df-quickchart-complete');\n",
              "    }\n",
              "    (() => {\n",
              "      let quickchartButtonEl =\n",
              "        document.querySelector('#df-327749f6-1e7b-4c7b-8931-d4bdf4378a03 button');\n",
              "      quickchartButtonEl.style.display =\n",
              "        google.colab.kernel.accessAllowed ? 'block' : 'none';\n",
              "    })();\n",
              "  </script>\n",
              "</div>\n",
              "\n",
              "    </div>\n",
              "  </div>\n"
            ],
            "application/vnd.google.colaboratory.intrinsic+json": {
              "type": "dataframe",
              "variable_name": "df",
              "summary": "{\n  \"name\": \"df\",\n  \"rows\": 97,\n  \"fields\": [\n    {\n      \"column\": \"Population\",\n      \"properties\": {\n        \"dtype\": \"number\",\n        \"std\": 3.869883527882332,\n        \"min\": 5.0269,\n        \"max\": 22.203,\n        \"num_unique_values\": 97,\n        \"samples\": [\n          21.279,\n          5.4069,\n          5.3054\n        ],\n        \"semantic_type\": \"\",\n        \"description\": \"\"\n      }\n    },\n    {\n      \"column\": \"Profit\",\n      \"properties\": {\n        \"dtype\": \"number\",\n        \"std\": 5.510262255231544,\n        \"min\": -2.6807,\n        \"max\": 24.147,\n        \"num_unique_values\": 97,\n        \"samples\": [\n          17.929,\n          0.55657,\n          1.9869\n        ],\n        \"semantic_type\": \"\",\n        \"description\": \"\"\n      }\n    }\n  ]\n}"
            }
          },
          "metadata": {},
          "execution_count": 4
        }
      ],
      "source": [
        "df=pd.read_csv('data1.txt',header=None)\n",
        "df.rename(columns={0:'Population',1:'Profit'},inplace=True)\n",
        "df.head()"
      ]
    },
    {
      "cell_type": "code",
      "source": [
        "plt.scatter(df.Population,df.Profit)\n",
        "plt.xlabel('Population of Area in 10,000')\n",
        "plt.ylabel('Profit of Appolo Pharmacy in 10,000')"
      ],
      "metadata": {
        "id": "bRWFMN5U2sZa",
        "colab": {
          "base_uri": "https://localhost:8080/",
          "height": 466
        },
        "outputId": "32502fca-42ed-4b6d-e5b7-6cebde63c3cf",
        "collapsed": true
      },
      "execution_count": null,
      "outputs": [
        {
          "output_type": "execute_result",
          "data": {
            "text/plain": [
              "Text(0, 0.5, 'Profit of Appolo Pharmacy in 10,000')"
            ]
          },
          "metadata": {},
          "execution_count": 5
        },
        {
          "output_type": "display_data",
          "data": {
            "text/plain": [
              "<Figure size 640x480 with 1 Axes>"
            ],
            "image/png": "[encoded data removed]"
          },
          "metadata": {}
        }
      ]
    },
    {
      "cell_type": "code",
      "source": [
        "data,targets=  df.Population.values[:,np.newaxis],df.Profit.values[:,np.newaxis]"
      ],
      "metadata": {
        "id": "XFQCrYvz3K_e"
      },
      "execution_count": null,
      "outputs": []
    },
    {
      "cell_type": "code",
      "source": [
        "targets"
      ],
      "metadata": {
        "colab": {
          "base_uri": "https://localhost:8080/"
        },
        "collapsed": true,
        "id": "oYEn2Ayam4P9",
        "outputId": "fbadf51c-8f1f-450c-d54c-6d24c2ea690c"
      },
      "execution_count": null,
      "outputs": [
        {
          "output_type": "execute_result",
          "data": {
            "text/plain": [
              "array([[17.592  ],\n",
              "       [ 9.1302 ],\n",
              "       [13.662  ],\n",
              "       [11.854  ],\n",
              "       [ 6.8233 ],\n",
              "       [11.886  ],\n",
              "       [ 4.3483 ],\n",
              "       [12.     ],\n",
              "       [ 6.5987 ],\n",
              "       [ 3.8166 ],\n",
              "       [ 3.2522 ],\n",
              "       [15.505  ],\n",
              "       [ 3.1551 ],\n",
              "       [ 7.2258 ],\n",
              "       [ 0.71618],\n",
              "       [ 3.5129 ],\n",
              "       [ 5.3048 ],\n",
              "       [ 0.56077],\n",
              "       [ 3.6518 ],\n",
              "       [ 5.3893 ],\n",
              "       [ 3.1386 ],\n",
              "       [21.767  ],\n",
              "       [ 4.263  ],\n",
              "       [ 5.1875 ],\n",
              "       [ 3.0825 ],\n",
              "       [22.638  ],\n",
              "       [13.501  ],\n",
              "       [ 7.0467 ],\n",
              "       [14.692  ],\n",
              "       [24.147  ],\n",
              "       [-1.22   ],\n",
              "       [ 5.9966 ],\n",
              "       [12.134  ],\n",
              "       [ 1.8495 ],\n",
              "       [ 6.5426 ],\n",
              "       [ 4.5623 ],\n",
              "       [ 4.1164 ],\n",
              "       [ 3.3928 ],\n",
              "       [10.117  ],\n",
              "       [ 5.4974 ],\n",
              "       [ 0.55657],\n",
              "       [ 3.9115 ],\n",
              "       [ 5.3854 ],\n",
              "       [ 2.4406 ],\n",
              "       [ 6.7318 ],\n",
              "       [ 1.0463 ],\n",
              "       [ 5.1337 ],\n",
              "       [ 1.844  ],\n",
              "       [ 8.0043 ],\n",
              "       [ 1.0179 ],\n",
              "       [ 6.7504 ],\n",
              "       [ 1.8396 ],\n",
              "       [ 4.2885 ],\n",
              "       [ 4.9981 ],\n",
              "       [ 1.4233 ],\n",
              "       [-1.4211 ],\n",
              "       [ 2.4756 ],\n",
              "       [ 4.6042 ],\n",
              "       [ 3.9624 ],\n",
              "       [ 5.4141 ],\n",
              "       [ 5.1694 ],\n",
              "       [-0.74279],\n",
              "       [17.929  ],\n",
              "       [12.054  ],\n",
              "       [17.054  ],\n",
              "       [ 4.8852 ],\n",
              "       [ 5.7442 ],\n",
              "       [ 7.7754 ],\n",
              "       [ 1.0173 ],\n",
              "       [20.992  ],\n",
              "       [ 6.6799 ],\n",
              "       [ 4.0259 ],\n",
              "       [ 1.2784 ],\n",
              "       [ 3.3411 ],\n",
              "       [-2.6807 ],\n",
              "       [ 0.29678],\n",
              "       [ 3.8845 ],\n",
              "       [ 5.7014 ],\n",
              "       [ 6.7526 ],\n",
              "       [ 2.0576 ],\n",
              "       [ 0.47953],\n",
              "       [ 0.20421],\n",
              "       [ 0.67861],\n",
              "       [ 7.5435 ],\n",
              "       [ 5.3436 ],\n",
              "       [ 4.2415 ],\n",
              "       [ 6.7981 ],\n",
              "       [ 0.92695],\n",
              "       [ 0.152  ],\n",
              "       [ 2.8214 ],\n",
              "       [ 1.8451 ],\n",
              "       [ 4.2959 ],\n",
              "       [ 7.2029 ],\n",
              "       [ 1.9869 ],\n",
              "       [ 0.14454],\n",
              "       [ 9.0551 ],\n",
              "       [ 0.61705]])"
            ]
          },
          "metadata": {},
          "execution_count": 7
        }
      ]
    },
    {
      "cell_type": "markdown",
      "source": [
        "### **Train-Test Split**"
      ],
      "metadata": {
        "id": "XZ3bkdP64vJX"
      }
    },
    {
      "cell_type": "code",
      "source": [
        "train_data,test_data,train_targets,test_targets=train_test_split(data,targets)"
      ],
      "metadata": {
        "id": "3bucXaaX4ulr"
      },
      "execution_count": null,
      "outputs": []
    },
    {
      "cell_type": "code",
      "source": [
        "train_data.shape"
      ],
      "metadata": {
        "id": "ibAVe8QpBWCP",
        "colab": {
          "base_uri": "https://localhost:8080/"
        },
        "outputId": "94dccd4e-d818-468b-d7ff-685e5e603700",
        "collapsed": true
      },
      "execution_count": null,
      "outputs": [
        {
          "output_type": "execute_result",
          "data": {
            "text/plain": [
              "(72, 1)"
            ]
          },
          "metadata": {},
          "execution_count": 9
        }
      ]
    },
    {
      "cell_type": "code",
      "source": [
        "test_data.shape"
      ],
      "metadata": {
        "id": "j5tFVw--AscJ",
        "colab": {
          "base_uri": "https://localhost:8080/"
        },
        "outputId": "3b141886-bb1e-4f66-887a-bdb063b175de",
        "collapsed": true
      },
      "execution_count": null,
      "outputs": [
        {
          "output_type": "execute_result",
          "data": {
            "text/plain": [
              "(25, 1)"
            ]
          },
          "metadata": {},
          "execution_count": 10
        }
      ]
    },
    {
      "cell_type": "markdown",
      "source": [
        "### **Setting the GPU**"
      ],
      "metadata": {
        "id": "nF0HA7n3xyOq"
      }
    },
    {
      "cell_type": "code",
      "source": [
        "# Linux bash command to print the status of nvidia gpu (memory and processes)\n",
        "!nvidia-smi"
      ],
      "metadata": {
        "id": "gXS0P74APfLX",
        "colab": {
          "base_uri": "https://localhost:8080/"
        },
        "outputId": "1f867ac6-6672-4894-cda7-78e0d8b799c2",
        "collapsed": true
      },
      "execution_count": null,
      "outputs": [
        {
          "output_type": "stream",
          "name": "stdout",
          "text": [
            "Tue Feb 11 21:57:31 2025       \n",
            "+-----------------------------------------------------------------------------------------+\n",
            "| NVIDIA-SMI 550.54.15              Driver Version: 550.54.15      CUDA Version: 12.4     |\n",
            "|-----------------------------------------+------------------------+----------------------+\n",
            "| GPU  Name                 Persistence-M | Bus-Id          Disp.A | Volatile Uncorr. ECC |\n",
            "| Fan  Temp   Perf          Pwr:Usage/Cap |           Memory-Usage | GPU-Util  Compute M. |\n",
            "|                                         |                        |               MIG M. |\n",
            "|=========================================+========================+======================|\n",
            "|   0  Tesla T4                       Off |   00000000:00:04.0 Off |                    0 |\n",
            "| N/A   46C    P8              9W /   70W |       0MiB /  15360MiB |      0%      Default |\n",
            "|                                         |                        |                  N/A |\n",
            "+-----------------------------------------+------------------------+----------------------+\n",
            "                                                                                         \n",
            "+-----------------------------------------------------------------------------------------+\n",
            "| Processes:                                                                              |\n",
            "|  GPU   GI   CI        PID   Type   Process name                              GPU Memory |\n",
            "|        ID   ID                                                               Usage      |\n",
            "|=========================================================================================|\n",
            "|  No running processes found                                                             |\n",
            "+-----------------------------------------------------------------------------------------+\n"
          ]
        }
      ]
    },
    {
      "cell_type": "code",
      "source": [
        "torch.cuda.is_available()"
      ],
      "metadata": {
        "id": "6a48LjF_PZ-N",
        "colab": {
          "base_uri": "https://localhost:8080/"
        },
        "outputId": "bf8045d9-019f-4945-a2ed-ae6b53850479"
      },
      "execution_count": null,
      "outputs": [
        {
          "output_type": "execute_result",
          "data": {
            "text/plain": [
              "True"
            ]
          },
          "metadata": {},
          "execution_count": 12
        }
      ]
    },
    {
      "cell_type": "code",
      "source": [
        "device = torch.device(\"cuda\")"
      ],
      "metadata": {
        "id": "mZe91W1_POGl"
      },
      "execution_count": null,
      "outputs": []
    },
    {
      "cell_type": "markdown",
      "source": [
        "### **Class approach for Regression**"
      ],
      "metadata": {
        "id": "15IKisbzhN5l"
      }
    },
    {
      "cell_type": "code",
      "source": [
        "from torch import nn # nn contains all of PyTorch's building blocks for neural networks"
      ],
      "metadata": {
        "id": "b58v_lHitibX"
      },
      "execution_count": null,
      "outputs": []
    },
    {
      "cell_type": "code",
      "source": [
        "# Create a Linear Regression model class\n",
        "class LinearRegressionModel(nn.Module):# <- almost everything in PyTorch is a nn.Module\n",
        "  def __init__(self):\n",
        "    super().__init__()\n",
        "    self.weights = nn.Parameter(torch.randn(1, dtype=torch.float), requires_grad=True)\n",
        "    # <- start with random weights, get adjusted as the model learns, float32 by default, gradient tracking for GD updates)\n",
        "    self.bias = nn.Parameter(torch.randn(1,dtype=torch.float), requires_grad=True)\n",
        "\n",
        "  # Forward defines the computation in the model\n",
        "  def forward(self, x: torch.Tensor) -> torch.Tensor: # <- \"x\" is the input data (e.g. training/testing features)\n",
        "    return self.weights * x + self.bias # <- this is the linear regression formula (y = m*x + b)"
      ],
      "metadata": {
        "id": "bTIOHUqVGNo7"
      },
      "execution_count": null,
      "outputs": []
    },
    {
      "cell_type": "markdown",
      "source": [
        "* **Using Linear Layer**\n",
        "\n",
        "https://pytorch.org/docs/stable/generated/torch.nn.Linear.html"
      ],
      "metadata": {
        "id": "-FykQXNQ91j_"
      }
    },
    {
      "cell_type": "code",
      "source": [
        "# Define the Linear Regression model\n",
        "class LinearRegressionModel(nn.Module):\n",
        "    def __init__(self):\n",
        "        super().__init__()\n",
        "        self.linear = nn.Linear(1, 1) ## Say I have 3 features , now what is the change here?  self.linear = nn.Linear(3, 6)\n",
        "        #self.linear = nn.Linear(6, 1)\n",
        "    def forward(self, x):\n",
        "        return self.linear(x)"
      ],
      "metadata": {
        "id": "poNFbjkq9wU-"
      },
      "execution_count": null,
      "outputs": []
    },
    {
      "cell_type": "markdown",
      "source": [
        "* Checking the contents of a PyTorch model:\n",
        "\n",
        "Let's create a model instance with the class we've made and check its parameters using .parameters().\n",
        "\n"
      ],
      "metadata": {
        "id": "HcYGephWu3yx"
      }
    },
    {
      "cell_type": "code",
      "source": [
        "# Set manual seed since nn.Parameter are randomly initialzied\n",
        "torch.manual_seed(42)\n",
        "\n",
        "# Create an instance of the model (this is a subclass of nn.Module that contains nn.Parameter(s))\n",
        "model_0 = LinearRegressionModel().to(device) ## Different from Tensorflow\n",
        "\n",
        "# Check the nn.Parameter(s) within the nn.Module subclass we created\n",
        "list(model_0.parameters())"
      ],
      "metadata": {
        "id": "PjQEARh4uaGW",
        "colab": {
          "base_uri": "https://localhost:8080/"
        },
        "outputId": "4f4c694f-f460-43f6-f1ca-812b97c84a2e",
        "collapsed": true
      },
      "execution_count": null,
      "outputs": [
        {
          "output_type": "execute_result",
          "data": {
            "text/plain": [
              "[Parameter containing:\n",
              " tensor([[0.7645]], device='cuda:0', requires_grad=True),\n",
              " Parameter containing:\n",
              " tensor([0.8300], device='cuda:0', requires_grad=True)]"
            ]
          },
          "metadata": {},
          "execution_count": 17
        }
      ]
    },
    {
      "cell_type": "markdown",
      "source": [
        "We can also get the state (what the model contains) of the model using .state_dict()."
      ],
      "metadata": {
        "id": "oCDxbdAHu7-T"
      }
    },
    {
      "cell_type": "code",
      "source": [
        "# List named parameters\n",
        "model_0.state_dict()"
      ],
      "metadata": {
        "id": "rB9RPTvmu-tz",
        "colab": {
          "base_uri": "https://localhost:8080/"
        },
        "outputId": "83309cd2-6ef5-4e29-c86a-9fdd073acfc0",
        "collapsed": true
      },
      "execution_count": null,
      "outputs": [
        {
          "output_type": "execute_result",
          "data": {
            "text/plain": [
              "OrderedDict([('linear.weight', tensor([[0.7645]], device='cuda:0')),\n",
              "             ('linear.bias', tensor([0.8300], device='cuda:0'))])"
            ]
          },
          "metadata": {},
          "execution_count": 18
        }
      ]
    },
    {
      "cell_type": "markdown",
      "source": [
        "Making predictions using torch.inference_mode()\n",
        "\n",
        "To check this we can pass it the test data X_test to see how closely it predicts y_test.\n",
        "\n",
        "When we pass data to our model, it'll go through the model's forward() method and produce a result using the computation we've defined.\n",
        "\n",
        "Let's make some predictions."
      ],
      "metadata": {
        "id": "qk2x6ZLEvXm9"
      }
    },
    {
      "cell_type": "code",
      "source": [
        "test_data[:,0]"
      ],
      "metadata": {
        "id": "AuNJTush6C59",
        "colab": {
          "base_uri": "https://localhost:8080/"
        },
        "outputId": "fee4bcd4-7cda-481d-920b-4d42de5bb349",
        "collapsed": true
      },
      "execution_count": null,
      "outputs": [
        {
          "output_type": "execute_result",
          "data": {
            "text/plain": [
              "array([ 7.5386, 18.959 ,  6.002 ,  5.6407, 14.164 ,  5.5649,  6.5159,\n",
              "        9.3102,  7.2259,  6.8825,  5.1884,  7.3345, 18.945 ,  6.4862,\n",
              "        8.3829,  6.2742,  5.5277, 14.908 ,  8.5172,  9.7687, 20.341 ,\n",
              "        7.6031,  5.1793,  6.3534,  5.7077])"
            ]
          },
          "metadata": {},
          "execution_count": 19
        }
      ]
    },
    {
      "cell_type": "code",
      "source": [
        "# Make predictions with model\n",
        "with torch.inference_mode():\n",
        "    y_preds = model_0(torch.from_numpy(test_data).float().to(device)) ## different tensorflow\n"
      ],
      "metadata": {
        "id": "FVSgvd-Dx7zp"
      },
      "execution_count": null,
      "outputs": []
    },
    {
      "cell_type": "markdown",
      "source": [
        "* **torch.inference_mode()** : Turns off gradient tracking (necessary for training but not for inference) to make forward-passes (data going through the forward() method faster.\n",
        "\n",
        "* Note: In older PyTorch code, you may also see **torch.no_grad()** being used for inference. While torch.inference_mode() and torch.no_grad() do similar things,\n",
        "torch.inference_mode() is newer, potentially faster and preferred."
      ],
      "metadata": {
        "id": "JTBA-DQbyW3W"
      }
    },
    {
      "cell_type": "code",
      "source": [
        "# Check the predictions\n",
        "print(f\"Number of testing samples: {len(test_data)}\")\n",
        "print(f\"Number of predictions made: {len(y_preds)}\")\n",
        "print(f\"Predicted values:\\n{y_preds}\")"
      ],
      "metadata": {
        "id": "3P_q8FLJydDe",
        "colab": {
          "base_uri": "https://localhost:8080/"
        },
        "outputId": "6a4ac47d-9b0c-4601-eab2-7e6267dc8bb9",
        "collapsed": true
      },
      "execution_count": null,
      "outputs": [
        {
          "output_type": "stream",
          "name": "stdout",
          "text": [
            "Number of testing samples: 25\n",
            "Number of predictions made: 25\n",
            "Predicted values:\n",
            "tensor([[ 6.5936],\n",
            "        [15.3249],\n",
            "        [ 5.4188],\n",
            "        [ 5.1425],\n",
            "        [11.6589],\n",
            "        [ 5.0846],\n",
            "        [ 5.8117],\n",
            "        [ 7.9480],\n",
            "        [ 6.3545],\n",
            "        [ 6.0919],\n",
            "        [ 4.7967],\n",
            "        [ 6.4375],\n",
            "        [15.3142],\n",
            "        [ 5.7890],\n",
            "        [ 7.2391],\n",
            "        [ 5.6269],\n",
            "        [ 5.0561],\n",
            "        [12.2277],\n",
            "        [ 7.3417],\n",
            "        [ 8.2986],\n",
            "        [16.3815],\n",
            "        [ 6.6429],\n",
            "        [ 4.7898],\n",
            "        [ 5.6874],\n",
            "        [ 5.1938]], device='cuda:0')\n"
          ]
        }
      ]
    },
    {
      "cell_type": "markdown",
      "source": [
        "### **Train model**\n",
        "\n",
        "* Defining loss function and optimizer"
      ],
      "metadata": {
        "id": "7qtbq0-r4W6H"
      }
    },
    {
      "cell_type": "code",
      "source": [
        "# Create the loss function\n",
        "loss_fn = nn.MSELoss().to(device) # MSE loss\n",
        "# Create the optimizer\n",
        "optimizer = torch.optim.SGD(params=model_0.parameters(), lr=0.01) # parameters of the model to optimize,  learning rate"
      ],
      "metadata": {
        "id": "U37JdO7J4wN5"
      },
      "execution_count": null,
      "outputs": []
    },
    {
      "cell_type": "code",
      "source": [
        "# Converting data into torch tensor and passing into GPU\n",
        "X_train=torch.from_numpy(train_data).float().to(device)\n",
        "y_train=torch.from_numpy(train_targets).float().to(device)\n",
        "X_test=torch.from_numpy(test_data).float().to(device)\n",
        "y_test=torch.from_numpy(test_targets).float().to(device)"
      ],
      "metadata": {
        "id": "LdabEkbJ9ltM"
      },
      "execution_count": null,
      "outputs": []
    },
    {
      "cell_type": "markdown",
      "source": [
        "#### **Train and Test loop**"
      ],
      "metadata": {
        "id": "SL5F2HkR5Xde"
      }
    },
    {
      "cell_type": "code",
      "source": [
        "torch.manual_seed(42)\n",
        "\n",
        "# Set the number of epochs (how many times the model will pass over the training data)\n",
        "epochs = 1000\n",
        "\n",
        "# Create empty loss lists to track values\n",
        "train_loss_values = []\n",
        "test_loss_values = []\n",
        "epoch_count = []\n",
        "\n",
        "for epoch in range(epochs):\n",
        "    ### Training\n",
        "\n",
        "    # Put model in training mode (this is the default state of a model)\n",
        "    model_0.train()\n",
        "\n",
        "    # 1. Forward pass on train data using the forward() method inside\n",
        "    y_pred = model_0(X_train)\n",
        "    # print(y_pred)\n",
        "\n",
        "    # 2. Calculate the loss (how different are our models predictions to the ground truth)\n",
        "    loss = loss_fn(y_pred, y_train)\n",
        "\n",
        "    # 3. Zero grad of the optimizer\n",
        "    optimizer.zero_grad()\n",
        "\n",
        "    # 4. Loss backwards\n",
        "    loss.backward()\n",
        "\n",
        "    # 5. Progress the optimizer\n",
        "    optimizer.step() ## Gradient descent eqn: w:=w-(alpha)*(dl/dw), b:=b-(alpha)*(dl/db)\n",
        "\n",
        "\n",
        "    ### Testing\n",
        "\n",
        "    # Put the model in evaluation mode\n",
        "    model_0.eval()\n",
        "\n",
        "    with torch.inference_mode():\n",
        "      # 1. Forward pass on test data\n",
        "      test_pred = model_0(X_test)\n",
        "\n",
        "      # 2. Caculate loss on test data\n",
        "      test_loss = loss_fn(test_pred, y_test.type(torch.float)) # predictions come in torch.float datatype, so comparisons need to be done with tensors of the same type\n",
        "\n",
        "      # Print out what's happening\n",
        "      if epoch % 10 == 0:\n",
        "            epoch_count.append(epoch)\n",
        "            train_loss_values.append(loss.detach().cpu().numpy())\n",
        "            test_loss_values.append(test_loss.detach().cpu().numpy())\n",
        "            print(f\"Epoch: {epoch} | MAE Train Loss: {loss} | MAE Test Loss: {test_loss} \")"
      ],
      "metadata": {
        "id": "QwH2sFGp5EzL",
        "colab": {
          "base_uri": "https://localhost:8080/"
        },
        "outputId": "3c5fd45f-b84f-4333-f164-457edae6bad5",
        "collapsed": true
      },
      "execution_count": null,
      "outputs": [
        {
          "output_type": "stream",
          "name": "stdout",
          "text": [
            "Epoch: 0 | MAE Train Loss: 13.54039192199707 | MAE Test Loss: 14.212916374206543 \n",
            "Epoch: 10 | MAE Train Loss: 12.85365104675293 | MAE Test Loss: 12.828715324401855 \n",
            "Epoch: 20 | MAE Train Loss: 12.657669067382812 | MAE Test Loss: 12.49096393585205 \n",
            "Epoch: 30 | MAE Train Loss: 12.474288940429688 | MAE Test Loss: 12.173745155334473 \n",
            "Epoch: 40 | MAE Train Loss: 12.302698135375977 | MAE Test Loss: 11.874914169311523 \n",
            "Epoch: 50 | MAE Train Loss: 12.14214038848877 | MAE Test Loss: 11.59334659576416 \n",
            "Epoch: 60 | MAE Train Loss: 11.991905212402344 | MAE Test Loss: 11.328004837036133 \n",
            "Epoch: 70 | MAE Train Loss: 11.851329803466797 | MAE Test Loss: 11.077902793884277 \n",
            "Epoch: 80 | MAE Train Loss: 11.719792366027832 | MAE Test Loss: 10.842117309570312 \n",
            "Epoch: 90 | MAE Train Loss: 11.59671401977539 | MAE Test Loss: 10.619791984558105 \n",
            "Epoch: 100 | MAE Train Loss: 11.481546401977539 | MAE Test Loss: 10.410113334655762 \n",
            "Epoch: 110 | MAE Train Loss: 11.373785018920898 | MAE Test Loss: 10.212321281433105 \n",
            "Epoch: 120 | MAE Train Loss: 11.27295207977295 | MAE Test Loss: 10.025702476501465 \n",
            "Epoch: 130 | MAE Train Loss: 11.17860221862793 | MAE Test Loss: 9.849593162536621 \n",
            "Epoch: 140 | MAE Train Loss: 11.09031867980957 | MAE Test Loss: 9.683364868164062 \n",
            "Epoch: 150 | MAE Train Loss: 11.007710456848145 | MAE Test Loss: 9.526427268981934 \n",
            "Epoch: 160 | MAE Train Loss: 10.930415153503418 | MAE Test Loss: 9.3782320022583 \n",
            "Epoch: 170 | MAE Train Loss: 10.858086585998535 | MAE Test Loss: 9.238259315490723 \n",
            "Epoch: 180 | MAE Train Loss: 10.790411949157715 | MAE Test Loss: 9.106021881103516 \n",
            "Epoch: 190 | MAE Train Loss: 10.727087020874023 | MAE Test Loss: 8.98106575012207 \n",
            "Epoch: 200 | MAE Train Loss: 10.66783332824707 | MAE Test Loss: 8.862960815429688 \n",
            "Epoch: 210 | MAE Train Loss: 10.61238956451416 | MAE Test Loss: 8.75130844116211 \n",
            "Epoch: 220 | MAE Train Loss: 10.560510635375977 | MAE Test Loss: 8.645727157592773 \n",
            "Epoch: 230 | MAE Train Loss: 10.511966705322266 | MAE Test Loss: 8.545866012573242 \n",
            "Epoch: 240 | MAE Train Loss: 10.466544151306152 | MAE Test Loss: 8.45138931274414 \n",
            "Epoch: 250 | MAE Train Loss: 10.424042701721191 | MAE Test Loss: 8.36198616027832 \n",
            "Epoch: 260 | MAE Train Loss: 10.38427448272705 | MAE Test Loss: 8.277364730834961 \n",
            "Epoch: 270 | MAE Train Loss: 10.347061157226562 | MAE Test Loss: 8.197245597839355 \n",
            "Epoch: 280 | MAE Train Loss: 10.312240600585938 | MAE Test Loss: 8.121373176574707 \n",
            "Epoch: 290 | MAE Train Loss: 10.27966022491455 | MAE Test Loss: 8.049503326416016 \n",
            "Epoch: 300 | MAE Train Loss: 10.249174118041992 | MAE Test Loss: 7.9814043045043945 \n",
            "Epoch: 310 | MAE Train Loss: 10.220647811889648 | MAE Test Loss: 7.916864395141602 \n",
            "Epoch: 320 | MAE Train Loss: 10.19395637512207 | MAE Test Loss: 7.8556809425354 \n",
            "Epoch: 330 | MAE Train Loss: 10.168980598449707 | MAE Test Loss: 7.797664165496826 \n",
            "Epoch: 340 | MAE Train Loss: 10.145610809326172 | MAE Test Loss: 7.742636680603027 \n",
            "Epoch: 350 | MAE Train Loss: 10.12374210357666 | MAE Test Loss: 7.690427303314209 \n",
            "Epoch: 360 | MAE Train Loss: 10.10328197479248 | MAE Test Loss: 7.640880107879639 \n",
            "Epoch: 370 | MAE Train Loss: 10.084135055541992 | MAE Test Loss: 7.593850135803223 \n",
            "Epoch: 380 | MAE Train Loss: 10.0662202835083 | MAE Test Loss: 7.54918909072876 \n",
            "Epoch: 390 | MAE Train Loss: 10.049457550048828 | MAE Test Loss: 7.506775856018066 \n",
            "Epoch: 400 | MAE Train Loss: 10.033772468566895 | MAE Test Loss: 7.4664788246154785 \n",
            "Epoch: 410 | MAE Train Loss: 10.019095420837402 | MAE Test Loss: 7.428184509277344 \n",
            "Epoch: 420 | MAE Train Loss: 10.005362510681152 | MAE Test Loss: 7.39178466796875 \n",
            "Epoch: 430 | MAE Train Loss: 9.992512702941895 | MAE Test Loss: 7.357173919677734 \n",
            "Epoch: 440 | MAE Train Loss: 9.980488777160645 | MAE Test Loss: 7.324256420135498 \n",
            "Epoch: 450 | MAE Train Loss: 9.969237327575684 | MAE Test Loss: 7.292940616607666 \n",
            "Epoch: 460 | MAE Train Loss: 9.958709716796875 | MAE Test Loss: 7.263138771057129 \n",
            "Epoch: 470 | MAE Train Loss: 9.948859214782715 | MAE Test Loss: 7.234773635864258 \n",
            "Epoch: 480 | MAE Train Loss: 9.939640998840332 | MAE Test Loss: 7.207764625549316 \n",
            "Epoch: 490 | MAE Train Loss: 9.931017875671387 | MAE Test Loss: 7.182041645050049 \n",
            "Epoch: 500 | MAE Train Loss: 9.92294692993164 | MAE Test Loss: 7.157536029815674 \n",
            "Epoch: 510 | MAE Train Loss: 9.915395736694336 | MAE Test Loss: 7.13418436050415 \n",
            "Epoch: 520 | MAE Train Loss: 9.908329963684082 | MAE Test Loss: 7.111924171447754 \n",
            "Epoch: 530 | MAE Train Loss: 9.901719093322754 | MAE Test Loss: 7.090703010559082 \n",
            "Epoch: 540 | MAE Train Loss: 9.895532608032227 | MAE Test Loss: 7.070465087890625 \n",
            "Epoch: 550 | MAE Train Loss: 9.88974380493164 | MAE Test Loss: 7.051156044006348 \n",
            "Epoch: 560 | MAE Train Loss: 9.88432788848877 | MAE Test Loss: 7.032732963562012 \n",
            "Epoch: 570 | MAE Train Loss: 9.879260063171387 | MAE Test Loss: 7.01515007019043 \n",
            "Epoch: 580 | MAE Train Loss: 9.874516487121582 | MAE Test Loss: 6.998359203338623 \n",
            "Epoch: 590 | MAE Train Loss: 9.87007999420166 | MAE Test Loss: 6.982328414916992 \n",
            "Epoch: 600 | MAE Train Loss: 9.865927696228027 | MAE Test Loss: 6.967013835906982 \n",
            "Epoch: 610 | MAE Train Loss: 9.862042427062988 | MAE Test Loss: 6.952382564544678 \n",
            "Epoch: 620 | MAE Train Loss: 9.858407020568848 | MAE Test Loss: 6.93839693069458 \n",
            "Epoch: 630 | MAE Train Loss: 9.855006217956543 | MAE Test Loss: 6.92503023147583 \n",
            "Epoch: 640 | MAE Train Loss: 9.851823806762695 | MAE Test Loss: 6.912247180938721 \n",
            "Epoch: 650 | MAE Train Loss: 9.848843574523926 | MAE Test Loss: 6.900022029876709 \n",
            "Epoch: 660 | MAE Train Loss: 9.84605884552002 | MAE Test Loss: 6.888326168060303 \n",
            "Epoch: 670 | MAE Train Loss: 9.843449592590332 | MAE Test Loss: 6.877134323120117 \n",
            "Epoch: 680 | MAE Train Loss: 9.841010093688965 | MAE Test Loss: 6.866422176361084 \n",
            "Epoch: 690 | MAE Train Loss: 9.838727951049805 | MAE Test Loss: 6.856166839599609 \n",
            "Epoch: 700 | MAE Train Loss: 9.836590766906738 | MAE Test Loss: 6.846344947814941 \n",
            "Epoch: 710 | MAE Train Loss: 9.83459186553955 | MAE Test Loss: 6.836939334869385 \n",
            "Epoch: 720 | MAE Train Loss: 9.832721710205078 | MAE Test Loss: 6.82792854309082 \n",
            "Epoch: 730 | MAE Train Loss: 9.830971717834473 | MAE Test Loss: 6.819293022155762 \n",
            "Epoch: 740 | MAE Train Loss: 9.829334259033203 | MAE Test Loss: 6.8110175132751465 \n",
            "Epoch: 750 | MAE Train Loss: 9.827801704406738 | MAE Test Loss: 6.803083896636963 \n",
            "Epoch: 760 | MAE Train Loss: 9.826367378234863 | MAE Test Loss: 6.795474529266357 \n",
            "Epoch: 770 | MAE Train Loss: 9.82502555847168 | MAE Test Loss: 6.788179397583008 \n",
            "Epoch: 780 | MAE Train Loss: 9.823770523071289 | MAE Test Loss: 6.781178951263428 \n",
            "Epoch: 790 | MAE Train Loss: 9.822596549987793 | MAE Test Loss: 6.774464130401611 \n",
            "Epoch: 800 | MAE Train Loss: 9.821497917175293 | MAE Test Loss: 6.7680182456970215 \n",
            "Epoch: 810 | MAE Train Loss: 9.82046890258789 | MAE Test Loss: 6.761832237243652 \n",
            "Epoch: 820 | MAE Train Loss: 9.819507598876953 | MAE Test Loss: 6.755893230438232 \n",
            "Epoch: 830 | MAE Train Loss: 9.81860637664795 | MAE Test Loss: 6.750190258026123 \n",
            "Epoch: 840 | MAE Train Loss: 9.81776237487793 | MAE Test Loss: 6.7447123527526855 \n",
            "Epoch: 850 | MAE Train Loss: 9.816974639892578 | MAE Test Loss: 6.739452362060547 \n",
            "Epoch: 860 | MAE Train Loss: 9.81623649597168 | MAE Test Loss: 6.734396934509277 \n",
            "Epoch: 870 | MAE Train Loss: 9.815546989440918 | MAE Test Loss: 6.72953987121582 \n",
            "Epoch: 880 | MAE Train Loss: 9.814900398254395 | MAE Test Loss: 6.7248711585998535 \n",
            "Epoch: 890 | MAE Train Loss: 9.814295768737793 | MAE Test Loss: 6.7203826904296875 \n",
            "Epoch: 900 | MAE Train Loss: 9.81373119354248 | MAE Test Loss: 6.716067790985107 \n",
            "Epoch: 910 | MAE Train Loss: 9.813200950622559 | MAE Test Loss: 6.711918830871582 \n",
            "Epoch: 920 | MAE Train Loss: 9.81270694732666 | MAE Test Loss: 6.7079291343688965 \n",
            "Epoch: 930 | MAE Train Loss: 9.812244415283203 | MAE Test Loss: 6.7040910720825195 \n",
            "Epoch: 940 | MAE Train Loss: 9.811810493469238 | MAE Test Loss: 6.7003984451293945 \n",
            "Epoch: 950 | MAE Train Loss: 9.811405181884766 | MAE Test Loss: 6.696845531463623 \n",
            "Epoch: 960 | MAE Train Loss: 9.81102466583252 | MAE Test Loss: 6.693427085876465 \n",
            "Epoch: 970 | MAE Train Loss: 9.8106689453125 | MAE Test Loss: 6.690135955810547 \n",
            "Epoch: 980 | MAE Train Loss: 9.81033706665039 | MAE Test Loss: 6.686970233917236 \n",
            "Epoch: 990 | MAE Train Loss: 9.810026168823242 | MAE Test Loss: 6.6839189529418945 \n"
          ]
        }
      ]
    },
    {
      "cell_type": "code",
      "source": [
        "# Plot the loss curves\n",
        "plt.plot(epoch_count, train_loss_values, label=\"Train loss\")\n",
        "plt.plot(epoch_count, test_loss_values, label=\"Test loss\")\n",
        "plt.title(\"Training and test loss curves\")\n",
        "plt.ylabel(\"Loss\")\n",
        "plt.xlabel(\"Epochs\")\n",
        "plt.legend();"
      ],
      "metadata": {
        "id": "RE1tz6VI_TSX",
        "colab": {
          "base_uri": "https://localhost:8080/",
          "height": 472
        },
        "outputId": "02d7485f-c686-4c98-aaad-ee8f3ae9a81f",
        "collapsed": true
      },
      "execution_count": null,
      "outputs": [
        {
          "output_type": "display_data",
          "data": {
            "text/plain": [
              "<Figure size 640x480 with 1 Axes>"
            ],
            "image/png": "[encoded data removed]"
          },
          "metadata": {}
        }
      ]
    },
    {
      "cell_type": "code",
      "source": [
        "# Find our model's learned parameters\n",
        "print(\"The model learned the following values for weights and bias:\")\n",
        "print(model_0.state_dict())"
      ],
      "metadata": {
        "colab": {
          "base_uri": "https://localhost:8080/"
        },
        "id": "vIm-ncUA_cUX",
        "outputId": "d100327d-e068-49d2-926b-105350d7577b"
      },
      "execution_count": null,
      "outputs": [
        {
          "output_type": "stream",
          "name": "stdout",
          "text": [
            "The model learned the following values for weights and bias:\n",
            "OrderedDict([('linear.weight', tensor([[1.1353]], device='cuda:0')), ('linear.bias', tensor([-3.4266], device='cuda:0'))])\n"
          ]
        }
      ]
    },
    {
      "cell_type": "markdown",
      "source": [
        "### **Making predictions with a trained PyTorch model (inference)**"
      ],
      "metadata": {
        "id": "rdEzYvLkluu5"
      }
    },
    {
      "cell_type": "code",
      "source": [
        "X_train=torch.from_numpy(train_data).float().to(device)\n",
        "y_train=torch.from_numpy(train_targets).float().to(device)\n",
        "X_test=torch.from_numpy(test_data).float().to(device)\n",
        "y_test=torch.from_numpy(test_targets).float().to(device)"
      ],
      "metadata": {
        "id": "dPITGXi1_9H8"
      },
      "execution_count": null,
      "outputs": []
    },
    {
      "cell_type": "code",
      "source": [
        "# 1. Set the model in evaluation mode\n",
        "model_0.eval()\n",
        "# 2. Setup the inference mode context manager\n",
        "with torch.inference_mode():\n",
        "  model_0.to(device)\n",
        "  y_preds = model_0(X_train)"
      ],
      "metadata": {
        "id": "YjY1mdoclvay"
      },
      "execution_count": null,
      "outputs": []
    },
    {
      "cell_type": "code",
      "source": [
        "plt.figure(figsize=(12,8))\n",
        "plt.scatter(df.Population,df.Profit)\n",
        "plt.xlabel('Population of Area in 10,000')\n",
        "plt.ylabel('Profit of Appolo Pharmacy in 10,000')\n",
        "plt.plot(train_data,y_preds.cpu(),'r-')"
      ],
      "metadata": {
        "id": "49HHQZsYrcm_",
        "colab": {
          "base_uri": "https://localhost:8080/",
          "height": 713
        },
        "outputId": "3d127f71-6459-48e1-fb3b-36643387fb8a",
        "collapsed": true
      },
      "execution_count": null,
      "outputs": [
        {
          "output_type": "execute_result",
          "data": {
            "text/plain": [
              "[<matplotlib.lines.Line2D at 0x7e529a0862d0>]"
            ]
          },
          "metadata": {},
          "execution_count": 29
        },
        {
          "output_type": "display_data",
          "data": {
            "text/plain": [
              "<Figure size 1200x800 with 1 Axes>"
            ],
            "image/png": "[encoded data removed]"
          },
          "metadata": {}
        }
      ]
    },
    {
      "cell_type": "markdown",
      "source": [
        "## **CustomDataset class and Batch Processing**\n",
        "\n",
        "* ### Defining Data_Class called 'CustomDataset' for building our own custom dataset compatible with dataloader."
      ],
      "metadata": {
        "id": "POUbW-1u0IOx"
      }
    },
    {
      "cell_type": "markdown",
      "source": [],
      "metadata": {
        "id": "LVv5afux1jvj"
      }
    },
    {
      "cell_type": "code",
      "source": [
        "alist=[1,2,3,4,5,6,7,8,9]\n",
        "print(alist)\n",
        "len(alist)"
      ],
      "metadata": {
        "colab": {
          "base_uri": "https://localhost:8080/"
        },
        "id": "8vNBQHKOolwQ",
        "outputId": "162b9e64-10d8-4b3d-fe09-3308628ab85d",
        "collapsed": true
      },
      "execution_count": null,
      "outputs": [
        {
          "output_type": "stream",
          "name": "stdout",
          "text": [
            "[1, 2, 3, 4, 5, 6, 7, 8, 9]\n"
          ]
        },
        {
          "output_type": "execute_result",
          "data": {
            "text/plain": [
              "9"
            ]
          },
          "metadata": {},
          "execution_count": 30
        }
      ]
    },
    {
      "cell_type": "code",
      "source": [
        "alist[2:4] # slicing operation [ ]"
      ],
      "metadata": {
        "colab": {
          "base_uri": "https://localhost:8080/"
        },
        "id": "om1d29rrouSu",
        "outputId": "ec930544-f11f-4625-ae0c-69f5e21ccfb2",
        "collapsed": true
      },
      "execution_count": null,
      "outputs": [
        {
          "output_type": "execute_result",
          "data": {
            "text/plain": [
              "[3, 4]"
            ]
          },
          "metadata": {},
          "execution_count": 31
        }
      ]
    },
    {
      "cell_type": "code",
      "source": [
        "alist[3]"
      ],
      "metadata": {
        "colab": {
          "base_uri": "https://localhost:8080/"
        },
        "id": "Wpklq4MTo75y",
        "outputId": "83fe8181-3595-4e77-bf32-3dfdab08bd57",
        "collapsed": true
      },
      "execution_count": null,
      "outputs": [
        {
          "output_type": "execute_result",
          "data": {
            "text/plain": [
              "4"
            ]
          },
          "metadata": {},
          "execution_count": 32
        }
      ]
    },
    {
      "cell_type": "code",
      "source": [
        "class CustomDataset:\n",
        "\n",
        "  def __init__(self,data,targets):\n",
        "    self.data=data\n",
        "    self.targets=targets\n",
        "\n",
        "  def __len__(self):\n",
        "     return self.data.shape[0] #len(self.data)\n",
        "\n",
        "  def __getitem__(self,idx):\n",
        "    sliced_sample=self.data[idx,:]\n",
        "    sliced_target=self.targets[idx]\n",
        "    return {\"sample\" :torch.tensor(sliced_sample, dtype=torch.float),\n",
        "            \"target\" : torch.tensor(sliced_target, dtype=torch.float)\n",
        "            }"
      ],
      "metadata": {
        "id": "kIYDn9Dh-WEN"
      },
      "execution_count": null,
      "outputs": []
    },
    {
      "cell_type": "markdown",
      "source": [
        "### Testing of Above Data Class"
      ],
      "metadata": {
        "id": "AUxMCCqbCU4M"
      }
    },
    {
      "cell_type": "code",
      "source": [
        "df.Population.values[:,np.newaxis]"
      ],
      "metadata": {
        "id": "CSB1Je7rqIu-",
        "outputId": "c3141adc-df9e-44e5-a09a-e7be66754c7c",
        "colab": {
          "base_uri": "https://localhost:8080/"
        },
        "collapsed": true
      },
      "execution_count": null,
      "outputs": [
        {
          "output_type": "execute_result",
          "data": {
            "text/plain": [
              "array([[ 6.1101],\n",
              "       [ 5.5277],\n",
              "       [ 8.5186],\n",
              "       [ 7.0032],\n",
              "       [ 5.8598],\n",
              "       [ 8.3829],\n",
              "       [ 7.4764],\n",
              "       [ 8.5781],\n",
              "       [ 6.4862],\n",
              "       [ 5.0546],\n",
              "       [ 5.7107],\n",
              "       [14.164 ],\n",
              "       [ 5.734 ],\n",
              "       [ 8.4084],\n",
              "       [ 5.6407],\n",
              "       [ 5.3794],\n",
              "       [ 6.3654],\n",
              "       [ 5.1301],\n",
              "       [ 6.4296],\n",
              "       [ 7.0708],\n",
              "       [ 6.1891],\n",
              "       [20.27  ],\n",
              "       [ 5.4901],\n",
              "       [ 6.3261],\n",
              "       [ 5.5649],\n",
              "       [18.945 ],\n",
              "       [12.828 ],\n",
              "       [10.957 ],\n",
              "       [13.176 ],\n",
              "       [22.203 ],\n",
              "       [ 5.2524],\n",
              "       [ 6.5894],\n",
              "       [ 9.2482],\n",
              "       [ 5.8918],\n",
              "       [ 8.2111],\n",
              "       [ 7.9334],\n",
              "       [ 8.0959],\n",
              "       [ 5.6063],\n",
              "       [12.836 ],\n",
              "       [ 6.3534],\n",
              "       [ 5.4069],\n",
              "       [ 6.8825],\n",
              "       [11.708 ],\n",
              "       [ 5.7737],\n",
              "       [ 7.8247],\n",
              "       [ 7.0931],\n",
              "       [ 5.0702],\n",
              "       [ 5.8014],\n",
              "       [11.7   ],\n",
              "       [ 5.5416],\n",
              "       [ 7.5402],\n",
              "       [ 5.3077],\n",
              "       [ 7.4239],\n",
              "       [ 7.6031],\n",
              "       [ 6.3328],\n",
              "       [ 6.3589],\n",
              "       [ 6.2742],\n",
              "       [ 5.6397],\n",
              "       [ 9.3102],\n",
              "       [ 9.4536],\n",
              "       [ 8.8254],\n",
              "       [ 5.1793],\n",
              "       [21.279 ],\n",
              "       [14.908 ],\n",
              "       [18.959 ],\n",
              "       [ 7.2182],\n",
              "       [ 8.2951],\n",
              "       [10.236 ],\n",
              "       [ 5.4994],\n",
              "       [20.341 ],\n",
              "       [10.136 ],\n",
              "       [ 7.3345],\n",
              "       [ 6.0062],\n",
              "       [ 7.2259],\n",
              "       [ 5.0269],\n",
              "       [ 6.5479],\n",
              "       [ 7.5386],\n",
              "       [ 5.0365],\n",
              "       [10.274 ],\n",
              "       [ 5.1077],\n",
              "       [ 5.7292],\n",
              "       [ 5.1884],\n",
              "       [ 6.3557],\n",
              "       [ 9.7687],\n",
              "       [ 6.5159],\n",
              "       [ 8.5172],\n",
              "       [ 9.1802],\n",
              "       [ 6.002 ],\n",
              "       [ 5.5204],\n",
              "       [ 5.0594],\n",
              "       [ 5.7077],\n",
              "       [ 7.6366],\n",
              "       [ 5.8707],\n",
              "       [ 5.3054],\n",
              "       [ 8.2934],\n",
              "       [13.394 ],\n",
              "       [ 5.4369]])"
            ]
          },
          "metadata": {},
          "execution_count": 34
        }
      ]
    },
    {
      "cell_type": "code",
      "source": [
        "data,targets=  df.Population.values[:,np.newaxis],df.Profit.values[:,np.newaxis]"
      ],
      "metadata": {
        "id": "rXwTIDI_6HfV"
      },
      "execution_count": null,
      "outputs": []
    },
    {
      "cell_type": "code",
      "source": [
        "data.shape"
      ],
      "metadata": {
        "colab": {
          "base_uri": "https://localhost:8080/"
        },
        "id": "O7TJydBUqXRz",
        "outputId": "bc4ed378-5a36-4e62-93b5-5e929abad523",
        "collapsed": true
      },
      "execution_count": null,
      "outputs": [
        {
          "output_type": "execute_result",
          "data": {
            "text/plain": [
              "(97, 1)"
            ]
          },
          "metadata": {},
          "execution_count": 36
        }
      ]
    },
    {
      "cell_type": "code",
      "source": [
        "data[0]"
      ],
      "metadata": {
        "id": "GscKr_jTzgxp",
        "colab": {
          "base_uri": "https://localhost:8080/"
        },
        "outputId": "bc18c443-ce8d-4cce-dfc5-67ccc2cbde72",
        "collapsed": true
      },
      "execution_count": null,
      "outputs": [
        {
          "output_type": "execute_result",
          "data": {
            "text/plain": [
              "array([6.1101])"
            ]
          },
          "metadata": {},
          "execution_count": 37
        }
      ]
    },
    {
      "cell_type": "code",
      "source": [
        "targets[0]"
      ],
      "metadata": {
        "id": "t-qnrr4Hyjnl",
        "colab": {
          "base_uri": "https://localhost:8080/"
        },
        "outputId": "7f84921e-9f55-4e8f-ea3b-0503895352e3",
        "collapsed": true
      },
      "execution_count": null,
      "outputs": [
        {
          "output_type": "execute_result",
          "data": {
            "text/plain": [
              "array([17.592])"
            ]
          },
          "metadata": {},
          "execution_count": 38
        }
      ]
    },
    {
      "cell_type": "code",
      "source": [
        "custom_dataset  = CustomDataset (data=data, targets=targets)"
      ],
      "metadata": {
        "id": "JsjuyCxbBFQe"
      },
      "execution_count": null,
      "outputs": []
    },
    {
      "cell_type": "code",
      "source": [
        "len(custom_dataset)"
      ],
      "metadata": {
        "id": "CQh1Eo6NBUId",
        "colab": {
          "base_uri": "https://localhost:8080/"
        },
        "outputId": "96121f8a-ee9d-4548-e2ae-d14c56671186",
        "collapsed": true
      },
      "execution_count": null,
      "outputs": [
        {
          "output_type": "execute_result",
          "data": {
            "text/plain": [
              "97"
            ]
          },
          "metadata": {},
          "execution_count": 40
        }
      ]
    },
    {
      "cell_type": "code",
      "source": [
        "custom_dataset[0]"
      ],
      "metadata": {
        "colab": {
          "base_uri": "https://localhost:8080/"
        },
        "id": "04wOVT_HrFHv",
        "outputId": "c1ebec72-9891-413f-ce26-ee59100c7500",
        "collapsed": true
      },
      "execution_count": null,
      "outputs": [
        {
          "output_type": "execute_result",
          "data": {
            "text/plain": [
              "{'sample': tensor([6.1101]), 'target': tensor([17.5920])}"
            ]
          },
          "metadata": {},
          "execution_count": 41
        }
      ]
    },
    {
      "cell_type": "code",
      "source": [
        "custom_dataset[[0,1,2]]"
      ],
      "metadata": {
        "id": "-edVNmPRBeUC",
        "colab": {
          "base_uri": "https://localhost:8080/"
        },
        "outputId": "d0e3b9f3-dd93-404a-b29b-d100261e8333",
        "collapsed": true
      },
      "execution_count": null,
      "outputs": [
        {
          "output_type": "execute_result",
          "data": {
            "text/plain": [
              "{'sample': tensor([[6.1101],\n",
              "         [5.5277],\n",
              "         [8.5186]]),\n",
              " 'target': tensor([[17.5920],\n",
              "         [ 9.1302],\n",
              "         [13.6620]])}"
            ]
          },
          "metadata": {},
          "execution_count": 42
        }
      ]
    },
    {
      "cell_type": "code",
      "source": [
        "custom_dataset[0]['sample']"
      ],
      "metadata": {
        "id": "5dxd8WPnCXDB",
        "colab": {
          "base_uri": "https://localhost:8080/"
        },
        "outputId": "14fa7b93-7ddf-4984-f3a5-ae835ccd1214"
      },
      "execution_count": null,
      "outputs": [
        {
          "output_type": "execute_result",
          "data": {
            "text/plain": [
              "tensor([6.1101])"
            ]
          },
          "metadata": {},
          "execution_count": 43
        }
      ]
    },
    {
      "cell_type": "code",
      "source": [
        "custom_dataset[0]['target']"
      ],
      "metadata": {
        "id": "u9dGBVwXCiyZ",
        "colab": {
          "base_uri": "https://localhost:8080/"
        },
        "outputId": "74e2a7fd-8a04-43bb-f6cb-f040764c201c"
      },
      "execution_count": null,
      "outputs": [
        {
          "output_type": "execute_result",
          "data": {
            "text/plain": [
              "tensor([17.5920])"
            ]
          },
          "metadata": {},
          "execution_count": 44
        }
      ]
    },
    {
      "cell_type": "code",
      "source": [
        "for idx in range(len(custom_dataset)):\n",
        "  print(custom_dataset[idx])\n",
        "  if idx >5:\n",
        "    break"
      ],
      "metadata": {
        "id": "fF_q7y5J4hIZ",
        "colab": {
          "base_uri": "https://localhost:8080/"
        },
        "outputId": "23a1e7e4-3e55-4a8f-9bd3-7230a5b98c92",
        "collapsed": true
      },
      "execution_count": null,
      "outputs": [
        {
          "output_type": "stream",
          "name": "stdout",
          "text": [
            "{'sample': tensor([6.1101]), 'target': tensor([17.5920])}\n",
            "{'sample': tensor([5.5277]), 'target': tensor([9.1302])}\n",
            "{'sample': tensor([8.5186]), 'target': tensor([13.6620])}\n",
            "{'sample': tensor([7.0032]), 'target': tensor([11.8540])}\n",
            "{'sample': tensor([5.8598]), 'target': tensor([6.8233])}\n",
            "{'sample': tensor([8.3829]), 'target': tensor([11.8860])}\n",
            "{'sample': tensor([7.4764]), 'target': tensor([4.3483])}\n"
          ]
        }
      ]
    },
    {
      "cell_type": "markdown",
      "source": [
        "### **Implementing Custom data class :**\n",
        "* Train-Test Split"
      ],
      "metadata": {
        "id": "4uwm78VU00Uf"
      }
    },
    {
      "cell_type": "code",
      "source": [
        "train_data,test_data,train_targets,test_targets=train_test_split(data,targets)"
      ],
      "metadata": {
        "id": "BUzgI2ON00Uf"
      },
      "execution_count": null,
      "outputs": []
    },
    {
      "cell_type": "code",
      "source": [
        "train_data.shape"
      ],
      "metadata": {
        "colab": {
          "base_uri": "https://localhost:8080/"
        },
        "outputId": "a545a1a6-f828-497c-82f1-b27f1d8b2c40",
        "id": "hilLbXnf00Uf",
        "collapsed": true
      },
      "execution_count": null,
      "outputs": [
        {
          "output_type": "execute_result",
          "data": {
            "text/plain": [
              "(72, 1)"
            ]
          },
          "metadata": {},
          "execution_count": 47
        }
      ]
    },
    {
      "cell_type": "code",
      "source": [
        "test_data.shape"
      ],
      "metadata": {
        "id": "FkpU3n4g00Ug",
        "colab": {
          "base_uri": "https://localhost:8080/"
        },
        "outputId": "11f9bd9b-139b-4250-9836-06d254a2c696",
        "collapsed": true
      },
      "execution_count": null,
      "outputs": [
        {
          "output_type": "execute_result",
          "data": {
            "text/plain": [
              "(25, 1)"
            ]
          },
          "metadata": {},
          "execution_count": 48
        }
      ]
    },
    {
      "cell_type": "markdown",
      "source": [
        "### **Making train and test data by using CustomDataset class**"
      ],
      "metadata": {
        "id": "LkEzDc74AQcp"
      }
    },
    {
      "cell_type": "code",
      "source": [
        "train_dataset = CustomDataset(train_data,train_targets)\n",
        "\n",
        "test_dataset = CustomDataset(test_data,test_targets)"
      ],
      "metadata": {
        "id": "tNrKL8yr5ayZ"
      },
      "execution_count": null,
      "outputs": []
    },
    {
      "cell_type": "markdown",
      "source": [
        "### **Data Loader**\n",
        "\n",
        "We will use same data class and dataset created previously ."
      ],
      "metadata": {
        "id": "g7bQ8gT25iIU"
      }
    },
    {
      "cell_type": "code",
      "source": [
        "train_loader = torch.utils.data.DataLoader(train_dataset,batch_size=12,num_workers=2)\n",
        "\n",
        "test_loader = torch.utils.data.DataLoader(test_dataset,batch_size=25,num_workers=2)"
      ],
      "metadata": {
        "id": "0KYi7-5D4_X1"
      },
      "execution_count": null,
      "outputs": []
    },
    {
      "cell_type": "code",
      "source": [
        "train_loader"
      ],
      "metadata": {
        "colab": {
          "base_uri": "https://localhost:8080/"
        },
        "id": "UTb6MzR47E-9",
        "outputId": "efc1851c-cb2a-42f4-8aee-36cb2bc4b89f"
      },
      "execution_count": null,
      "outputs": [
        {
          "output_type": "execute_result",
          "data": {
            "text/plain": [
              "<torch.utils.data.dataloader.DataLoader at 0x7e529839c2d0>"
            ]
          },
          "metadata": {},
          "execution_count": 51
        }
      ]
    },
    {
      "cell_type": "code",
      "source": [
        "for data in train_loader:\n",
        "  print(data[\"sample\"].shape)\n",
        "  print(data[\"target\"].shape)\n",
        "  print(data)"
      ],
      "metadata": {
        "id": "w9_9H59a7X7m",
        "colab": {
          "base_uri": "https://localhost:8080/"
        },
        "collapsed": true,
        "outputId": "ad62c745-32be-4d80-8976-21619ff0b3d8"
      },
      "execution_count": null,
      "outputs": [
        {
          "output_type": "stream",
          "name": "stdout",
          "text": [
            "torch.Size([12, 1])\n",
            "torch.Size([12, 1])\n",
            "{'sample': tensor([[ 8.8254],\n",
            "        [ 8.2934],\n",
            "        [ 8.2111],\n",
            "        [ 5.1301],\n",
            "        [ 5.1884],\n",
            "        [ 8.0959],\n",
            "        [11.7000],\n",
            "        [ 6.3654],\n",
            "        [ 7.8247],\n",
            "        [ 8.5781],\n",
            "        [ 5.0594],\n",
            "        [ 5.5277]]), 'target': tensor([[ 5.1694],\n",
            "        [ 0.1445],\n",
            "        [ 6.5426],\n",
            "        [ 0.5608],\n",
            "        [ 0.2042],\n",
            "        [ 4.1164],\n",
            "        [ 8.0043],\n",
            "        [ 5.3048],\n",
            "        [ 6.7318],\n",
            "        [12.0000],\n",
            "        [ 2.8214],\n",
            "        [ 9.1302]])}\n",
            "torch.Size([12, 1])\n",
            "torch.Size([12, 1])\n",
            "{'sample': tensor([[ 5.6397],\n",
            "        [ 5.7340],\n",
            "        [ 9.3102],\n",
            "        [ 6.5159],\n",
            "        [22.2030],\n",
            "        [ 6.4862],\n",
            "        [ 6.8825],\n",
            "        [13.1760],\n",
            "        [ 7.2259],\n",
            "        [ 5.0546],\n",
            "        [ 6.3328],\n",
            "        [ 7.0931]]), 'target': tensor([[ 4.6042],\n",
            "        [ 3.1551],\n",
            "        [ 3.9624],\n",
            "        [ 5.3436],\n",
            "        [24.1470],\n",
            "        [ 6.5987],\n",
            "        [ 3.9115],\n",
            "        [14.6920],\n",
            "        [ 3.3411],\n",
            "        [ 3.8166],\n",
            "        [ 1.4233],\n",
            "        [ 1.0463]])}\n",
            "torch.Size([12, 1])\n",
            "torch.Size([12, 1])\n",
            "{'sample': tensor([[ 5.8014],\n",
            "        [ 8.4084],\n",
            "        [ 7.2182],\n",
            "        [ 5.4069],\n",
            "        [13.3940],\n",
            "        [ 5.8707],\n",
            "        [ 5.5204],\n",
            "        [ 5.4994],\n",
            "        [10.2360],\n",
            "        [ 8.5172],\n",
            "        [ 5.4369],\n",
            "        [ 5.3794]]), 'target': tensor([[1.8440],\n",
            "        [7.2258],\n",
            "        [4.8852],\n",
            "        [0.5566],\n",
            "        [9.0551],\n",
            "        [7.2029],\n",
            "        [0.1520],\n",
            "        [1.0173],\n",
            "        [7.7754],\n",
            "        [4.2415],\n",
            "        [0.6170],\n",
            "        [3.5129]])}\n",
            "torch.Size([12, 1])\n",
            "torch.Size([12, 1])\n",
            "{'sample': tensor([[ 5.7737],\n",
            "        [ 5.0365],\n",
            "        [ 7.6031],\n",
            "        [ 5.7107],\n",
            "        [ 7.5386],\n",
            "        [ 7.0708],\n",
            "        [ 6.2742],\n",
            "        [10.9570],\n",
            "        [14.9080],\n",
            "        [18.9590],\n",
            "        [ 7.5402],\n",
            "        [ 5.1077]]), 'target': tensor([[ 2.4406],\n",
            "        [ 5.7014],\n",
            "        [ 4.9981],\n",
            "        [ 3.2522],\n",
            "        [ 3.8845],\n",
            "        [ 5.3893],\n",
            "        [ 2.4756],\n",
            "        [ 7.0467],\n",
            "        [12.0540],\n",
            "        [17.0540],\n",
            "        [ 6.7504],\n",
            "        [ 2.0576]])}\n",
            "torch.Size([12, 1])\n",
            "torch.Size([12, 1])\n",
            "{'sample': tensor([[ 8.2951],\n",
            "        [ 7.4239],\n",
            "        [ 6.5479],\n",
            "        [21.2790],\n",
            "        [ 7.0032],\n",
            "        [12.8360],\n",
            "        [ 8.5186],\n",
            "        [ 6.5894],\n",
            "        [ 9.2482],\n",
            "        [ 7.9334],\n",
            "        [ 5.8918],\n",
            "        [ 5.3077]]), 'target': tensor([[ 5.7442],\n",
            "        [ 4.2885],\n",
            "        [ 0.2968],\n",
            "        [17.9290],\n",
            "        [11.8540],\n",
            "        [10.1170],\n",
            "        [13.6620],\n",
            "        [ 5.9966],\n",
            "        [12.1340],\n",
            "        [ 4.5623],\n",
            "        [ 1.8495],\n",
            "        [ 1.8396]])}\n",
            "torch.Size([12, 1])\n",
            "torch.Size([12, 1])\n",
            "{'sample': tensor([[ 5.1793],\n",
            "        [ 5.8598],\n",
            "        [ 6.1101],\n",
            "        [ 6.3557],\n",
            "        [ 5.0702],\n",
            "        [10.1360],\n",
            "        [ 9.1802],\n",
            "        [ 6.3534],\n",
            "        [ 6.0020],\n",
            "        [ 8.3829],\n",
            "        [ 5.4901],\n",
            "        [ 5.7077]]), 'target': tensor([[-0.7428],\n",
            "        [ 6.8233],\n",
            "        [17.5920],\n",
            "        [ 0.6786],\n",
            "        [ 5.1337],\n",
            "        [ 6.6799],\n",
            "        [ 6.7981],\n",
            "        [ 5.4974],\n",
            "        [ 0.9269],\n",
            "        [11.8860],\n",
            "        [ 4.2630],\n",
            "        [ 1.8451]])}\n"
          ]
        }
      ]
    },
    {
      "cell_type": "markdown",
      "source": [
        "### **Model**"
      ],
      "metadata": {
        "id": "zGYK46jt00Uh"
      }
    },
    {
      "cell_type": "code",
      "source": [
        "from torch import nn # nn contains all of PyTorch's building blocks for neural networks"
      ],
      "metadata": {
        "id": "fTvbyLloDz__"
      },
      "execution_count": null,
      "outputs": []
    },
    {
      "cell_type": "code",
      "source": [
        "# Define the Linear Regression model\n",
        "class LinearRegressionModel(nn.Module):\n",
        "    def __init__(self):\n",
        "        super(LinearRegressionModel, self).__init__()\n",
        "        self.linear = nn.Linear(1, 1)\n",
        "\n",
        "    def forward(self, x):\n",
        "        return self.linear(x)"
      ],
      "metadata": {
        "id": "AXX9r4PW00Ui"
      },
      "execution_count": null,
      "outputs": []
    },
    {
      "cell_type": "markdown",
      "source": [
        "Checking the contents of a PyTorch model:\n",
        "\n",
        "Let's create a model instance with the class we've made and check its parameters using .parameters().\n",
        "\n"
      ],
      "metadata": {
        "id": "i4p_Yvjv00Ui"
      }
    },
    {
      "cell_type": "code",
      "source": [
        "# Set manual seed since nn.Parameter are randomly initialzied\n",
        "torch.manual_seed(42)\n",
        "\n",
        "# Create an instance of the model (this is a subclass of nn.Module that contains nn.Parameter(s))\n",
        "model_1 = LinearRegressionModel().to(device)\n",
        "\n",
        "# Check the nn.Parameter(s) within the nn.Module subclass we created\n",
        "list(model_1.parameters())"
      ],
      "metadata": {
        "id": "Gx13xTa000Ui",
        "colab": {
          "base_uri": "https://localhost:8080/"
        },
        "outputId": "e3594788-0779-433f-d81e-4956f1fd269d",
        "collapsed": true
      },
      "execution_count": null,
      "outputs": [
        {
          "output_type": "execute_result",
          "data": {
            "text/plain": [
              "[Parameter containing:\n",
              " tensor([[0.7645]], device='cuda:0', requires_grad=True),\n",
              " Parameter containing:\n",
              " tensor([0.8300], device='cuda:0', requires_grad=True)]"
            ]
          },
          "metadata": {},
          "execution_count": 55
        }
      ]
    },
    {
      "cell_type": "markdown",
      "source": [
        "We can also get the state (what the model contains) of the model using .state_dict()."
      ],
      "metadata": {
        "id": "5ny_o4p800Ui"
      }
    },
    {
      "cell_type": "code",
      "source": [
        "# List named parameters\n",
        "model_1.state_dict()"
      ],
      "metadata": {
        "id": "P2uP8_rP00Ui",
        "colab": {
          "base_uri": "https://localhost:8080/"
        },
        "outputId": "19a93df1-8825-4fdb-eb19-3e9d470e8f4b",
        "collapsed": true
      },
      "execution_count": null,
      "outputs": [
        {
          "output_type": "execute_result",
          "data": {
            "text/plain": [
              "OrderedDict([('linear.weight', tensor([[0.7645]], device='cuda:0')),\n",
              "             ('linear.bias', tensor([0.8300], device='cuda:0'))])"
            ]
          },
          "metadata": {},
          "execution_count": 56
        }
      ]
    },
    {
      "cell_type": "markdown",
      "source": [
        "Making predictions using torch.inference_mode()\n",
        "\n",
        "To check this we can pass it the test data X_test to see how closely it predicts y_test.\n",
        "\n",
        "When we pass data to our model, it'll go through the model's forward() method and produce a result using the computation we've defined.\n",
        "\n",
        "Let's make some predictions."
      ],
      "metadata": {
        "id": "HYaaYc8K00Uj"
      }
    },
    {
      "cell_type": "code",
      "source": [
        "xtest=[data['sample'] for data in test_loader]"
      ],
      "metadata": {
        "id": "74RYQElx2x-y"
      },
      "execution_count": null,
      "outputs": []
    },
    {
      "cell_type": "code",
      "source": [
        "xtest"
      ],
      "metadata": {
        "id": "j0x3RJuN281y",
        "outputId": "354f983a-7a3f-4341-eaf6-5c6e7f403975",
        "colab": {
          "base_uri": "https://localhost:8080/"
        },
        "collapsed": true
      },
      "execution_count": null,
      "outputs": [
        {
          "output_type": "execute_result",
          "data": {
            "text/plain": [
              "[tensor([[ 5.5649],\n",
              "         [ 7.6366],\n",
              "         [ 5.6063],\n",
              "         [ 5.3054],\n",
              "         [ 6.3589],\n",
              "         [ 6.3261],\n",
              "         [ 9.4536],\n",
              "         [18.9450],\n",
              "         [ 5.6407],\n",
              "         [10.2740],\n",
              "         [20.2700],\n",
              "         [ 5.0269],\n",
              "         [ 7.3345],\n",
              "         [12.8280],\n",
              "         [ 7.4764],\n",
              "         [ 5.7292],\n",
              "         [ 6.0062],\n",
              "         [ 6.4296],\n",
              "         [11.7080],\n",
              "         [ 9.7687],\n",
              "         [ 5.2524],\n",
              "         [ 5.5416],\n",
              "         [20.3410],\n",
              "         [14.1640],\n",
              "         [ 6.1891]])]"
            ]
          },
          "metadata": {},
          "execution_count": 58
        }
      ]
    },
    {
      "cell_type": "code",
      "source": [
        "# Make predictions with model\n",
        "with torch.inference_mode():\n",
        "    y_preds = model_1(xtest[0].to(device))\n",
        "\n",
        "# Note: in older PyTorch code you might also see torch.no_grad()\n",
        "# with torch.no_grad():\n",
        "#   y_preds = model_1(xtest)"
      ],
      "metadata": {
        "id": "6UESRm6H00Uj"
      },
      "execution_count": null,
      "outputs": []
    },
    {
      "cell_type": "markdown",
      "source": [
        "* **torch.inference_mode()** : Turns off gradient tracking (necessary for training but not for inference) to make forward-passes (data going through the forward() method faster.\n",
        "\n",
        "* Note: In older PyTorch code, you may also see **torch.no_grad()** being used for inference. While torch.inference_mode() and torch.no_grad() do similar things,\n",
        "torch.inference_mode() is newer, potentially faster and preferred."
      ],
      "metadata": {
        "id": "x3zTSq7Q00Uj"
      }
    },
    {
      "cell_type": "code",
      "source": [
        "# Check the predictions\n",
        "print(f\"Number of testing samples: {len(xtest[0])}\")\n",
        "print(f\"Number of predictions made: {len(y_preds)}\")\n",
        "print(f\"Predicted values:\\n{y_preds}\")"
      ],
      "metadata": {
        "id": "mfnORp8p00Uj",
        "colab": {
          "base_uri": "https://localhost:8080/"
        },
        "outputId": "1c3bf57e-09cc-42b5-dd0e-82a23c79adf6",
        "collapsed": true
      },
      "execution_count": null,
      "outputs": [
        {
          "output_type": "stream",
          "name": "stdout",
          "text": [
            "Number of testing samples: 25\n",
            "Number of predictions made: 25\n",
            "Predicted values:\n",
            "tensor([[ 5.0846],\n",
            "        [ 6.6685],\n",
            "        [ 5.1162],\n",
            "        [ 4.8862],\n",
            "        [ 5.6916],\n",
            "        [ 5.6666],\n",
            "        [ 8.0576],\n",
            "        [15.3142],\n",
            "        [ 5.1425],\n",
            "        [ 8.6849],\n",
            "        [16.3272],\n",
            "        [ 4.6733],\n",
            "        [ 6.4375],\n",
            "        [10.6375],\n",
            "        [ 6.5460],\n",
            "        [ 5.2102],\n",
            "        [ 5.4220],\n",
            "        [ 5.7457],\n",
            "        [ 9.7812],\n",
            "        [ 8.2986],\n",
            "        [ 4.8457],\n",
            "        [ 5.0668],\n",
            "        [16.3815],\n",
            "        [11.6589],\n",
            "        [ 5.5618]], device='cuda:0')\n"
          ]
        }
      ]
    },
    {
      "cell_type": "markdown",
      "source": [
        "### **Train model**\n",
        "\n",
        "#### Defining loss function and optimizer"
      ],
      "metadata": {
        "id": "pgRHklah00Uj"
      }
    },
    {
      "cell_type": "code",
      "source": [
        "# Create the loss function\n",
        "loss_fn = nn.MSELoss().to(device) # MSE loss\n",
        "# Create the optimizer\n",
        "optimizer = torch.optim.SGD(params=model_1.parameters(), lr=0.01) # parameters of the model to optimize,  learning rate"
      ],
      "metadata": {
        "id": "pzoWq_Fe00Uj"
      },
      "execution_count": null,
      "outputs": []
    },
    {
      "cell_type": "markdown",
      "source": [
        "#### Train and Test loop"
      ],
      "metadata": {
        "id": "uTdG6Knx00Uj"
      }
    },
    {
      "cell_type": "code",
      "source": [
        "torch.manual_seed(42)\n",
        "\n",
        "# Set the number of epochs (how many times the model will pass over the training data)\n",
        "epochs = 300\n",
        "\n",
        "# Create empty loss lists to track values\n",
        "train_loss_values = []\n",
        "test_loss_values = []\n",
        "epoch_count = []\n",
        "\n",
        "for epoch in range(epochs):\n",
        "    ### Training\n",
        "\n",
        "    # Put model in training mode (this is the default state of a model)\n",
        "    model_1.train()\n",
        "\n",
        "    # 1. Forward pass on train data using the forward() method inside\n",
        "    for batch_idx, data in enumerate(train_loader):\n",
        "      xtrain, ytrain = data[\"sample\"].to(device), data[\"target\"].to(device)\n",
        "      y_pred = model_1(xtrain)\n",
        "      # print(y_pred)\n",
        "      # 2. Calculate the loss (how different are our models predictions to the ground truth)\n",
        "      loss = loss_fn(y_pred, ytrain)\n",
        "      loss=loss+loss.item()\n",
        "      # 3. Zero grad of the optimizer\n",
        "      optimizer.zero_grad()\n",
        "      # 4. Loss backwards\n",
        "      loss.backward()\n",
        "      # 5. Progress the optimizer\n",
        "      optimizer.step()\n",
        "\n",
        "      ### Testing\n",
        "\n",
        "      # Put the model in evaluation mode\n",
        "      model_1.eval()\n",
        "\n",
        "      with torch.inference_mode():\n",
        "        # 1. Forward pass on test data\n",
        "        for batch_idx, data in enumerate(test_loader):\n",
        "          xtest, ytest = data[\"sample\"].to(device), data[\"target\"].to(device)\n",
        "          test_pred = model_1(xtest)\n",
        "\n",
        "          # 2. Caculate loss on test data\n",
        "          test_loss = loss_fn(test_pred, ytest.type(torch.float)) # predictions come in torch.float datatype, so comparisons need to be done with tensors of the same type\n",
        "          test_loss=test_loss+test_loss.item()\n",
        "        test_loss=test_loss/len(test_loader)\n",
        "    loss=loss/len(train_loader)\n",
        "    # Print out what's happening\n",
        "    if epoch % 10 == 0:\n",
        "          epoch_count.append(epoch)\n",
        "          train_loss_values.append(loss.detach().cpu().numpy())\n",
        "          test_loss_values.append(test_loss.detach().cpu().numpy())\n",
        "          print(f\"Epoch: {epoch} | Train Loss: {loss} | Test Loss: {test_loss} \")"
      ],
      "metadata": {
        "id": "_x34M1qr00Uj",
        "colab": {
          "base_uri": "https://localhost:8080/"
        },
        "outputId": "6b1f4c36-b3af-4b16-f705-06c23e7e2da2",
        "collapsed": true
      },
      "execution_count": null,
      "outputs": [
        {
          "output_type": "stream",
          "name": "stdout",
          "text": [
            "Epoch: 0 | Train Loss: 7.354275703430176 | Test Loss: 33.02118682861328 \n",
            "Epoch: 10 | Train Loss: 7.351718902587891 | Test Loss: 28.631608963012695 \n",
            "Epoch: 20 | Train Loss: 7.3677191734313965 | Test Loss: 25.69140625 \n",
            "Epoch: 30 | Train Loss: 7.392473220825195 | Test Loss: 23.73381805419922 \n",
            "Epoch: 40 | Train Loss: 7.4208879470825195 | Test Loss: 22.44063949584961 \n",
            "Epoch: 50 | Train Loss: 7.449864864349365 | Test Loss: 21.595073699951172 \n",
            "Epoch: 60 | Train Loss: 7.477609634399414 | Test Loss: 21.04969596862793 \n",
            "Epoch: 70 | Train Loss: 7.503168106079102 | Test Loss: 20.704471588134766 \n",
            "Epoch: 80 | Train Loss: 7.526111602783203 | Test Loss: 20.491718292236328 \n",
            "Epoch: 90 | Train Loss: 7.546338081359863 | Test Loss: 20.365795135498047 \n",
            "Epoch: 100 | Train Loss: 7.563934326171875 | Test Loss: 20.296058654785156 \n",
            "Epoch: 110 | Train Loss: 7.57908821105957 | Test Loss: 20.262062072753906 \n",
            "Epoch: 120 | Train Loss: 7.592042446136475 | Test Loss: 20.250232696533203 \n",
            "Epoch: 130 | Train Loss: 7.6030473709106445 | Test Loss: 20.251663208007812 \n",
            "Epoch: 140 | Train Loss: 7.6123552322387695 | Test Loss: 20.26056480407715 \n",
            "Epoch: 150 | Train Loss: 7.620197296142578 | Test Loss: 20.27324676513672 \n",
            "Epoch: 160 | Train Loss: 7.626784324645996 | Test Loss: 20.287403106689453 \n",
            "Epoch: 170 | Train Loss: 7.632305145263672 | Test Loss: 20.301645278930664 \n",
            "Epoch: 180 | Train Loss: 7.636920928955078 | Test Loss: 20.31515884399414 \n",
            "Epoch: 190 | Train Loss: 7.640775203704834 | Test Loss: 20.327545166015625 \n",
            "Epoch: 200 | Train Loss: 7.643990993499756 | Test Loss: 20.33863067626953 \n",
            "Epoch: 210 | Train Loss: 7.646668910980225 | Test Loss: 20.34836769104004 \n",
            "Epoch: 220 | Train Loss: 7.648897171020508 | Test Loss: 20.35682487487793 \n",
            "Epoch: 230 | Train Loss: 7.650752067565918 | Test Loss: 20.364099502563477 \n",
            "Epoch: 240 | Train Loss: 7.652292251586914 | Test Loss: 20.370311737060547 \n",
            "Epoch: 250 | Train Loss: 7.653571605682373 | Test Loss: 20.375579833984375 \n",
            "Epoch: 260 | Train Loss: 7.654635429382324 | Test Loss: 20.380033493041992 \n",
            "Epoch: 270 | Train Loss: 7.655517101287842 | Test Loss: 20.3837833404541 \n",
            "Epoch: 280 | Train Loss: 7.65625 | Test Loss: 20.38693618774414 \n",
            "Epoch: 290 | Train Loss: 7.656857490539551 | Test Loss: 20.389568328857422 \n"
          ]
        }
      ]
    },
    {
      "cell_type": "code",
      "source": [
        "# Plot the loss curves\n",
        "plt.plot(epoch_count, train_loss_values, label=\"Train loss\")\n",
        "plt.plot(epoch_count, test_loss_values, label=\"Test loss\")\n",
        "plt.title(\"Training and test loss curves\")\n",
        "plt.ylabel(\"Loss\")\n",
        "plt.xlabel(\"Epochs\")\n",
        "plt.legend();"
      ],
      "metadata": {
        "id": "Kj0kDmbkNF1a",
        "colab": {
          "base_uri": "https://localhost:8080/",
          "height": 472
        },
        "outputId": "93347795-6503-4bd6-bb33-c63b61b26625",
        "collapsed": true
      },
      "execution_count": null,
      "outputs": [
        {
          "output_type": "display_data",
          "data": {
            "text/plain": [
              "<Figure size 640x480 with 1 Axes>"
            ],
            "image/png": "[encoded data removed]"
          },
          "metadata": {}
        }
      ]
    },
    {
      "cell_type": "code",
      "source": [
        "# Find our model's learned parameters\n",
        "print(\"The model learned the following values for weights and bias:\")\n",
        "print(model_0.state_dict())"
      ],
      "metadata": {
        "id": "uDt0HTLPllkZ",
        "colab": {
          "base_uri": "https://localhost:8080/"
        },
        "outputId": "cc2d7caf-43d2-4814-b9c4-f1fea301b9f6",
        "collapsed": true
      },
      "execution_count": null,
      "outputs": [
        {
          "output_type": "stream",
          "name": "stdout",
          "text": [
            "The model learned the following values for weights and bias:\n",
            "OrderedDict([('linear.weight', tensor([[1.1353]], device='cuda:0')), ('linear.bias', tensor([-3.4266], device='cuda:0'))])\n"
          ]
        }
      ]
    },
    {
      "cell_type": "markdown",
      "source": [
        "#### **Making predictions with a trained PyTorch model (inference)**"
      ],
      "metadata": {
        "id": "jyvSEe5j00Uk"
      }
    },
    {
      "cell_type": "code",
      "source": [
        "# 1. Set the model in evaluation mode\n",
        "model_0.eval()\n",
        "y_pred=[]\n",
        "y_gt=[]\n",
        "\n",
        "# 2. Setup the inference mode context manager\n",
        "with torch.inference_mode():\n",
        "  model_0.to(device)\n",
        "  for data in train_loader:\n",
        "    xtrain=data['sample']\n",
        "    ytrain=data['target']\n",
        "\n",
        "    y_preds = model_0(xtrain.to(device))\n",
        "    y_gt.append(ytrain)\n",
        "    y_pred.append(y_preds )"
      ],
      "metadata": {
        "id": "aIGTeTV800Uk"
      },
      "execution_count": null,
      "outputs": []
    },
    {
      "cell_type": "code",
      "source": [
        "Y_pred= torch.cat(y_pred).view(-1)\n",
        "Y_label= torch.cat(y_gt).view(-1)"
      ],
      "metadata": {
        "id": "f4gYQv2wrcm-"
      },
      "execution_count": null,
      "outputs": []
    },
    {
      "cell_type": "code",
      "source": [
        "plt.figure(figsize=(12,8))\n",
        "plt.scatter(df.Population,df.Profit)\n",
        "plt.xlabel('Population of Area in 10,000')\n",
        "plt.ylabel('Profit of Appolo Pharmacy in 10,000')\n",
        "plt.plot(train_data,Y_pred.cpu(),'r-')"
      ],
      "metadata": {
        "id": "YPuMAXRT00Uk",
        "colab": {
          "base_uri": "https://localhost:8080/",
          "height": 713
        },
        "outputId": "52547086-c4b8-4aa8-c6a7-96062e3bf9b3",
        "collapsed": true
      },
      "execution_count": null,
      "outputs": [
        {
          "output_type": "execute_result",
          "data": {
            "text/plain": [
              "[<matplotlib.lines.Line2D at 0x7e529076d610>]"
            ]
          },
          "metadata": {},
          "execution_count": 67
        },
        {
          "output_type": "display_data",
          "data": {
            "text/plain": [
              "<Figure size 1200x800 with 1 Axes>"
            ],
            "image/png": "[encoded data removed]"
          },
          "metadata": {}
        }
      ]
    }
  ]
}