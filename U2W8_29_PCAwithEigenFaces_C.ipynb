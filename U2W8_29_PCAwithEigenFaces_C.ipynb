{
  "nbformat": 4,
  "nbformat_minor": 0,
  "metadata": {
    "colab": {
      "provenance": [],
      "include_colab_link": true
    },
    "kernelspec": {
      "display_name": "Python 3",
      "language": "python",
      "name": "python3"
    }
  },
  "cells": [
    {
      "cell_type": "markdown",
      "metadata": {
        "id": "view-in-github",
        "colab_type": "text"
      },
      "source": [
        "<a href=\"https://colab.research.google.com/github/lakhanrajpatlolla/aiml-learning/blob/master/U2W8_29_PCAwithEigenFaces_C.ipynb\" target=\"_parent\"><img src=\"https://colab.research.google.com/assets/colab-badge.svg\" alt=\"Open In Colab\"/></a>"
      ]
    },
    {
      "cell_type": "markdown",
      "metadata": {
        "id": "HjrYIpy2yYbI"
      },
      "source": [
        "# Advanced Certification in AIML\n",
        "## A Program by IIIT-H and TalentSprint\n",
        "\n"
      ]
    },
    {
      "cell_type": "markdown",
      "metadata": {
        "id": "x77SzRGJcY3o"
      },
      "source": [
        "## Learning Objectives"
      ]
    },
    {
      "cell_type": "markdown",
      "metadata": {
        "id": "UKB4OmrMccgl"
      },
      "source": [
        "At the end of the experiment,  you will be able to :\n",
        "\n",
        "* Understand how to derive Eigen faces using PCA\n",
        "* Use the PCA features for classification purpose"
      ]
    },
    {
      "cell_type": "code",
      "metadata": {
        "id": "YGXM1QVJnGcI",
        "cellView": "form"
      },
      "source": [
        "#@title Experiment Walkthrough Video\n",
        "\n",
        "from IPython.display import HTML\n",
        "HTML(\"\"\"<video width=\"854\" height=\"480\" controls>\n",
        "<source src=\"https://cdn.talentsprint.com/talentsprint1/archives/sc/aiml/aiml_2018_b7_hyd/experiment_details_backup/pca_with_eigen_faces.mp4\" type=\"video/mp4\">\n",
        "</video>\"\"\")"
      ],
      "execution_count": null,
      "outputs": []
    },
    {
      "cell_type": "markdown",
      "metadata": {
        "id": "nFEZUAvJdXcW"
      },
      "source": [
        "\n",
        "\n",
        "## Dataset"
      ]
    },
    {
      "cell_type": "markdown",
      "metadata": {
        "id": "_reikMZBdZ0o"
      },
      "source": [
        "### Description\n",
        "\n",
        "The dataset chosen for this experiment is a preprocessed excerpt of the “Labeled Faces in the Wild”, aka LFW.\n",
        "\n",
        "Labeled Faces in the Wild, a database of face photographs designed for studying the problem of unconstrained face recognition. The data set contains more than 13,000 images of faces collected from the web. Each face has been labeled with the name of the person pictured. 1680 of the people pictured have two or more distinct photos in the data set. The only constraint on these faces is that they were detected by the Viola-Jones face detector."
      ]
    },
    {
      "cell_type": "markdown",
      "metadata": {
        "id": "RlGNyzR5fsxQ"
      },
      "source": [
        "## AI / ML Technique"
      ]
    },
    {
      "cell_type": "markdown",
      "metadata": {
        "id": "Vy4vk5Fdfwg3"
      },
      "source": [
        "### Eigen Faces\n",
        "\n",
        "Eigenfaces is the name given to a set of eigenvectors when they are used in the computer vision problem of human face recognition. The approach of using eigenfaces for recognition was developed by Sirovich and Kirby (1987) and used by Matthew Turk and Alex Pentland in face classification. The eigenvectors are derived from the covariance matrix of the probability distribution over the high-dimensional vector space of face images. The eigenfaces themselves form a basis set of all images used to construct the covariance matrix. This produces dimension reduction by allowing the smaller set of basis images to represent the original training images. Classification can be achieved by comparing how faces are represented by the basis set."
      ]
    },
    {
      "cell_type": "markdown",
      "metadata": {
        "id": "x0NXZHYU5AK8"
      },
      "source": [
        "### Setup Steps:"
      ]
    },
    {
      "cell_type": "code",
      "metadata": {
        "id": "_cKBpmt35ALY"
      },
      "source": [
        "#@title Please enter your registration id to start: { run: \"auto\", display-mode: \"form\" }\n",
        "Id = \"2418775\" #@param {type:\"string\"}"
      ],
      "execution_count": 1,
      "outputs": []
    },
    {
      "cell_type": "code",
      "metadata": {
        "id": "wyNWnEDA5ALZ"
      },
      "source": [
        "#@title Please enter your password (normally your phone number) to continue: { run: \"auto\", display-mode: \"form\" }\n",
        "password = \"9959000490\" #@param {type:\"string\"}"
      ],
      "execution_count": 2,
      "outputs": []
    },
    {
      "cell_type": "code",
      "metadata": {
        "cellView": "form",
        "id": "AnmTohaQ5ALa",
        "outputId": "b9a6204e-2017-4a1c-aab5-596af53be964",
        "colab": {
          "base_uri": "https://localhost:8080/",
          "height": 34
        }
      },
      "source": [
        "#@title Run this cell to complete the setup for this Notebook\n",
        "from IPython import get_ipython\n",
        "import re\n",
        "ipython = get_ipython()\n",
        "\n",
        "notebook= \"U2W8_29_PCAwithEigenFaces_C\" #name of the notebook\n",
        "\n",
        "def setup():\n",
        "#  ipython.magic(\"sx pip3 install torch\")\n",
        "    from IPython.display import HTML, display\n",
        "    display(HTML('<script src=\"https://dashboard.talentsprint.com/aiml/record_ip.html?traineeId={0}&recordId={1}\"></script>'.format(getId(),submission_id)))\n",
        "    print(\"Setup completed successfully\")\n",
        "    return\n",
        "\n",
        "def submit_notebook():\n",
        "    ipython.magic(\"notebook -e \"+ notebook + \".ipynb\")\n",
        "\n",
        "    import requests, json, base64, datetime\n",
        "\n",
        "    url = \"https://dashboard.talentsprint.com/xp/app/save_notebook_attempts\"\n",
        "    if not submission_id:\n",
        "      data = {\"id\" : getId(), \"notebook\" : notebook, \"mobile\" : getPassword()}\n",
        "      r = requests.post(url, data = data)\n",
        "      r = json.loads(r.text)\n",
        "\n",
        "      if r[\"status\"] == \"Success\":\n",
        "          return r[\"record_id\"]\n",
        "      elif \"err\" in r:\n",
        "        print(r[\"err\"])\n",
        "        return None\n",
        "      else:\n",
        "        print (\"Something is wrong, the notebook will not be submitted for grading\")\n",
        "        return None\n",
        "\n",
        "    elif getAnswer() and getComplexity() and getAdditional() and getConcepts() and getWalkthrough() and getComments() and getMentorSupport():\n",
        "      f = open(notebook + \".ipynb\", \"rb\")\n",
        "      file_hash = base64.b64encode(f.read())\n",
        "\n",
        "      data = {\"complexity\" : Complexity, \"additional\" :Additional,\n",
        "              \"concepts\" : Concepts, \"record_id\" : submission_id,\n",
        "              \"answer\" : Answer, \"id\" : Id, \"file_hash\" : file_hash,\n",
        "              \"notebook\" : notebook, \"feedback_walkthrough\":Walkthrough ,\n",
        "              \"feedback_experiments_input\" : Comments,\n",
        "              \"feedback_inclass_mentor\": Mentor_support}\n",
        "\n",
        "      r = requests.post(url, data = data)\n",
        "      r = json.loads(r.text)\n",
        "      if \"err\" in r:\n",
        "        print(r[\"err\"])\n",
        "        return None\n",
        "      else:\n",
        "        print(\"Your submission is successful.\")\n",
        "        print(\"Ref Id:\", submission_id)\n",
        "        print(\"Date of submission: \", r[\"date\"])\n",
        "        print(\"Time of submission: \", r[\"time\"])\n",
        "        print(\"View your submissions: https://learn-iiith.talentsprint.com/notebook_submissions\")\n",
        "        #print(\"For any queries/discrepancies, please connect with mentors through the chat icon in LMS dashboard.\")\n",
        "        return submission_id\n",
        "    else: submission_id\n",
        "\n",
        "\n",
        "def getAdditional():\n",
        "  try:\n",
        "    if not Additional:\n",
        "      raise NameError\n",
        "    else:\n",
        "      return Additional\n",
        "  except NameError:\n",
        "    print (\"Please answer Additional Question\")\n",
        "    return None\n",
        "\n",
        "def getComplexity():\n",
        "  try:\n",
        "    if not Complexity:\n",
        "      raise NameError\n",
        "    else:\n",
        "      return Complexity\n",
        "  except NameError:\n",
        "    print (\"Please answer Complexity Question\")\n",
        "    return None\n",
        "\n",
        "def getConcepts():\n",
        "  try:\n",
        "    if not Concepts:\n",
        "      raise NameError\n",
        "    else:\n",
        "      return Concepts\n",
        "  except NameError:\n",
        "    print (\"Please answer Concepts Question\")\n",
        "    return None\n",
        "\n",
        "\n",
        "def getWalkthrough():\n",
        "  try:\n",
        "    if not Walkthrough:\n",
        "      raise NameError\n",
        "    else:\n",
        "      return Walkthrough\n",
        "  except NameError:\n",
        "    print (\"Please answer Walkthrough Question\")\n",
        "    return None\n",
        "\n",
        "def getComments():\n",
        "  try:\n",
        "    if not Comments:\n",
        "      raise NameError\n",
        "    else:\n",
        "      return Comments\n",
        "  except NameError:\n",
        "    print (\"Please answer Comments Question\")\n",
        "    return None\n",
        "\n",
        "\n",
        "def getMentorSupport():\n",
        "  try:\n",
        "    if not Mentor_support:\n",
        "      raise NameError\n",
        "    else:\n",
        "      return Mentor_support\n",
        "  except NameError:\n",
        "    print (\"Please answer Mentor support Question\")\n",
        "    return None\n",
        "\n",
        "def getAnswer():\n",
        "  try:\n",
        "    if not Answer:\n",
        "      raise NameError\n",
        "    else:\n",
        "      return Answer\n",
        "  except NameError:\n",
        "    print (\"Please answer Question\")\n",
        "    return None\n",
        "\n",
        "\n",
        "def getId():\n",
        "  try:\n",
        "    return Id if Id else None\n",
        "  except NameError:\n",
        "    return None\n",
        "\n",
        "def getPassword():\n",
        "  try:\n",
        "    return password if password else None\n",
        "  except NameError:\n",
        "    return None\n",
        "\n",
        "submission_id = None\n",
        "### Setup\n",
        "if getPassword() and getId():\n",
        "  submission_id = submit_notebook()\n",
        "  if submission_id:\n",
        "    setup()\n",
        "else:\n",
        "  print (\"Please complete Id and Password cells before running setup\")\n",
        "\n"
      ],
      "execution_count": 3,
      "outputs": [
        {
          "output_type": "display_data",
          "data": {
            "text/plain": [
              "<IPython.core.display.HTML object>"
            ],
            "text/html": [
              "<script src=\"https://dashboard.talentsprint.com/aiml/record_ip.html?traineeId=2418775&recordId=1518\"></script>"
            ]
          },
          "metadata": {}
        },
        {
          "output_type": "stream",
          "name": "stdout",
          "text": [
            "Setup completed successfully\n"
          ]
        }
      ]
    },
    {
      "cell_type": "markdown",
      "metadata": {
        "id": "_R_HrXRcyYbL"
      },
      "source": [
        "## Importing Required Packages"
      ]
    },
    {
      "cell_type": "code",
      "metadata": {
        "id": "BBg8NqofzFy3"
      },
      "source": [
        "from time import time\n",
        "import matplotlib.pyplot as plt\n",
        "\n",
        "# Importing Sklearn Packages\n",
        "from sklearn.model_selection import train_test_split\n",
        "from sklearn.datasets import fetch_lfw_people\n",
        "from sklearn.metrics import classification_report\n",
        "from sklearn.metrics import confusion_matrix\n",
        "from sklearn.decomposition import PCA\n",
        "from sklearn.metrics import accuracy_score"
      ],
      "execution_count": 4,
      "outputs": []
    },
    {
      "cell_type": "markdown",
      "metadata": {
        "id": "Gmjym9DFJwF_"
      },
      "source": [
        "## Download the data\n",
        "\n",
        "Load the Labeled Faces in the Wild (LFW) people dataset, To know more about LFW people dataset refer [link](https://scikit-learn.org/stable/modules/generated/sklearn.datasets.fetch_lfw_people.html)"
      ]
    },
    {
      "cell_type": "code",
      "metadata": {
        "id": "t3BSxmnXJvgJ"
      },
      "source": [
        "# Loading and Downloading data from sklearn\n",
        "lfw_people = fetch_lfw_people(min_faces_per_person=70, resize=0.4)\n",
        "\n",
        "# Storing images arrays shapes (for plotting)\n",
        "n_samples, h, w = lfw_people.images.shape"
      ],
      "execution_count": 5,
      "outputs": []
    },
    {
      "cell_type": "markdown",
      "metadata": {
        "id": "CLB7CpEw2j0x"
      },
      "source": [
        "`lfw_poeple` provides various attributes, where in `lfw_people.images` is the features of 3-dimensional shape and `lfw_people.data` holds the same information of images which is flattened array of images (1-dimensional array)"
      ]
    },
    {
      "cell_type": "markdown",
      "metadata": {
        "id": "I9-dYGItJ_ex"
      },
      "source": [
        "## Assigning lfw_people data to the X variable, by using the 'data' attribute."
      ]
    },
    {
      "cell_type": "code",
      "metadata": {
        "id": "hrC0ewCmzMx4",
        "outputId": "0e76b894-cace-4e69-df63-4a7336dfe6cc",
        "colab": {
          "base_uri": "https://localhost:8080/"
        }
      },
      "source": [
        "X = lfw_people.data\n",
        "\n",
        "# Data is stored in X, where the shape of X is (no.of samples, no.of features)\n",
        "n_features = X.shape[1]\n",
        "X.shape[0], X.shape[1]"
      ],
      "execution_count": 6,
      "outputs": [
        {
          "output_type": "execute_result",
          "data": {
            "text/plain": [
              "(1288, 1850)"
            ]
          },
          "metadata": {},
          "execution_count": 6
        }
      ]
    },
    {
      "cell_type": "code",
      "metadata": {
        "id": "Aq5O4SJjzXpi",
        "outputId": "ec00be26-390b-4a00-e55d-b5aad61276bd",
        "colab": {
          "base_uri": "https://localhost:8080/"
        }
      },
      "source": [
        "# The label is the id of the person\n",
        "y = lfw_people.target\n",
        "\n",
        "# Loading the target names (Label names)\n",
        "target_names = lfw_people.target_names\n",
        "\n",
        "# Checkinq no.of classes\n",
        "n_classes = target_names.shape[0]\n",
        "\n",
        "print(\"Target names:\", target_names)\n",
        "print(\"\\nTotal dataset size:\")\n",
        "print(\"n_samples: %d\" % n_samples)\n",
        "print(\"n_features: %d\" % n_features)\n",
        "print(\"n_classes: %d\" % n_classes)"
      ],
      "execution_count": 7,
      "outputs": [
        {
          "output_type": "stream",
          "name": "stdout",
          "text": [
            "Target names: ['Ariel Sharon' 'Colin Powell' 'Donald Rumsfeld' 'George W Bush'\n",
            " 'Gerhard Schroeder' 'Hugo Chavez' 'Tony Blair']\n",
            "\n",
            "Total dataset size:\n",
            "n_samples: 1288\n",
            "n_features: 1850\n",
            "n_classes: 7\n"
          ]
        }
      ]
    },
    {
      "cell_type": "markdown",
      "metadata": {
        "id": "fxkbeTCsKRm0"
      },
      "source": [
        "## Split into a training and testing set using train_test_split sklearn function\n"
      ]
    },
    {
      "cell_type": "code",
      "metadata": {
        "id": "lEGSgiOynFFt",
        "outputId": "c4aec889-a289-4eb4-8bb1-1b3898d0ede7",
        "colab": {
          "base_uri": "https://localhost:8080/"
        }
      },
      "source": [
        "X.shape, y.shape"
      ],
      "execution_count": 8,
      "outputs": [
        {
          "output_type": "execute_result",
          "data": {
            "text/plain": [
              "((1288, 1850), (1288,))"
            ]
          },
          "metadata": {},
          "execution_count": 8
        }
      ]
    },
    {
      "cell_type": "code",
      "metadata": {
        "id": "TU7bRT6WKQ8m",
        "outputId": "054bff2c-5cef-4b19-f2af-4dc5b43cbd47",
        "colab": {
          "base_uri": "https://localhost:8080/"
        }
      },
      "source": [
        "X_train, X_test, y_train, y_test = train_test_split(X, y, test_size=0.25)\n",
        "X_train.shape, X_test.shape"
      ],
      "execution_count": 9,
      "outputs": [
        {
          "output_type": "execute_result",
          "data": {
            "text/plain": [
              "((966, 1850), (322, 1850))"
            ]
          },
          "metadata": {},
          "execution_count": 9
        }
      ]
    },
    {
      "cell_type": "markdown",
      "metadata": {
        "id": "1-fb1HraKiHU"
      },
      "source": [
        "## Performing PCA on the face images, otherwise known as Eigenfaces"
      ]
    },
    {
      "cell_type": "markdown",
      "metadata": {
        "id": "bauwkVrNK4yU"
      },
      "source": [
        "## Compute the PCA\n",
        "\n",
        "In PCA, a parameter Whiten = True, will remove some information from the transformed signal (the relative variance scales of the components) but can sometime improve the predictive accuracy of the downstream estimators by making their data respect some hard-wired assumptions.\n",
        "\n",
        "Whitening just makes our resulting data have a unit variance, which has been shown to produce better results"
      ]
    },
    {
      "cell_type": "code",
      "metadata": {
        "id": "ZIbummkGzYH6",
        "outputId": "69373e4d-c046-4882-be48-2f6e1ea2cd7c",
        "colab": {
          "base_uri": "https://localhost:8080/"
        }
      },
      "source": [
        "# Compute a PCA (eigenfaces) on the face dataset (treated as unlabeled\n",
        "# dataset): unsupervised feature extraction / dimensionality reduction\n",
        "\n",
        "n_components = 150\n",
        "\n",
        "print(\"Extracting the top %d eigenfaces from %d faces\"\n",
        "      % (n_components, X_train.shape[0]))\n",
        "\n",
        "# Starting the timer\n",
        "t0 = time()\n",
        "\n",
        "# Trying to extract PCA features using PCA function from sklearn\n",
        "pca = PCA(n_components=n_components, whiten=True).fit(X_train)\n",
        "\n",
        "# Printing the time taken to extract the features\n",
        "print(\"done in %0.3fs\" % (time() - t0))\n",
        "\n",
        "# Storing the eigen faces and reshaping to 3 dimensions\n",
        "# pca.components_ is the set of all eigenvectors of the covariance matrix (one eigenvector for each principal component)\n",
        "eigenfaces = pca.components_.reshape((n_components, h, w))"
      ],
      "execution_count": 10,
      "outputs": [
        {
          "output_type": "stream",
          "name": "stdout",
          "text": [
            "Extracting the top 150 eigenfaces from 966 faces\n",
            "done in 0.583s\n"
          ]
        }
      ]
    },
    {
      "cell_type": "code",
      "metadata": {
        "id": "0Vw4oQ-B3bCZ",
        "outputId": "72dca4a1-ff0d-42ed-df6a-12c23f475a84",
        "colab": {
          "base_uri": "https://localhost:8080/"
        }
      },
      "source": [
        "pca.components_.shape"
      ],
      "execution_count": 11,
      "outputs": [
        {
          "output_type": "execute_result",
          "data": {
            "text/plain": [
              "(150, 1850)"
            ]
          },
          "metadata": {},
          "execution_count": 11
        }
      ]
    },
    {
      "cell_type": "code",
      "metadata": {
        "id": "BR0YiszmSL5Y",
        "outputId": "c60a7751-8c85-4dc4-b425-f39d0a81fe95",
        "colab": {
          "base_uri": "https://localhost:8080/"
        }
      },
      "source": [
        "eigenfaces.shape"
      ],
      "execution_count": 12,
      "outputs": [
        {
          "output_type": "execute_result",
          "data": {
            "text/plain": [
              "(150, 50, 37)"
            ]
          },
          "metadata": {},
          "execution_count": 12
        }
      ]
    },
    {
      "cell_type": "markdown",
      "metadata": {
        "id": "qi0IQ1-nIIOk"
      },
      "source": [
        "## Projecting the input data on the eigenfaces orthonormal basis\n"
      ]
    },
    {
      "cell_type": "code",
      "metadata": {
        "id": "hRHdK40Fzcg6",
        "outputId": "b0ee112c-178b-4b16-8f4b-9f86dff763c4",
        "colab": {
          "base_uri": "https://localhost:8080/"
        }
      },
      "source": [
        "t0 = time()\n",
        "# Transforming the data\n",
        "X_train_pca = pca.transform(X_train)\n",
        "X_test_pca = pca.transform(X_test)\n",
        "print(\"done in %0.3fs\" % (time() - t0))"
      ],
      "execution_count": 13,
      "outputs": [
        {
          "output_type": "stream",
          "name": "stdout",
          "text": [
            "done in 0.079s\n"
          ]
        }
      ]
    },
    {
      "cell_type": "code",
      "metadata": {
        "id": "4OKjxIaLzfZP",
        "outputId": "b7a5fda3-96cc-4d17-c463-1133d6f63927",
        "colab": {
          "base_uri": "https://localhost:8080/"
        }
      },
      "source": [
        "# Checking for the shape of the original and pca data\n",
        "X_train.shape, X_train_pca.shape, X_test.shape, X_test_pca.shape"
      ],
      "execution_count": 14,
      "outputs": [
        {
          "output_type": "execute_result",
          "data": {
            "text/plain": [
              "((966, 1850), (966, 150), (322, 1850), (322, 150))"
            ]
          },
          "metadata": {},
          "execution_count": 14
        }
      ]
    },
    {
      "cell_type": "markdown",
      "metadata": {
        "id": "kzp9u2jdISz7"
      },
      "source": [
        "## Train a Linear Classifier"
      ]
    },
    {
      "cell_type": "markdown",
      "metadata": {
        "id": "kBD2USvfIapC"
      },
      "source": [
        "## Fitting the classifier to the training set"
      ]
    },
    {
      "cell_type": "code",
      "metadata": {
        "id": "IJCSYo1QYgAA"
      },
      "source": [
        "t0 = time()\n",
        "\n",
        "from sklearn.linear_model import SGDClassifier\n",
        "clf = SGDClassifier()"
      ],
      "execution_count": 15,
      "outputs": []
    },
    {
      "cell_type": "code",
      "metadata": {
        "id": "wCvUHd9_zjCo",
        "outputId": "8a225f98-dd14-43a4-8c2e-23912c0ae7cc",
        "colab": {
          "base_uri": "https://localhost:8080/"
        }
      },
      "source": [
        "# Fit the data\n",
        "clf = clf.fit(X_train_pca, y_train)\n",
        "print(\"done in %0.3fs\" % (time() - t0))"
      ],
      "execution_count": 16,
      "outputs": [
        {
          "output_type": "stream",
          "name": "stdout",
          "text": [
            "done in 2.340s\n"
          ]
        }
      ]
    },
    {
      "cell_type": "markdown",
      "metadata": {
        "id": "i486kOGEImdO"
      },
      "source": [
        "##  Quantitative evaluation of the model quality on the test set"
      ]
    },
    {
      "cell_type": "code",
      "metadata": {
        "id": "bUfrCIQazr5_",
        "outputId": "a7dae110-8682-4c84-9a49-9ad0357e0ce5",
        "colab": {
          "base_uri": "https://localhost:8080/"
        }
      },
      "source": [
        "print(\"Predicting people's names on the test set\")\n",
        "t0 = time()\n",
        "y_pred = clf.predict(X_test_pca)\n",
        "\n",
        "print(\"done in %0.3fs\" % (time() - t0))\n",
        "print(\"accuracy is\", accuracy_score(y_test,y_pred))\n",
        "\n",
        "print(\"\\nclassification report\")\n",
        "print(classification_report(y_test, y_pred, target_names=target_names))"
      ],
      "execution_count": 17,
      "outputs": [
        {
          "output_type": "stream",
          "name": "stdout",
          "text": [
            "Predicting people's names on the test set\n",
            "done in 0.009s\n",
            "accuracy is 0.7236024844720497\n",
            "\n",
            "classification report\n",
            "                   precision    recall  f1-score   support\n",
            "\n",
            "     Ariel Sharon       1.00      0.35      0.52        17\n",
            "     Colin Powell       0.71      0.68      0.70        66\n",
            "  Donald Rumsfeld       0.79      0.42      0.55        26\n",
            "    George W Bush       0.68      0.90      0.78       141\n",
            "Gerhard Schroeder       0.95      0.70      0.81        30\n",
            "      Hugo Chavez       1.00      0.31      0.47        13\n",
            "       Tony Blair       0.70      0.66      0.68        29\n",
            "\n",
            "         accuracy                           0.72       322\n",
            "        macro avg       0.83      0.57      0.64       322\n",
            "     weighted avg       0.75      0.72      0.71       322\n",
            "\n"
          ]
        }
      ]
    },
    {
      "cell_type": "markdown",
      "metadata": {
        "id": "wSBKVU6eIyZX"
      },
      "source": [
        "## Qualitative evaluation of the predictions using matplotlib\n",
        "\n",
        "Below function `plot_gallery()` takes images, titles , height, width and plots each image in subplot\n"
      ]
    },
    {
      "cell_type": "code",
      "metadata": {
        "id": "ya44ZmAEzsX5"
      },
      "source": [
        "def plot_gallery(images, titles, h, w, n_row=3, n_col=4):\n",
        "    \"\"\"Helper function to plot a gallery of portraits\n",
        "      out of all images passed it will plot only 12 images as rows and columns defined 3 and 4\"\"\"\n",
        "    plt.figure(figsize=(1.8 * n_col, 2.4 * n_row))\n",
        "    plt.subplots_adjust(bottom=0, left=.01, right=.99, top=.90, hspace=.35)\n",
        "    for i in range(n_row * n_col):\n",
        "        plt.subplot(n_row, n_col, i + 1)\n",
        "        plt.imshow(images[i].reshape((h, w)), cmap='gray')\n",
        "        plt.title(titles[i], size=12)\n",
        "        plt.xticks(())\n",
        "        plt.yticks(())"
      ],
      "execution_count": 18,
      "outputs": []
    },
    {
      "cell_type": "markdown",
      "metadata": {
        "id": "8SMZsuqasWVR"
      },
      "source": [
        "Below get_Title() function is to extract target names for predictions and actual values to plot along with images"
      ]
    },
    {
      "cell_type": "code",
      "metadata": {
        "id": "jjCCRI8trwFt"
      },
      "source": [
        "# Getting the last name of each target name\n",
        "def get_Title(y_pred, y_test, target_names, i):\n",
        "    pred_name = target_names[y_pred[i]].split(' ')[-1]\n",
        "    true_name = target_names[y_test[i]].split(' ')[-1]\n",
        "    return 'predicted: %s\\ntrue: %s' % (pred_name, true_name)"
      ],
      "execution_count": 19,
      "outputs": []
    },
    {
      "cell_type": "code",
      "metadata": {
        "id": "HlMW7PGGrtbt",
        "outputId": "a8e5da8a-dd97-4403-b58f-b3c497f24286",
        "colab": {
          "base_uri": "https://localhost:8080/",
          "height": 1000
        }
      },
      "source": [
        "# Get the prediction and actual titles and store in a list\n",
        "prediction_titles = []\n",
        "for i in range(y_pred.shape[0]):\n",
        "  title =  get_Title(y_pred, y_test, target_names, i)\n",
        "  prediction_titles.append(title)\n",
        "\n",
        "# Plot the result of the prediction on a portion of the test set\n",
        "plot_gallery(X_test, prediction_titles, h, w, n_row=5, n_col= 2)"
      ],
      "execution_count": 20,
      "outputs": [
        {
          "output_type": "display_data",
          "data": {
            "text/plain": [
              "<Figure size 360x1200 with 10 Axes>"
            ],
            "image/png": "[encoded data removed]"
          },
          "metadata": {}
        }
      ]
    },
    {
      "cell_type": "markdown",
      "metadata": {
        "id": "Kc5In04SL-8f"
      },
      "source": [
        "## Plotting the eigen faces"
      ]
    },
    {
      "cell_type": "code",
      "metadata": {
        "id": "aT8HwfEhtoaz",
        "outputId": "195508d6-518a-45c8-c61b-0d9f10b3caac",
        "colab": {
          "base_uri": "https://localhost:8080/",
          "height": 707
        }
      },
      "source": [
        "# Plot the gallery of the most significative eigenfaces\n",
        "eigenface_titles = [\"eigenface %d\" % i for i in range(eigenfaces.shape[0])]\n",
        "plot_gallery(eigenfaces, eigenface_titles, h, w)"
      ],
      "execution_count": 21,
      "outputs": [
        {
          "output_type": "display_data",
          "data": {
            "text/plain": [
              "<Figure size 720x720 with 12 Axes>"
            ],
            "image/png": "[encoded data removed]"
          },
          "metadata": {}
        }
      ]
    },
    {
      "cell_type": "markdown",
      "metadata": {
        "id": "w4-oWiOAI7kZ"
      },
      "source": [
        "### Please answer the questions below to complete the experiment:\n",
        "\n",
        "\n"
      ]
    },
    {
      "cell_type": "code",
      "metadata": {
        "id": "Hvm-8H2RI7kd"
      },
      "source": [
        "#@title State True or False: The dataset LFW, contains a set of EigenFaces which we use to train our Machine Learning model? { run: \"auto\", form-width: \"500px\", display-mode: \"form\" }\n",
        "Answer = \"False\" #@param [\"\",\"True\",\"False\"]"
      ],
      "execution_count": 22,
      "outputs": []
    },
    {
      "cell_type": "code",
      "metadata": {
        "id": "NMzKSbLIgFzQ"
      },
      "source": [
        "#@title How was the experiment? { run: \"auto\", form-width: \"500px\", display-mode: \"form\" }\n",
        "Complexity = \"Good and Challenging for me\" #@param [\"\",\"Too Simple, I am wasting time\", \"Good, But Not Challenging for me\", \"Good and Challenging for me\", \"Was Tough, but I did it\", \"Too Difficult for me\"]\n"
      ],
      "execution_count": 23,
      "outputs": []
    },
    {
      "cell_type": "code",
      "metadata": {
        "id": "DjcH1VWSFI2l"
      },
      "source": [
        "#@title If it was too easy, what more would you have liked to be added? If it was very difficult, what would you have liked to have been removed? { run: \"auto\", display-mode: \"form\" }\n",
        "Additional = \"Good\" #@param {type:\"string\"}\n"
      ],
      "execution_count": 24,
      "outputs": []
    },
    {
      "cell_type": "code",
      "metadata": {
        "id": "94dIhQKDI7kf"
      },
      "source": [
        "#@title Can you identify the concepts from the lecture which this experiment covered? { run: \"auto\", vertical-output: true, display-mode: \"form\" }\n",
        "Concepts = \"Yes\" #@param [\"\",\"Yes\", \"No\"]\n"
      ],
      "execution_count": 25,
      "outputs": []
    },
    {
      "cell_type": "code",
      "metadata": {
        "id": "YKzGvfdyI7kg"
      },
      "source": [
        "#@title  Experiment walkthrough video? { run: \"auto\", vertical-output: true, display-mode: \"form\" }\n",
        "Walkthrough = \"Somewhat Useful\" #@param [\"\",\"Very Useful\", \"Somewhat Useful\", \"Not Useful\", \"Didn't use\"]\n"
      ],
      "execution_count": 26,
      "outputs": []
    },
    {
      "cell_type": "code",
      "metadata": {
        "id": "2OjkIq7II7kh"
      },
      "source": [
        "#@title  Text and image description/explanation and code comments within the experiment: { run: \"auto\", vertical-output: true, display-mode: \"form\" }\n",
        "Comments = \"Somewhat Useful\" #@param [\"\",\"Very Useful\", \"Somewhat Useful\", \"Not Useful\", \"Didn't use\"]\n"
      ],
      "execution_count": 27,
      "outputs": []
    },
    {
      "cell_type": "code",
      "metadata": {
        "id": "OwLT_C0vI7ki"
      },
      "source": [
        "#@title Mentor Support: { run: \"auto\", vertical-output: true, display-mode: \"form\" }\n",
        "Mentor_support = \"Somewhat Useful\" #@param [\"\",\"Very Useful\", \"Somewhat Useful\", \"Not Useful\", \"Didn't use\"]\n"
      ],
      "execution_count": 28,
      "outputs": []
    },
    {
      "cell_type": "code",
      "metadata": {
        "cellView": "form",
        "id": "gPMKJg_eI7kj",
        "outputId": "10a840b1-a885-4e9a-e1af-c69582704b81",
        "colab": {
          "base_uri": "https://localhost:8080/"
        }
      },
      "source": [
        "#@title Run this cell to submit your notebook for grading { vertical-output: true }\n",
        "try:\n",
        "  if submission_id:\n",
        "      return_id = submit_notebook()\n",
        "      if return_id : submission_id = return_id\n",
        "  else:\n",
        "      print(\"Please complete the setup first.\")\n",
        "except NameError:\n",
        "  print (\"Please complete the setup first.\")"
      ],
      "execution_count": 29,
      "outputs": [
        {
          "output_type": "stream",
          "name": "stdout",
          "text": [
            "Your submission is successful.\n",
            "Ref Id: 1518\n",
            "Date of submission:  17 Jan 2025\n",
            "Time of submission:  18:46:01\n",
            "View your submissions: https://learn-iiith.talentsprint.com/notebook_submissions\n"
          ]
        }
      ]
    }
  ]
}