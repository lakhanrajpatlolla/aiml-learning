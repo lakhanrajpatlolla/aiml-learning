{
  "nbformat": 4,
  "nbformat_minor": 0,
  "metadata": {
    "colab": {
      "private_outputs": true,
      "provenance": [],
      "collapsed_sections": [
        "Kz2T6C2MrPp6",
        "62AAQoRKrQIK"
      ],
      "include_colab_link": true
    },
    "kernelspec": {
      "name": "python3",
      "display_name": "Python 3"
    }
  },
  "cells": [
    {
      "cell_type": "markdown",
      "metadata": {
        "id": "view-in-github",
        "colab_type": "text"
      },
      "source": [
        "<a href=\"https://colab.research.google.com/github/lakhanrajpatlolla/aiml-learning/blob/master/U2W7_25_Perceptron_Iris_C.ipynb\" target=\"_parent\"><img src=\"https://colab.research.google.com/assets/colab-badge.svg\" alt=\"Open In Colab\"/></a>"
      ]
    },
    {
      "cell_type": "markdown",
      "metadata": {
        "id": "HjrYIpy2yYbI"
      },
      "source": [
        "# Advanced Certification in AIML\n",
        "## A Program by IIIT-H and TalentSprint\n",
        "\n"
      ]
    },
    {
      "cell_type": "markdown",
      "metadata": {
        "id": "x77SzRGJcY3o"
      },
      "source": [
        "## Learning Objectives"
      ]
    },
    {
      "cell_type": "markdown",
      "metadata": {
        "id": "UKB4OmrMccgl"
      },
      "source": [
        "At the end of the experiment,  you will be able to :\n",
        "\n",
        "* Understand Single Layer Perceptron"
      ]
    },
    {
      "cell_type": "code",
      "metadata": {
        "id": "wZd5rQF4d28a",
        "cellView": "form"
      },
      "source": [
        "#@title Experiment Explanation Video\n",
        "from IPython.display import HTML\n",
        "\n",
        "HTML(\"\"\"<video width=\"854\" height=\"480\" controls>\n",
        "  <source src=\"https://cdn.iiith.talentsprint.com/aiml/Experiment_related_data/Walkthrough/Perceptron_Iris.mp4\" type=\"video/mp4\">\n",
        "</video>\n",
        "\"\"\")"
      ],
      "execution_count": null,
      "outputs": []
    },
    {
      "cell_type": "markdown",
      "metadata": {
        "id": "nFEZUAvJdXcW"
      },
      "source": [
        "\n",
        "\n",
        "## Dataset"
      ]
    },
    {
      "cell_type": "markdown",
      "metadata": {
        "id": "Kz2T6C2MrPp6"
      },
      "source": [
        "#### History\n",
        "\n",
        "This is a multivariate dataset introduced by R.A.Fisher (Father of Modern Statistics) for showcasing linear discriminant analysis. This is arguably the best known dataset in Feature Selection literature.\n",
        "\n",
        "\n",
        "The data set contains 3 classes of 50 instances each, where each class refers to a type of iris plant. One class is linearly separable from the other 2; the latter are NOT linearly separable from each other."
      ]
    },
    {
      "cell_type": "markdown",
      "metadata": {
        "id": "62AAQoRKrQIK"
      },
      "source": [
        "#### Description\n",
        "The Iris dataset consists of 150 data instances. There are 3 classes (Iris Versicolor, Iris Setosa, and Iris Virginica) each has 50 instances.\n",
        "\n",
        "\n",
        "For each flower, we have the below data attributes\n",
        "\n",
        "- sepal length in cm\n",
        "- sepal width in cm\n",
        "- petal length in cm\n",
        "- petal width in cm\n"
      ]
    },
    {
      "cell_type": "markdown",
      "metadata": {
        "id": "06lEbv7grYmm"
      },
      "source": [
        "## Domain Information"
      ]
    },
    {
      "cell_type": "markdown",
      "metadata": {
        "id": "QIB3dtlNrWy6"
      },
      "source": [
        "\n",
        "\n",
        "Iris Plants are flowering plants with showy flowers. They are very popular among movie directors as it gives an excellent background.\n",
        "\n",
        "They are predominantly found in dry, semi-desert, or colder rocky mountainous areas in Europe and Asia. They have long, erect flowering stems and can produce white, yellow, orange, pink, purple, lavender, blue, or brown colored flowers. There are 260 to 300 types of iris.\n",
        "\n",
        "![alt text](https://cdn-images-1.medium.com/max/1275/1*7bnLKsChXq94QjtAiRn40w.png)\n",
        "\n",
        "As you could see, flowers have 3 sepals and 3 petals.  The sepals are usually spreading or drop downwards and the petals stand upright, partly behind the sepal bases. However, the length and width of the sepals and petals vary for each type.\n"
      ]
    },
    {
      "cell_type": "markdown",
      "metadata": {
        "id": "RlGNyzR5fsxQ"
      },
      "source": [
        "## AI / ML Technique"
      ]
    },
    {
      "cell_type": "markdown",
      "metadata": {
        "id": "Vy4vk5Fdfwg3"
      },
      "source": [
        "A feedforward neural network is an artificial neural network where the connections between units do not form a cycle. Feedforward neural networks were the first type of artificial neural network invented and are simpler than their counterparts. Feedforward travels forward in the network (no loops), first through the input nodes, then through the hidden nodes, and finally through the output nodes."
      ]
    },
    {
      "cell_type": "markdown",
      "metadata": {
        "id": "BNLA8HiKxQhc"
      },
      "source": [
        "### Setup Steps:"
      ]
    },
    {
      "cell_type": "code",
      "metadata": {
        "id": "2YzfoPvJDiTX"
      },
      "source": [
        "#@title Please enter your registration id to start: { run: \"auto\", display-mode: \"form\" }\n",
        "Id = \"2418775\" #@param {type:\"string\"}"
      ],
      "execution_count": null,
      "outputs": []
    },
    {
      "cell_type": "code",
      "metadata": {
        "id": "rEzlYL4CDrmE"
      },
      "source": [
        "#@title Please enter your password (normally your phone number) to continue: { run: \"auto\", display-mode: \"form\" }\n",
        "password = \"9959000490\" #@param {type:\"string\"}"
      ],
      "execution_count": null,
      "outputs": []
    },
    {
      "cell_type": "code",
      "metadata": {
        "id": "WBPPuGmBlDIN",
        "cellView": "form"
      },
      "source": [
        "#@title Run this cell to complete the setup for this Notebook\n",
        "from IPython import get_ipython\n",
        "import re\n",
        "ipython = get_ipython()\n",
        "\n",
        "notebook= \"U2W7_25_Perceptron_Iris_C\" #name of the notebook\n",
        "\n",
        "def setup():\n",
        "#  ipython.magic(\"sx pip3 install torch\")\n",
        "    from IPython.display import HTML, display\n",
        "    ipython.magic(\"sx wget https://cdn.talentsprint.com/aiml/Experiment_related_data/Iris.csv\")\n",
        "    display(HTML('<script src=\"https://dashboard.talentsprint.com/aiml/record_ip.html?traineeId={0}&recordId={1}\"></script>'.format(getId(),submission_id)))\n",
        "    print(\"Setup completed successfully\")\n",
        "    return\n",
        "\n",
        "def submit_notebook():\n",
        "    ipython.magic(\"notebook -e \"+ notebook + \".ipynb\")\n",
        "\n",
        "    import requests, json, base64, datetime\n",
        "\n",
        "    url = \"https://dashboard.talentsprint.com/xp/app/save_notebook_attempts\"\n",
        "    if not submission_id:\n",
        "      data = {\"id\" : getId(), \"notebook\" : notebook, \"mobile\" : getPassword()}\n",
        "      r = requests.post(url, data = data)\n",
        "      r = json.loads(r.text)\n",
        "\n",
        "      if r[\"status\"] == \"Success\":\n",
        "          return r[\"record_id\"]\n",
        "      elif \"err\" in r:\n",
        "        print(r[\"err\"])\n",
        "        return None\n",
        "      else:\n",
        "        print (\"Something is wrong, the notebook will not be submitted for grading\")\n",
        "        return None\n",
        "\n",
        "    elif getAnswer() and getComplexity() and getAdditional() and getConcepts() and getWalkthrough() and getComments() and getMentorSupport():\n",
        "      f = open(notebook + \".ipynb\", \"rb\")\n",
        "      file_hash = base64.b64encode(f.read())\n",
        "\n",
        "      data = {\"complexity\" : Complexity, \"additional\" :Additional,\n",
        "              \"concepts\" : Concepts, \"record_id\" : submission_id,\n",
        "              \"answer\" : Answer, \"id\" : Id, \"file_hash\" : file_hash,\n",
        "              \"notebook\" : notebook, \"feedback_walkthrough\":Walkthrough ,\n",
        "              \"feedback_experiments_input\" : Comments,\n",
        "              \"feedback_inclass_mentor\": Mentor_support}\n",
        "\n",
        "      r = requests.post(url, data = data)\n",
        "      r = json.loads(r.text)\n",
        "      if \"err\" in r:\n",
        "        print(r[\"err\"])\n",
        "        return None\n",
        "      else:\n",
        "        print(\"Your submission is successful.\")\n",
        "        print(\"Ref Id:\", submission_id)\n",
        "        print(\"Date of submission: \", r[\"date\"])\n",
        "        print(\"Time of submission: \", r[\"time\"])\n",
        "        print(\"View your submissions: https://learn-iiith.talentsprint.com/notebook_submissions\")\n",
        "        #print(\"For any queries/discrepancies, please connect with mentors through the chat icon in LMS dashboard.\")\n",
        "        return submission_id\n",
        "    else: submission_id\n",
        "\n",
        "\n",
        "def getAdditional():\n",
        "  try:\n",
        "    if not Additional:\n",
        "      raise NameError\n",
        "    else:\n",
        "      return Additional\n",
        "  except NameError:\n",
        "    print (\"Please answer Additional Question\")\n",
        "    return None\n",
        "\n",
        "def getComplexity():\n",
        "  try:\n",
        "    if not Complexity:\n",
        "      raise NameError\n",
        "    else:\n",
        "      return Complexity\n",
        "  except NameError:\n",
        "    print (\"Please answer Complexity Question\")\n",
        "    return None\n",
        "\n",
        "def getConcepts():\n",
        "  try:\n",
        "    if not Concepts:\n",
        "      raise NameError\n",
        "    else:\n",
        "      return Concepts\n",
        "  except NameError:\n",
        "    print (\"Please answer Concepts Question\")\n",
        "    return None\n",
        "\n",
        "\n",
        "def getWalkthrough():\n",
        "  try:\n",
        "    if not Walkthrough:\n",
        "      raise NameError\n",
        "    else:\n",
        "      return Walkthrough\n",
        "  except NameError:\n",
        "    print (\"Please answer Walkthrough Question\")\n",
        "    return None\n",
        "\n",
        "def getComments():\n",
        "  try:\n",
        "    if not Comments:\n",
        "      raise NameError\n",
        "    else:\n",
        "      return Comments\n",
        "  except NameError:\n",
        "    print (\"Please answer Comments Question\")\n",
        "    return None\n",
        "\n",
        "\n",
        "def getMentorSupport():\n",
        "  try:\n",
        "    if not Mentor_support:\n",
        "      raise NameError\n",
        "    else:\n",
        "      return Mentor_support\n",
        "  except NameError:\n",
        "    print (\"Please answer Mentor support Question\")\n",
        "    return None\n",
        "\n",
        "def getAnswer():\n",
        "  try:\n",
        "    if not Answer:\n",
        "      raise NameError\n",
        "    else:\n",
        "      return Answer\n",
        "  except NameError:\n",
        "    print (\"Please answer Question\")\n",
        "    return None\n",
        "\n",
        "\n",
        "def getId():\n",
        "  try:\n",
        "    return Id if Id else None\n",
        "  except NameError:\n",
        "    return None\n",
        "\n",
        "def getPassword():\n",
        "  try:\n",
        "    return password if password else None\n",
        "  except NameError:\n",
        "    return None\n",
        "\n",
        "submission_id = None\n",
        "### Setup\n",
        "if getPassword() and getId():\n",
        "  submission_id = submit_notebook()\n",
        "  if submission_id:\n",
        "    setup()\n",
        "else:\n",
        "  print (\"Please complete Id and Password cells before running setup\")\n",
        "\n"
      ],
      "execution_count": null,
      "outputs": []
    },
    {
      "cell_type": "markdown",
      "metadata": {
        "id": "_R_HrXRcyYbL"
      },
      "source": [
        "## Import Required Packages"
      ]
    },
    {
      "cell_type": "code",
      "metadata": {
        "id": "FGFqBo0HIV-J"
      },
      "source": [
        "import pandas as pd\n",
        "import numpy as np\n",
        "from sklearn.metrics import accuracy_score"
      ],
      "execution_count": null,
      "outputs": []
    },
    {
      "cell_type": "markdown",
      "metadata": {
        "id": "AKPhAgnZIdIp"
      },
      "source": [
        "## Load the Data"
      ]
    },
    {
      "cell_type": "code",
      "metadata": {
        "id": "HEXS-fVb3aQK"
      },
      "source": [
        "# Load data using Pandas\n",
        "iris = pd.read_csv(\"/content/Iris.csv\")\n",
        "iris.head()"
      ],
      "execution_count": null,
      "outputs": []
    },
    {
      "cell_type": "code",
      "metadata": {
        "id": "Q5a-0ZiUF8JR"
      },
      "source": [
        "iris.shape"
      ],
      "execution_count": null,
      "outputs": []
    },
    {
      "cell_type": "code",
      "metadata": {
        "id": "hNJ_Zjc-uqxn"
      },
      "source": [
        "# As we see the data is in sequential order, lets shuffle the data using .sample()\n",
        "df = iris.sample(frac = 1)\n",
        "df.head()"
      ],
      "execution_count": null,
      "outputs": []
    },
    {
      "cell_type": "markdown",
      "metadata": {
        "id": "5vM_gYwtc4w_"
      },
      "source": [
        "## Data pre-processing\n",
        "\n",
        "1. **species** is our target variable. Drop Iris-virginica from species column. Select Iris-setosa and Iris-versicolor as your target varaible.\n",
        "\n",
        "2. Convert categorical values to numerical values where species contain categorical values such as 'Iris-setosa', 'Iris-virginica' and replacing them with with 1, 0\n"
      ]
    },
    {
      "cell_type": "code",
      "metadata": {
        "id": "tmxRvsoQQhrq"
      },
      "source": [
        "df.drop(\"Id\",axis = 1,inplace = True)\n",
        "df.head()"
      ],
      "execution_count": null,
      "outputs": []
    },
    {
      "cell_type": "markdown",
      "metadata": {
        "id": "9QdQjv84Qkr1"
      },
      "source": [
        "From the above data select only 2 species 'Iris-setosa', 'Iris-versicolor'"
      ]
    },
    {
      "cell_type": "code",
      "metadata": {
        "id": "hyetq526Fldw"
      },
      "source": [
        "df = df[df[\"species\"] != \"Iris-virginica\"]"
      ],
      "execution_count": null,
      "outputs": []
    },
    {
      "cell_type": "code",
      "metadata": {
        "id": "8TrPnTs5FkGc"
      },
      "source": [
        "# From the above we have selected only setosa and versicolor and not virginica (!='virginica')\n",
        "df[\"species\"] = df[\"species\"].replace([\"Iris-setosa\",\"Iris-versicolor\"],[1, 0])"
      ],
      "execution_count": null,
      "outputs": []
    },
    {
      "cell_type": "code",
      "metadata": {
        "id": "8a3Hf9vvGKE1"
      },
      "source": [
        "df.loc[[5, 60, 90]]  # Select few samples to see the DataFrame"
      ],
      "execution_count": null,
      "outputs": []
    },
    {
      "cell_type": "markdown",
      "metadata": {
        "id": "ReukxR8xtI4h"
      },
      "source": [
        "## Single Layer Perceptron\n",
        "\n",
        "A node, also called a neuron or Perceptron, is a computational unit that has one or more weighted input connections. Use a transfer function that combines the inputs and gives the output connection. Nodes are then organized into layers to comprise a network.\n",
        "\n",
        "Let us see how the output is measured at a single\n",
        " neuron"
      ]
    },
    {
      "cell_type": "markdown",
      "metadata": {
        "id": "ByNIWjOjjnA6"
      },
      "source": [
        "![alt text](https://cdn.talentsprint.com/aiml/Experiment_related_data/artificial_neuron.png)"
      ]
    },
    {
      "cell_type": "markdown",
      "metadata": {
        "id": "ZhNiaTvy7Q1k"
      },
      "source": [
        "### Part-A: Understand Perceptron using mathematical approach"
      ]
    },
    {
      "cell_type": "markdown",
      "metadata": {
        "id": "QGqNXsDw9EAk"
      },
      "source": [
        "#### Performing for only one sample"
      ]
    },
    {
      "cell_type": "code",
      "metadata": {
        "id": "MVQuLqqwJa2w"
      },
      "source": [
        "# Let us take 5th sample as input x1, x2, x3, x4\n",
        "one_neuron_inputs  = [5.4, 3.9,  1.7,  0.4]\n",
        "weights = [0.7, 0.6, -1.0, -1.0] # You can give the random weights w1, w2, w3, w4"
      ],
      "execution_count": null,
      "outputs": []
    },
    {
      "cell_type": "code",
      "metadata": {
        "id": "Any5_zQ8JiSU"
      },
      "source": [
        "# This function returns the sum of product of inputs and weights\n",
        "def weighted_sum(inputs, weights):\n",
        "    total = 0\n",
        "    for inputs_value,weight in zip(inputs, weights):\n",
        "        total += inputs_value * weight\n",
        "    return total"
      ],
      "execution_count": null,
      "outputs": []
    },
    {
      "cell_type": "code",
      "metadata": {
        "id": "cgK-1gTbKxwU"
      },
      "source": [
        "# Output of first neuron\n",
        "Node_input = weighted_sum(one_neuron_inputs, weights)\n",
        "print(Node_input)"
      ],
      "execution_count": null,
      "outputs": []
    },
    {
      "cell_type": "markdown",
      "metadata": {
        "id": "BBmpQCVbLcE1"
      },
      "source": [
        "**Activation Function**\n",
        "\n",
        "\n",
        "A Step Function is one of the most common activation function in neural networks. The function produces binary output.\n",
        "\n",
        "The output is a certain value, $A_1$, if the input sum is above a certain threshold and $A_0$ if the input sum is below a certain threshold. The values used by the Perceptron were $A_1$ = 1 and $A_0$ = 0.\n",
        "\n",
        "![alt text](https://cdn.talentsprint.com/aiml/Experiment_related_data/step_function.png)\n",
        "\n",
        "\n",
        "These kinds of step activation functions are useful for binary classification schemes. In other words, when we want to classify an input pattern into one of two groups, we can use a binary classifier with a step activation function. Another use for this would be to create a set of small feature identifiers. Each identifier would be a small network that would output a 1 if a particular input feature is present, and a 0 otherwise. Combining multiple feature detectors into a single network would allow a very complicated clustering or classification problem to be solved."
      ]
    },
    {
      "cell_type": "code",
      "metadata": {
        "id": "2KstuluQK66G"
      },
      "source": [
        "def Step_Fun(number):\n",
        "    if number >= 2: # Threshold value is 2\n",
        "        return 1\n",
        "    else:\n",
        "        return 0"
      ],
      "execution_count": null,
      "outputs": []
    },
    {
      "cell_type": "code",
      "metadata": {
        "id": "oTb8uDKPLswI"
      },
      "source": [
        "# Apply the step function where it returns one if node input value is greater than or equal to 2, otherwise returns zero\n",
        "Node_output = Step_Fun(Node_input)\n",
        "print(Node_output)"
      ],
      "execution_count": null,
      "outputs": []
    },
    {
      "cell_type": "markdown",
      "metadata": {
        "id": "RmUoLx2q2dUV"
      },
      "source": [
        "#### Performing for all samples\n",
        "\n",
        "Performing weigthed sum  and Step function for each of the feature by taking random weights and finding accuracy for actuals and predictions."
      ]
    },
    {
      "cell_type": "code",
      "metadata": {
        "id": "4lZFxhc1yBQV"
      },
      "source": [
        "samples = df.drop(columns=[\"species\"]).values\n",
        "predicted = []\n",
        "weights = [0.7, 0.6, -1.0, -1.0] # Change the weights and observe the change in accuracy\n",
        "for sample in samples:\n",
        "  Node_input = weighted_sum(sample, weights)\n",
        "  Node_output = Step_Fun(Node_input)\n",
        "  predicted.append(Node_output)\n",
        "\n",
        "actual = df.iloc[:, 4].values\n",
        "print(\"Actual labels from the data\", actual)\n",
        "print(\"\\n Predicted labels\", predicted)\n",
        "\n",
        "acc = accuracy_score(actual, predicted)\n",
        "print(\"Accuracy of the Perceptron using mathematical approach\", acc)"
      ],
      "execution_count": null,
      "outputs": []
    },
    {
      "cell_type": "markdown",
      "metadata": {
        "id": "RYzQxPGMpof5"
      },
      "source": [
        "### Part- B: Perceptron from Sklearn\n",
        "\n",
        "1. From the given data, Select features and labels\n",
        "2. Split the data into train and test sets\n",
        "3. Train using perceptron Classifier"
      ]
    },
    {
      "cell_type": "code",
      "metadata": {
        "id": "YlqP5Y-lYFDD"
      },
      "source": [
        "labels = df[\"species\"]\n",
        "features = df.drop(\"species\", axis = 1)"
      ],
      "execution_count": null,
      "outputs": []
    },
    {
      "cell_type": "code",
      "metadata": {
        "id": "eGKkSJFkrvtH"
      },
      "source": [
        "from sklearn.model_selection import train_test_split\n",
        "xtrain, xtest, ytrain, ytest = train_test_split(features, labels, test_size = 0.2)"
      ],
      "execution_count": null,
      "outputs": []
    },
    {
      "cell_type": "code",
      "metadata": {
        "id": "GZvgKOJmrxYE"
      },
      "source": [
        "from sklearn.linear_model import Perceptron\n",
        "model = Perceptron()\n",
        "# Fitting the data into the model\n",
        "model.fit(xtrain, ytrain)\n",
        "# Predicting the labels for test data\n",
        "accuracy = model.score(xtest, ytest)\n",
        "print(\"Accuracy of the Perceptron using sklearn\", accuracy)"
      ],
      "execution_count": null,
      "outputs": []
    },
    {
      "cell_type": "code",
      "source": [
        "# Let us take 5th sample as input x1, x2, x3, x4\n",
        "one_neuron_inputs_ex  = [7.0, 3.2, 4.7, 1.4]\n",
        "weights_ex = [0.7, 0.6, -1.0, -1.0] # You can give the random weights w1, w2, w3, w4\n",
        "\n",
        "# Output of first neuron\n",
        "Node_input_ex = weighted_sum(one_neuron_inputs_ex, weights_ex)\n",
        "print(Node_input_ex)\n",
        "\n",
        "Node_output = Step_Fun(Node_input_ex)\n",
        "print(Node_output)"
      ],
      "metadata": {
        "id": "7Dmup88gpXYC"
      },
      "execution_count": null,
      "outputs": []
    },
    {
      "cell_type": "markdown",
      "metadata": {
        "id": "w4-oWiOAI7kZ"
      },
      "source": [
        "### Please answer the questions below to complete the experiment:\n",
        "\n",
        "\n"
      ]
    },
    {
      "cell_type": "code",
      "metadata": {
        "id": "Hvm-8H2RI7kd"
      },
      "source": [
        "#@title What is the output of the perceptron with inputs [7.0,  3.2, 4.7, 1.4] , weights [0.7, 0.6, -1.0, -1.0] and threshold >=2? { run: \"auto\", form-width: \"500px\", display-mode: \"form\" }\n",
        "Answer = \"0\" #@param [\"\",\"0\", \"1\"]"
      ],
      "execution_count": null,
      "outputs": []
    },
    {
      "cell_type": "code",
      "metadata": {
        "id": "NMzKSbLIgFzQ"
      },
      "source": [
        "#@title How was the experiment? { run: \"auto\", form-width: \"500px\", display-mode: \"form\" }\n",
        "Complexity = \"Good, But Not Challenging for me\" #@param [\"\",\"Too Simple, I am wasting time\", \"Good, But Not Challenging for me\", \"Good and Challenging for me\", \"Was Tough, but I did it\", \"Too Difficult for me\"]\n"
      ],
      "execution_count": null,
      "outputs": []
    },
    {
      "cell_type": "code",
      "metadata": {
        "id": "DjcH1VWSFI2l"
      },
      "source": [
        "#@title If it was too easy, what more would you have liked to be added? If it was very difficult, what would you have liked to have been removed? { run: \"auto\", display-mode: \"form\" }\n",
        "Additional = \"Good\" #@param {type:\"string\"}\n"
      ],
      "execution_count": null,
      "outputs": []
    },
    {
      "cell_type": "code",
      "metadata": {
        "id": "94dIhQKDI7kf"
      },
      "source": [
        "#@title Can you identify the concepts from the lecture which this experiment covered? { run: \"auto\", vertical-output: true, display-mode: \"form\" }\n",
        "Concepts = \"Yes\" #@param [\"\",\"Yes\", \"No\"]\n"
      ],
      "execution_count": null,
      "outputs": []
    },
    {
      "cell_type": "code",
      "metadata": {
        "id": "YKzGvfdyI7kg"
      },
      "source": [
        "#@title  Experiment walkthrough video? { run: \"auto\", vertical-output: true, display-mode: \"form\" }\n",
        "Walkthrough = \"Somewhat Useful\" #@param [\"\",\"Very Useful\", \"Somewhat Useful\", \"Not Useful\", \"Didn't use\"]\n"
      ],
      "execution_count": null,
      "outputs": []
    },
    {
      "cell_type": "code",
      "metadata": {
        "id": "2OjkIq7II7kh"
      },
      "source": [
        "#@title  Text and image description/explanation and code comments within the experiment: { run: \"auto\", vertical-output: true, display-mode: \"form\" }\n",
        "Comments = \"Somewhat Useful\" #@param [\"\",\"Very Useful\", \"Somewhat Useful\", \"Not Useful\", \"Didn't use\"]\n"
      ],
      "execution_count": null,
      "outputs": []
    },
    {
      "cell_type": "code",
      "metadata": {
        "id": "OwLT_C0vI7ki"
      },
      "source": [
        "#@title Mentor Support: { run: \"auto\", vertical-output: true, display-mode: \"form\" }\n",
        "Mentor_support = \"Somewhat Useful\" #@param [\"\",\"Very Useful\", \"Somewhat Useful\", \"Not Useful\", \"Didn't use\"]\n"
      ],
      "execution_count": null,
      "outputs": []
    },
    {
      "cell_type": "code",
      "metadata": {
        "cellView": "form",
        "id": "gPMKJg_eI7kj"
      },
      "source": [
        "#@title Run this cell to submit your notebook for grading { vertical-output: true }\n",
        "try:\n",
        "  if submission_id:\n",
        "      return_id = submit_notebook()\n",
        "      if return_id : submission_id = return_id\n",
        "  else:\n",
        "      print(\"Please complete the setup first.\")\n",
        "except NameError:\n",
        "  print (\"Please complete the setup first.\")"
      ],
      "execution_count": null,
      "outputs": []
    }
  ]
}