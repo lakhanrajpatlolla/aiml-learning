{
  "nbformat": 4,
  "nbformat_minor": 0,
  "metadata": {
    "colab": {
      "provenance": [],
      "include_colab_link": true
    },
    "kernelspec": {
      "name": "python3",
      "display_name": "Python 3"
    }
  },
  "cells": [
    {
      "cell_type": "markdown",
      "metadata": {
        "id": "view-in-github",
        "colab_type": "text"
      },
      "source": [
        "<a href=\"https://colab.research.google.com/github/lakhanrajpatlolla/aiml-learning/blob/master/U3W14_45_TimeSeries_BitcoinPrice_Prediction_A.ipynb\" target=\"_parent\"><img src=\"https://colab.research.google.com/assets/colab-badge.svg\" alt=\"Open In Colab\"/></a>"
      ]
    },
    {
      "cell_type": "markdown",
      "metadata": {
        "id": "Dq3WVvu7skLd"
      },
      "source": [
        "# Advanced Certification in AIML\n",
        "## A Program by IIIT-H and TalentSprint"
      ]
    },
    {
      "cell_type": "markdown",
      "metadata": {
        "id": "jFUjPQMAn_n3"
      },
      "source": [
        "### Learning Objectives"
      ]
    },
    {
      "cell_type": "markdown",
      "metadata": {
        "id": "0Xq1LLdMoDwa"
      },
      "source": [
        "At the end of the experiment you will be able to :\n",
        "\n",
        "- predict bitcoin price using Neural Network\n"
      ]
    },
    {
      "cell_type": "code",
      "metadata": {
        "id": "0kDzYJ_17eVC",
        "cellView": "form"
      },
      "source": [
        "#@title Experiment Explanation Video\n",
        "from IPython.display import HTML\n",
        "\n",
        "HTML(\"\"\"<video width=\"850\" height=\"480\" controls>\n",
        "  <source src=\"https://cdn.iiith.talentsprint.com/aiml/Experiment_related_data/Walkthrough/Bitcoin_Price_Prediction_Walkthrough.mp4\" type=\"video/mp4\">\n",
        "</video>\n",
        "\"\"\")"
      ],
      "execution_count": null,
      "outputs": []
    },
    {
      "cell_type": "markdown",
      "metadata": {
        "id": "GEO_Hwa77-8H"
      },
      "source": [
        "### Dataset"
      ]
    },
    {
      "cell_type": "markdown",
      "metadata": {
        "id": "DnBNowAkXGVL"
      },
      "source": [
        "### Description\n",
        "\n",
        "In this Dataset, Bitcoin USD values from 1st Jan, 2017 to 15th Nov, 2019 downloaded from yahoo finance having one day resolution. It can be used to check simple time-series forecasting models.\n",
        "\n",
        "This dataset contains 1049 rows and 7 features including Date,\tOpen,\tHigh,\tLow,\tClose,\tAdj Close and\tVolume\n",
        "\n",
        "\n"
      ]
    },
    {
      "cell_type": "markdown",
      "metadata": {
        "id": "ESAXYMuBjeWK"
      },
      "source": [
        "Stock price forecasting is one of the most challenging tasks in financial decision-making because stock prices are inherently noisy and non-stationary and have been observed to have a random-walk characteristic. Accurate stock price predictions can yield significant profits and therefore econometric and statistical approaches including linear/non-linear methods."
      ]
    },
    {
      "cell_type": "markdown",
      "metadata": {
        "id": "L0llVz2z8GLi"
      },
      "source": [
        "### Domain Information"
      ]
    },
    {
      "cell_type": "markdown",
      "metadata": {
        "id": "HG3h-09Pej-U"
      },
      "source": [
        "Time-series forecasting means predicting future values in time. Developing a forecasting model depends on the forecasting horizon. Very short-term forecasting would typically involve predicting the value at the next minute or hour, short-term forecasting has a horizon of days or weeks, long-term forecasting is done for months or a year or two, and we also have very-long term forecasting that could easily have a horizon of up to a few decades.\n",
        "\n",
        "Here, we will build a simple Deep Learning based very-short-term Time-series forecaster, that will predict the stock prices of Bitcoin."
      ]
    },
    {
      "cell_type": "markdown",
      "metadata": {
        "id": "BNLA8HiKxQhc"
      },
      "source": [
        "### Setup Steps:"
      ]
    },
    {
      "cell_type": "code",
      "metadata": {
        "id": "2YzfoPvJDiTX"
      },
      "source": [
        "#@title Please enter your registration id to start: { run: \"auto\", display-mode: \"form\" }\n",
        "Id = \"2418775\" #@param {type:\"string\"}"
      ],
      "execution_count": 1,
      "outputs": []
    },
    {
      "cell_type": "code",
      "metadata": {
        "id": "rEzlYL4CDrmE"
      },
      "source": [
        "#@title Please enter your password (normally your phone number) to continue: { run: \"auto\", display-mode: \"form\" }\n",
        "password = \"9959000490\" #@param {type:\"string\"}"
      ],
      "execution_count": 2,
      "outputs": []
    },
    {
      "cell_type": "code",
      "metadata": {
        "id": "WBPPuGmBlDIN",
        "cellView": "form",
        "outputId": "bf8306f5-9285-4efa-d9bb-eb5378559290",
        "colab": {
          "base_uri": "https://localhost:8080/",
          "height": 34
        }
      },
      "source": [
        "#@title Run this cell to complete the setup for this Notebook\n",
        "from IPython import get_ipython\n",
        "import re\n",
        "ipython = get_ipython()\n",
        "\n",
        "notebook= \"U3W14_45_TimeSeries_BitcoinPrice_Prediction_A\" #name of the notebook\n",
        "\n",
        "def setup():\n",
        "#  ipython.magic(\"sx pip3 install torch\")\n",
        "    from IPython.display import HTML, display\n",
        "    ipython.magic(\"sx wget https://cdn.iiith.talentsprint.com/aiml/Experiment_related_data/bitcoin.csv\")\n",
        "\n",
        "    display(HTML('<script src=\"https://dashboard.talentsprint.com/aiml/record_ip.html?traineeId={0}&recordId={1}\"></script>'.format(getId(),submission_id)))\n",
        "    print(\"Setup completed successfully\")\n",
        "    return\n",
        "\n",
        "def submit_notebook():\n",
        "    ipython.magic(\"notebook -e \"+ notebook + \".ipynb\")\n",
        "\n",
        "    import requests, json, base64, datetime\n",
        "\n",
        "    url = \"https://dashboard.talentsprint.com/xp/app/save_notebook_attempts\"\n",
        "    if not submission_id:\n",
        "      data = {\"id\" : getId(), \"notebook\" : notebook, \"mobile\" : getPassword()}\n",
        "      r = requests.post(url, data = data)\n",
        "      r = json.loads(r.text)\n",
        "\n",
        "      if r[\"status\"] == \"Success\":\n",
        "          return r[\"record_id\"]\n",
        "      elif \"err\" in r:\n",
        "        print(r[\"err\"])\n",
        "        return None\n",
        "      else:\n",
        "        print (\"Something is wrong, the notebook will not be submitted for grading\")\n",
        "        return None\n",
        "\n",
        "    elif getAnswer() and getComplexity() and getAdditional() and getConcepts() and getWalkthrough() and getComments() and getMentorSupport():\n",
        "      f = open(notebook + \".ipynb\", \"rb\")\n",
        "      file_hash = base64.b64encode(f.read())\n",
        "\n",
        "      data = {\"complexity\" : Complexity, \"additional\" :Additional,\n",
        "              \"concepts\" : Concepts, \"record_id\" : submission_id,\n",
        "              \"answer\" : Answer, \"id\" : Id, \"file_hash\" : file_hash,\n",
        "              \"notebook\" : notebook, \"feedback_walkthrough\":Walkthrough ,\n",
        "              \"feedback_experiments_input\" : Comments,\n",
        "              \"feedback_inclass_mentor\": Mentor_support}\n",
        "\n",
        "      r = requests.post(url, data = data)\n",
        "      r = json.loads(r.text)\n",
        "      if \"err\" in r:\n",
        "        print(r[\"err\"])\n",
        "        return None\n",
        "      else:\n",
        "        print(\"Your submission is successful.\")\n",
        "        print(\"Ref Id:\", submission_id)\n",
        "        print(\"Date of submission: \", r[\"date\"])\n",
        "        print(\"Time of submission: \", r[\"time\"])\n",
        "        print(\"View your submissions: https://learn-iiith.talentsprint.com/notebook_submissions\")\n",
        "        #print(\"For any queries/discrepancies, please connect with mentors through the chat icon in LMS dashboard.\")\n",
        "        return submission_id\n",
        "    else: submission_id\n",
        "\n",
        "\n",
        "def getAdditional():\n",
        "  try:\n",
        "    if not Additional:\n",
        "      raise NameError\n",
        "    else:\n",
        "      return Additional\n",
        "  except NameError:\n",
        "    print (\"Please answer Additional Question\")\n",
        "    return None\n",
        "\n",
        "def getComplexity():\n",
        "  try:\n",
        "    if not Complexity:\n",
        "      raise NameError\n",
        "    else:\n",
        "      return Complexity\n",
        "  except NameError:\n",
        "    print (\"Please answer Complexity Question\")\n",
        "    return None\n",
        "\n",
        "def getConcepts():\n",
        "  try:\n",
        "    if not Concepts:\n",
        "      raise NameError\n",
        "    else:\n",
        "      return Concepts\n",
        "  except NameError:\n",
        "    print (\"Please answer Concepts Question\")\n",
        "    return None\n",
        "\n",
        "\n",
        "def getWalkthrough():\n",
        "  try:\n",
        "    if not Walkthrough:\n",
        "      raise NameError\n",
        "    else:\n",
        "      return Walkthrough\n",
        "  except NameError:\n",
        "    print (\"Please answer Walkthrough Question\")\n",
        "    return None\n",
        "\n",
        "def getComments():\n",
        "  try:\n",
        "    if not Comments:\n",
        "      raise NameError\n",
        "    else:\n",
        "      return Comments\n",
        "  except NameError:\n",
        "    print (\"Please answer Comments Question\")\n",
        "    return None\n",
        "\n",
        "\n",
        "def getMentorSupport():\n",
        "  try:\n",
        "    if not Mentor_support:\n",
        "      raise NameError\n",
        "    else:\n",
        "      return Mentor_support\n",
        "  except NameError:\n",
        "    print (\"Please answer Mentor support Question\")\n",
        "    return None\n",
        "\n",
        "def getAnswer():\n",
        "  try:\n",
        "    if not Answer:\n",
        "      raise NameError\n",
        "    else:\n",
        "      return Answer\n",
        "  except NameError:\n",
        "    print (\"Please answer Question\")\n",
        "    return None\n",
        "\n",
        "\n",
        "def getId():\n",
        "  try:\n",
        "    return Id if Id else None\n",
        "  except NameError:\n",
        "    return None\n",
        "\n",
        "def getPassword():\n",
        "  try:\n",
        "    return password if password else None\n",
        "  except NameError:\n",
        "    return None\n",
        "\n",
        "submission_id = None\n",
        "### Setup\n",
        "if getPassword() and getId():\n",
        "  submission_id = submit_notebook()\n",
        "  if submission_id:\n",
        "    setup()\n",
        "else:\n",
        "  print (\"Please complete Id and Password cells before running setup\")\n",
        "\n"
      ],
      "execution_count": 3,
      "outputs": [
        {
          "output_type": "display_data",
          "data": {
            "text/plain": [
              "<IPython.core.display.HTML object>"
            ],
            "text/html": [
              "<script src=\"https://dashboard.talentsprint.com/aiml/record_ip.html?traineeId=2418775&recordId=1917\"></script>"
            ]
          },
          "metadata": {}
        },
        {
          "output_type": "stream",
          "name": "stdout",
          "text": [
            "Setup completed successfully\n"
          ]
        }
      ]
    },
    {
      "cell_type": "markdown",
      "metadata": {
        "id": "OfleGJ0189Ta"
      },
      "source": [
        "### Importing required packages"
      ]
    },
    {
      "cell_type": "code",
      "metadata": {
        "id": "Az5Xrurv8-iy"
      },
      "source": [
        "import pandas as pd\n",
        "import numpy as np\n",
        "from matplotlib import pyplot as plt\n",
        "from statsmodels.tsa import stattools\n",
        "\n",
        "# Keras imports\n",
        "from keras.layers import Input, Dense, Dropout\n",
        "from keras.models import Model"
      ],
      "execution_count": 4,
      "outputs": []
    },
    {
      "cell_type": "markdown",
      "metadata": {
        "id": "zEzSgicD3eMz"
      },
      "source": [
        "### Load the data"
      ]
    },
    {
      "cell_type": "code",
      "metadata": {
        "id": "DintBT1SIRK_",
        "outputId": "de2d960b-3ec0-4ae5-b30f-6d9fda937c5a",
        "colab": {
          "base_uri": "https://localhost:8080/",
          "height": 204
        }
      },
      "source": [
        "df = pd.read_csv('/content/bitcoin.csv')\n",
        "df.head()"
      ],
      "execution_count": 5,
      "outputs": [
        {
          "output_type": "execute_result",
          "data": {
            "text/plain": [
              "         Date     Open     High      Low    Close  Adj Close     Volume\n",
              "0  2017-01-01   963.66  1003.08   958.70   998.33     998.33  147775008\n",
              "1  2017-01-02   998.62  1031.39   996.70  1021.75    1021.75  222184992\n",
              "2  2017-01-03  1021.60  1044.08  1021.60  1043.84    1043.84  185168000\n",
              "3  2017-01-04  1044.40  1159.42  1044.40  1154.73    1154.73  344945984\n",
              "4  2017-01-05  1156.73  1191.10   910.42  1013.38    1013.38  510199008"
            ],
            "text/html": [
              "\n",
              "  <div id=\"df-86f2ddcb-ea7f-472e-8c56-3ca300822f3e\" class=\"colab-df-container\">\n",
              "    <div>\n",
              "<style scoped>\n",
              "    .dataframe tbody tr th:only-of-type {\n",
              "        vertical-align: middle;\n",
              "    }\n",
              "\n",
              "    .dataframe tbody tr th {\n",
              "        vertical-align: top;\n",
              "    }\n",
              "\n",
              "    .dataframe thead th {\n",
              "        text-align: right;\n",
              "    }\n",
              "</style>\n",
              "<table border=\"1\" class=\"dataframe\">\n",
              "  <thead>\n",
              "    <tr style=\"text-align: right;\">\n",
              "      <th></th>\n",
              "      <th>Date</th>\n",
              "      <th>Open</th>\n",
              "      <th>High</th>\n",
              "      <th>Low</th>\n",
              "      <th>Close</th>\n",
              "      <th>Adj Close</th>\n",
              "      <th>Volume</th>\n",
              "    </tr>\n",
              "  </thead>\n",
              "  <tbody>\n",
              "    <tr>\n",
              "      <th>0</th>\n",
              "      <td>2017-01-01</td>\n",
              "      <td>963.66</td>\n",
              "      <td>1003.08</td>\n",
              "      <td>958.70</td>\n",
              "      <td>998.33</td>\n",
              "      <td>998.33</td>\n",
              "      <td>147775008</td>\n",
              "    </tr>\n",
              "    <tr>\n",
              "      <th>1</th>\n",
              "      <td>2017-01-02</td>\n",
              "      <td>998.62</td>\n",
              "      <td>1031.39</td>\n",
              "      <td>996.70</td>\n",
              "      <td>1021.75</td>\n",
              "      <td>1021.75</td>\n",
              "      <td>222184992</td>\n",
              "    </tr>\n",
              "    <tr>\n",
              "      <th>2</th>\n",
              "      <td>2017-01-03</td>\n",
              "      <td>1021.60</td>\n",
              "      <td>1044.08</td>\n",
              "      <td>1021.60</td>\n",
              "      <td>1043.84</td>\n",
              "      <td>1043.84</td>\n",
              "      <td>185168000</td>\n",
              "    </tr>\n",
              "    <tr>\n",
              "      <th>3</th>\n",
              "      <td>2017-01-04</td>\n",
              "      <td>1044.40</td>\n",
              "      <td>1159.42</td>\n",
              "      <td>1044.40</td>\n",
              "      <td>1154.73</td>\n",
              "      <td>1154.73</td>\n",
              "      <td>344945984</td>\n",
              "    </tr>\n",
              "    <tr>\n",
              "      <th>4</th>\n",
              "      <td>2017-01-05</td>\n",
              "      <td>1156.73</td>\n",
              "      <td>1191.10</td>\n",
              "      <td>910.42</td>\n",
              "      <td>1013.38</td>\n",
              "      <td>1013.38</td>\n",
              "      <td>510199008</td>\n",
              "    </tr>\n",
              "  </tbody>\n",
              "</table>\n",
              "</div>\n",
              "    <div class=\"colab-df-buttons\">\n",
              "\n",
              "  <div class=\"colab-df-container\">\n",
              "    <button class=\"colab-df-convert\" onclick=\"convertToInteractive('df-86f2ddcb-ea7f-472e-8c56-3ca300822f3e')\"\n",
              "            title=\"Convert this dataframe to an interactive table.\"\n",
              "            style=\"display:none;\">\n",
              "\n",
              "  <svg xmlns=\"http://www.w3.org/2000/svg\" height=\"24px\" viewBox=\"0 -960 960 960\">\n",
              "    <path d=\"M120-120v-720h720v720H120Zm60-500h600v-160H180v160Zm220 220h160v-160H400v160Zm0 220h160v-160H400v160ZM180-400h160v-160H180v160Zm440 0h160v-160H620v160ZM180-180h160v-160H180v160Zm440 0h160v-160H620v160Z\"/>\n",
              "  </svg>\n",
              "    </button>\n",
              "\n",
              "  <style>\n",
              "    .colab-df-container {\n",
              "      display:flex;\n",
              "      gap: 12px;\n",
              "    }\n",
              "\n",
              "    .colab-df-convert {\n",
              "      background-color: #E8F0FE;\n",
              "      border: none;\n",
              "      border-radius: 50%;\n",
              "      cursor: pointer;\n",
              "      display: none;\n",
              "      fill: #1967D2;\n",
              "      height: 32px;\n",
              "      padding: 0 0 0 0;\n",
              "      width: 32px;\n",
              "    }\n",
              "\n",
              "    .colab-df-convert:hover {\n",
              "      background-color: #E2EBFA;\n",
              "      box-shadow: 0px 1px 2px rgba(60, 64, 67, 0.3), 0px 1px 3px 1px rgba(60, 64, 67, 0.15);\n",
              "      fill: #174EA6;\n",
              "    }\n",
              "\n",
              "    .colab-df-buttons div {\n",
              "      margin-bottom: 4px;\n",
              "    }\n",
              "\n",
              "    [theme=dark] .colab-df-convert {\n",
              "      background-color: #3B4455;\n",
              "      fill: #D2E3FC;\n",
              "    }\n",
              "\n",
              "    [theme=dark] .colab-df-convert:hover {\n",
              "      background-color: #434B5C;\n",
              "      box-shadow: 0px 1px 3px 1px rgba(0, 0, 0, 0.15);\n",
              "      filter: drop-shadow(0px 1px 2px rgba(0, 0, 0, 0.3));\n",
              "      fill: #FFFFFF;\n",
              "    }\n",
              "  </style>\n",
              "\n",
              "    <script>\n",
              "      const buttonEl =\n",
              "        document.querySelector('#df-86f2ddcb-ea7f-472e-8c56-3ca300822f3e button.colab-df-convert');\n",
              "      buttonEl.style.display =\n",
              "        google.colab.kernel.accessAllowed ? 'block' : 'none';\n",
              "\n",
              "      async function convertToInteractive(key) {\n",
              "        const element = document.querySelector('#df-86f2ddcb-ea7f-472e-8c56-3ca300822f3e');\n",
              "        const dataTable =\n",
              "          await google.colab.kernel.invokeFunction('convertToInteractive',\n",
              "                                                    [key], {});\n",
              "        if (!dataTable) return;\n",
              "\n",
              "        const docLinkHtml = 'Like what you see? Visit the ' +\n",
              "          '<a target=\"_blank\" href=https://colab.research.google.com/notebooks/data_table.ipynb>data table notebook</a>'\n",
              "          + ' to learn more about interactive tables.';\n",
              "        element.innerHTML = '';\n",
              "        dataTable['output_type'] = 'display_data';\n",
              "        await google.colab.output.renderOutput(dataTable, element);\n",
              "        const docLink = document.createElement('div');\n",
              "        docLink.innerHTML = docLinkHtml;\n",
              "        element.appendChild(docLink);\n",
              "      }\n",
              "    </script>\n",
              "  </div>\n",
              "\n",
              "\n",
              "<div id=\"df-5173ed23-d6a0-40c0-a33d-1119c3d6a65a\">\n",
              "  <button class=\"colab-df-quickchart\" onclick=\"quickchart('df-5173ed23-d6a0-40c0-a33d-1119c3d6a65a')\"\n",
              "            title=\"Suggest charts\"\n",
              "            style=\"display:none;\">\n",
              "\n",
              "<svg xmlns=\"http://www.w3.org/2000/svg\" height=\"24px\"viewBox=\"0 0 24 24\"\n",
              "     width=\"24px\">\n",
              "    <g>\n",
              "        <path d=\"M19 3H5c-1.1 0-2 .9-2 2v14c0 1.1.9 2 2 2h14c1.1 0 2-.9 2-2V5c0-1.1-.9-2-2-2zM9 17H7v-7h2v7zm4 0h-2V7h2v10zm4 0h-2v-4h2v4z\"/>\n",
              "    </g>\n",
              "</svg>\n",
              "  </button>\n",
              "\n",
              "<style>\n",
              "  .colab-df-quickchart {\n",
              "      --bg-color: #E8F0FE;\n",
              "      --fill-color: #1967D2;\n",
              "      --hover-bg-color: #E2EBFA;\n",
              "      --hover-fill-color: #174EA6;\n",
              "      --disabled-fill-color: #AAA;\n",
              "      --disabled-bg-color: #DDD;\n",
              "  }\n",
              "\n",
              "  [theme=dark] .colab-df-quickchart {\n",
              "      --bg-color: #3B4455;\n",
              "      --fill-color: #D2E3FC;\n",
              "      --hover-bg-color: #434B5C;\n",
              "      --hover-fill-color: #FFFFFF;\n",
              "      --disabled-bg-color: #3B4455;\n",
              "      --disabled-fill-color: #666;\n",
              "  }\n",
              "\n",
              "  .colab-df-quickchart {\n",
              "    background-color: var(--bg-color);\n",
              "    border: none;\n",
              "    border-radius: 50%;\n",
              "    cursor: pointer;\n",
              "    display: none;\n",
              "    fill: var(--fill-color);\n",
              "    height: 32px;\n",
              "    padding: 0;\n",
              "    width: 32px;\n",
              "  }\n",
              "\n",
              "  .colab-df-quickchart:hover {\n",
              "    background-color: var(--hover-bg-color);\n",
              "    box-shadow: 0 1px 2px rgba(60, 64, 67, 0.3), 0 1px 3px 1px rgba(60, 64, 67, 0.15);\n",
              "    fill: var(--button-hover-fill-color);\n",
              "  }\n",
              "\n",
              "  .colab-df-quickchart-complete:disabled,\n",
              "  .colab-df-quickchart-complete:disabled:hover {\n",
              "    background-color: var(--disabled-bg-color);\n",
              "    fill: var(--disabled-fill-color);\n",
              "    box-shadow: none;\n",
              "  }\n",
              "\n",
              "  .colab-df-spinner {\n",
              "    border: 2px solid var(--fill-color);\n",
              "    border-color: transparent;\n",
              "    border-bottom-color: var(--fill-color);\n",
              "    animation:\n",
              "      spin 1s steps(1) infinite;\n",
              "  }\n",
              "\n",
              "  @keyframes spin {\n",
              "    0% {\n",
              "      border-color: transparent;\n",
              "      border-bottom-color: var(--fill-color);\n",
              "      border-left-color: var(--fill-color);\n",
              "    }\n",
              "    20% {\n",
              "      border-color: transparent;\n",
              "      border-left-color: var(--fill-color);\n",
              "      border-top-color: var(--fill-color);\n",
              "    }\n",
              "    30% {\n",
              "      border-color: transparent;\n",
              "      border-left-color: var(--fill-color);\n",
              "      border-top-color: var(--fill-color);\n",
              "      border-right-color: var(--fill-color);\n",
              "    }\n",
              "    40% {\n",
              "      border-color: transparent;\n",
              "      border-right-color: var(--fill-color);\n",
              "      border-top-color: var(--fill-color);\n",
              "    }\n",
              "    60% {\n",
              "      border-color: transparent;\n",
              "      border-right-color: var(--fill-color);\n",
              "    }\n",
              "    80% {\n",
              "      border-color: transparent;\n",
              "      border-right-color: var(--fill-color);\n",
              "      border-bottom-color: var(--fill-color);\n",
              "    }\n",
              "    90% {\n",
              "      border-color: transparent;\n",
              "      border-bottom-color: var(--fill-color);\n",
              "    }\n",
              "  }\n",
              "</style>\n",
              "\n",
              "  <script>\n",
              "    async function quickchart(key) {\n",
              "      const quickchartButtonEl =\n",
              "        document.querySelector('#' + key + ' button');\n",
              "      quickchartButtonEl.disabled = true;  // To prevent multiple clicks.\n",
              "      quickchartButtonEl.classList.add('colab-df-spinner');\n",
              "      try {\n",
              "        const charts = await google.colab.kernel.invokeFunction(\n",
              "            'suggestCharts', [key], {});\n",
              "      } catch (error) {\n",
              "        console.error('Error during call to suggestCharts:', error);\n",
              "      }\n",
              "      quickchartButtonEl.classList.remove('colab-df-spinner');\n",
              "      quickchartButtonEl.classList.add('colab-df-quickchart-complete');\n",
              "    }\n",
              "    (() => {\n",
              "      let quickchartButtonEl =\n",
              "        document.querySelector('#df-5173ed23-d6a0-40c0-a33d-1119c3d6a65a button');\n",
              "      quickchartButtonEl.style.display =\n",
              "        google.colab.kernel.accessAllowed ? 'block' : 'none';\n",
              "    })();\n",
              "  </script>\n",
              "</div>\n",
              "\n",
              "    </div>\n",
              "  </div>\n"
            ],
            "application/vnd.google.colaboratory.intrinsic+json": {
              "type": "dataframe",
              "variable_name": "df",
              "summary": "{\n  \"name\": \"df\",\n  \"rows\": 1049,\n  \"fields\": [\n    {\n      \"column\": \"Date\",\n      \"properties\": {\n        \"dtype\": \"object\",\n        \"num_unique_values\": 1049,\n        \"samples\": [\n          \"2017-12-19\",\n          \"2019-09-13\",\n          \"2019-05-28\"\n        ],\n        \"semantic_type\": \"\",\n        \"description\": \"\"\n      }\n    },\n    {\n      \"column\": \"Open\",\n      \"properties\": {\n        \"dtype\": \"number\",\n        \"std\": 3604.5209736201086,\n        \"min\": 775.18,\n        \"max\": 19475.8,\n        \"num_unique_values\": 1048,\n        \"samples\": [\n          19118.3,\n          10415.36,\n          8802.76\n        ],\n        \"semantic_type\": \"\",\n        \"description\": \"\"\n      }\n    },\n    {\n      \"column\": \"High\",\n      \"properties\": {\n        \"dtype\": \"number\",\n        \"std\": 3744.1242910593987,\n        \"min\": 823.31,\n        \"max\": 20089.0,\n        \"num_unique_values\": 1047,\n        \"samples\": [\n          19177.8,\n          6403.46,\n          8907.17\n        ],\n        \"semantic_type\": \"\",\n        \"description\": \"\"\n      }\n    },\n    {\n      \"column\": \"Low\",\n      \"properties\": {\n        \"dtype\": \"number\",\n        \"std\": 3427.8849939623833,\n        \"min\": 755.76,\n        \"max\": 18974.1,\n        \"num_unique_values\": 1048,\n        \"samples\": [\n          17275.4,\n          10226.6,\n          8634.72\n        ],\n        \"semantic_type\": \"\",\n        \"description\": \"\"\n      }\n    },\n    {\n      \"column\": \"Close\",\n      \"properties\": {\n        \"dtype\": \"number\",\n        \"std\": 3601.4560293055647,\n        \"min\": 777.76,\n        \"max\": 19497.4,\n        \"num_unique_values\": 1046,\n        \"samples\": [\n          3629.79,\n          4772.02,\n          6595.41\n        ],\n        \"semantic_type\": \"\",\n        \"description\": \"\"\n      }\n    },\n    {\n      \"column\": \"Adj Close\",\n      \"properties\": {\n        \"dtype\": \"number\",\n        \"std\": 3601.4560293055647,\n        \"min\": 777.76,\n        \"max\": 19497.4,\n        \"num_unique_values\": 1046,\n        \"samples\": [\n          3629.79,\n          4772.02,\n          6595.41\n        ],\n        \"semantic_type\": \"\",\n        \"description\": \"\"\n      }\n    },\n    {\n      \"column\": \"Volume\",\n      \"properties\": {\n        \"dtype\": \"number\",\n        \"std\": 7577813884,\n        \"min\": 60851700,\n        \"max\": 45105733173,\n        \"num_unique_values\": 1049,\n        \"samples\": [\n          16894499840,\n          14109864674,\n          24226919266\n        ],\n        \"semantic_type\": \"\",\n        \"description\": \"\"\n      }\n    }\n  ]\n}"
            }
          },
          "metadata": {},
          "execution_count": 5
        }
      ]
    },
    {
      "cell_type": "markdown",
      "metadata": {
        "id": "whSzyIJpfBTo"
      },
      "source": [
        "### Plotting the Time-series"
      ]
    },
    {
      "cell_type": "code",
      "metadata": {
        "id": "IUTHDY9X9mlB",
        "outputId": "a1d8973d-d7d1-46f9-8c75-8de0fe55f5a7",
        "colab": {
          "base_uri": "https://localhost:8080/",
          "height": 564
        }
      },
      "source": [
        "df_close = pd.DataFrame(df['Close'])\n",
        "df_close.index = pd.to_datetime(df['Date'])\n",
        "\n",
        "plt.figure(figsize=(8, 6))\n",
        "plt.plot(df_close, color='g')\n",
        "plt.title('Bitcoin Closing Price')\n",
        "plt.xlabel('Date')\n",
        "plt.ylabel('USD ($)')\n",
        "plt.show()"
      ],
      "execution_count": 6,
      "outputs": [
        {
          "output_type": "display_data",
          "data": {
            "text/plain": [
              "<Figure size 800x600 with 1 Axes>"
            ],
            "image/png": "[encoded data removed]"
          },
          "metadata": {}
        }
      ]
    },
    {
      "cell_type": "markdown",
      "metadata": {
        "id": "XJ8yPLDGi_PA"
      },
      "source": [
        "### Auto Correlation Function\n",
        "In autocorrelation, we take the time-series value at current instant as one variable and one of the values from a time-instant in the past as the other variable, and find the correlation between them. `stattools.acf` (acf for autocorrelation function) is used to plot the autocorrelation with 50 past time-instants (lags).\n",
        "\n",
        "For example the ACF for a time series  is given by:\n",
        "\n",
        "$ Corr = (y_t, y_{t-k})$\n",
        "\n",
        "This value of k is the time gap being considered and is called the lag. A lag 1 autocorrelation (i.e., k = 1 in the above) is the correlation between values that are one time period apart. More generally, a lag k autocorrelation is the correlation between values that are k time periods apart.\n",
        "\n"
      ]
    },
    {
      "cell_type": "code",
      "metadata": {
        "id": "HZgbbHz39wNZ",
        "outputId": "7d7f53b7-df68-4b59-c32b-71e6afad06aa",
        "colab": {
          "base_uri": "https://localhost:8080/",
          "height": 487
        }
      },
      "source": [
        "# YOUR CODE HERE: To create a auto correlation function with 50 lags\n",
        "acf_lags = stattools.acf(df_close, nlags=50)\n",
        "\n",
        "# YOUR CODE HERE: To plot the autocorrelation of Bitcoin Closing Price ('Lag' on X-axis, 'Autocorrelation Value' on Y-axis)\n",
        "plt.figure(figsize=(12, 5))\n",
        "plt.plot(acf_lags, color = 'r', linewidth =2)\n",
        "plt.title('Autocorrelation of Bitcoing Closing Price')\n",
        "plt.xlabel('Lag')\n",
        "plt.ylabel('Autocorrelation Value')\n",
        "plt.xticks(range(0, 50, 5))\n",
        "plt.grid()\n",
        "\n",
        "\n",
        "plt.show()"
      ],
      "execution_count": 7,
      "outputs": [
        {
          "output_type": "display_data",
          "data": {
            "text/plain": [
              "<Figure size 1200x500 with 1 Axes>"
            ],
            "image/png": "[encoded data removed]"
          },
          "metadata": {}
        }
      ]
    },
    {
      "cell_type": "markdown",
      "metadata": {
        "id": "LPLt_xLUjlb_"
      },
      "source": [
        "From the above plot we can observe that, after 15 time instants (lags) the correlation value is less than 0.9, correlation is a way to measure the strength of association between any two variables. As the correlation value approaches 1, it indicates high positive association. Correlation near 0 indicates almost no association at all. So, ignore time instants (lags) having a correlation value less than 0.9"
      ]
    },
    {
      "cell_type": "markdown",
      "metadata": {
        "id": "xaMF3cEDfOJI"
      },
      "source": [
        "### Creation of dataset for training\n",
        "\n",
        "Below Function to create the data with 15 lags (past 15 days of data)"
      ]
    },
    {
      "cell_type": "code",
      "metadata": {
        "id": "WvYHQD0X9-ce"
      },
      "source": [
        "def create_lags_data(df, attributes, list_of_prev_t_instants):\n",
        "\n",
        "    \"\"\"\n",
        "    Ensure that the index is of datetime type\n",
        "    Creates features with previous time instant values\n",
        "    \"\"\"\n",
        "\n",
        "    start = len(list_of_prev_t_instants)\n",
        "    end = len(df)\n",
        "    df['datetime'] = df.index\n",
        "    df.reset_index(drop=True)\n",
        "\n",
        "    # Make a copy of original dataframe\n",
        "    df_copy = df[start:end]\n",
        "    df_copy.reset_index(inplace=True, drop=True)\n",
        "\n",
        "    for attribute in attributes:\n",
        "        # Create the new empty dataframe\n",
        "        data = pd.DataFrame()\n",
        "        for prev_t in list_of_prev_t_instants :\n",
        "            # Slicing the Dataframe with 15 lags\n",
        "            new_col = pd.DataFrame(df[attribute].iloc[(start - prev_t) : (end - prev_t)])\n",
        "            new_col.reset_index(drop=True, inplace=True)\n",
        "            # To rename the columns as Close(t-1), Close(t-2) and so on ....\n",
        "            new_col.rename(columns={attribute : '{}_(t-{})'.format(attribute, prev_t)}, inplace=True)\n",
        "            data = pd.concat([data, new_col], sort=False, axis=1)\n",
        "\n",
        "        df_copy = pd.concat([df_copy, data], sort=False, axis=1)\n",
        "\n",
        "    df_copy.set_index(['datetime'], drop=True, inplace=True)\n",
        "    return df_copy"
      ],
      "execution_count": 8,
      "outputs": []
    },
    {
      "cell_type": "code",
      "metadata": {
        "id": "t361wGZD-ErG",
        "outputId": "b3a4d66e-c36b-4456-fb0d-5fbc4ee9e960",
        "colab": {
          "base_uri": "https://localhost:8080/"
        }
      },
      "source": [
        "# Defining the Attributes and t_instances to create the lagged data\n",
        "list_of_attributes = ['Close']\n",
        "list_of_prev_t_instants = np.arange(1,16)\n",
        "list_of_prev_t_instants"
      ],
      "execution_count": 9,
      "outputs": [
        {
          "output_type": "execute_result",
          "data": {
            "text/plain": [
              "array([ 1,  2,  3,  4,  5,  6,  7,  8,  9, 10, 11, 12, 13, 14, 15])"
            ]
          },
          "metadata": {},
          "execution_count": 9
        }
      ]
    },
    {
      "cell_type": "code",
      "metadata": {
        "id": "IAYK9VP5-JI0",
        "outputId": "689da17f-a663-4993-bcf0-d94eb14b41c9",
        "colab": {
          "base_uri": "https://localhost:8080/",
          "height": 637
        }
      },
      "source": [
        "# Call the function to create data with 14 lags\n",
        "df_new = create_lags_data(df_close, list_of_attributes, list_of_prev_t_instants)\n",
        "df_new"
      ],
      "execution_count": 10,
      "outputs": [
        {
          "output_type": "execute_result",
          "data": {
            "text/plain": [
              "              Close  Close_(t-1)  Close_(t-2)  Close_(t-3)  Close_(t-4)  \\\n",
              "datetime                                                                  \n",
              "2017-01-16   831.53       821.80       818.41       823.98       804.83   \n",
              "2017-01-17   907.94       831.53       821.80       818.41       823.98   \n",
              "2017-01-18   886.62       907.94       831.53       821.80       818.41   \n",
              "2017-01-19   899.07       886.62       907.94       831.53       821.80   \n",
              "2017-01-20   895.03       899.07       886.62       907.94       831.53   \n",
              "...             ...          ...          ...          ...          ...   \n",
              "2019-11-11  8757.79      9055.53      8813.58      8804.88      9267.56   \n",
              "2019-11-12  8815.66      8757.79      9055.53      8813.58      8804.88   \n",
              "2019-11-13  8808.26      8815.66      8757.79      9055.53      8813.58   \n",
              "2019-11-14  8708.09      8808.26      8815.66      8757.79      9055.53   \n",
              "2019-11-15  8491.99      8708.09      8808.26      8815.66      8757.79   \n",
              "\n",
              "            Close_(t-5)  Close_(t-6)  Close_(t-7)  Close_(t-8)  Close_(t-9)  \\\n",
              "datetime                                                                      \n",
              "2017-01-16       777.76       907.68       902.83       911.20       908.59   \n",
              "2017-01-17       804.83       777.76       907.68       902.83       911.20   \n",
              "2017-01-18       823.98       804.83       777.76       907.68       902.83   \n",
              "2017-01-19       818.41       823.98       804.83       777.76       907.68   \n",
              "2017-01-20       821.80       818.41       823.98       804.83       777.76   \n",
              "...                 ...          ...          ...          ...          ...   \n",
              "2019-11-11      9360.88      9342.53      9412.61      9235.35      9324.72   \n",
              "2019-11-12      9267.56      9360.88      9342.53      9412.61      9235.35   \n",
              "2019-11-13      8804.88      9267.56      9360.88      9342.53      9412.61   \n",
              "2019-11-14      8813.58      8804.88      9267.56      9360.88      9342.53   \n",
              "2019-11-15      9055.53      8813.58      8804.88      9267.56      9360.88   \n",
              "\n",
              "            Close_(t-10)  Close_(t-11)  Close_(t-12)  Close_(t-13)  \\\n",
              "datetime                                                             \n",
              "2017-01-16        902.20       1013.38       1154.73       1043.84   \n",
              "2017-01-17        908.59        902.20       1013.38       1154.73   \n",
              "2017-01-18        911.20        908.59        902.20       1013.38   \n",
              "2017-01-19        902.83        911.20        908.59        902.20   \n",
              "2017-01-20        907.68        902.83        911.20        908.59   \n",
              "...                  ...           ...           ...           ...   \n",
              "2019-11-11       9261.10       9199.58       9205.73       9427.69   \n",
              "2019-11-12       9324.72       9261.10       9199.58       9205.73   \n",
              "2019-11-13       9235.35       9324.72       9261.10       9199.58   \n",
              "2019-11-14       9412.61       9235.35       9324.72       9261.10   \n",
              "2019-11-15       9342.53       9412.61       9235.35       9324.72   \n",
              "\n",
              "            Close_(t-14)  Close_(t-15)  \n",
              "datetime                                \n",
              "2017-01-16       1021.75        998.33  \n",
              "2017-01-17       1043.84       1021.75  \n",
              "2017-01-18       1154.73       1043.84  \n",
              "2017-01-19       1013.38       1154.73  \n",
              "2017-01-20        902.20       1013.38  \n",
              "...                  ...           ...  \n",
              "2019-11-11       9256.15       9551.71  \n",
              "2019-11-12       9427.69       9256.15  \n",
              "2019-11-13       9205.73       9427.69  \n",
              "2019-11-14       9199.58       9205.73  \n",
              "2019-11-15       9261.10       9199.58  \n",
              "\n",
              "[1034 rows x 16 columns]"
            ],
            "text/html": [
              "\n",
              "  <div id=\"df-fe13d02c-ceae-4443-88e2-8c595c382317\" class=\"colab-df-container\">\n",
              "    <div>\n",
              "<style scoped>\n",
              "    .dataframe tbody tr th:only-of-type {\n",
              "        vertical-align: middle;\n",
              "    }\n",
              "\n",
              "    .dataframe tbody tr th {\n",
              "        vertical-align: top;\n",
              "    }\n",
              "\n",
              "    .dataframe thead th {\n",
              "        text-align: right;\n",
              "    }\n",
              "</style>\n",
              "<table border=\"1\" class=\"dataframe\">\n",
              "  <thead>\n",
              "    <tr style=\"text-align: right;\">\n",
              "      <th></th>\n",
              "      <th>Close</th>\n",
              "      <th>Close_(t-1)</th>\n",
              "      <th>Close_(t-2)</th>\n",
              "      <th>Close_(t-3)</th>\n",
              "      <th>Close_(t-4)</th>\n",
              "      <th>Close_(t-5)</th>\n",
              "      <th>Close_(t-6)</th>\n",
              "      <th>Close_(t-7)</th>\n",
              "      <th>Close_(t-8)</th>\n",
              "      <th>Close_(t-9)</th>\n",
              "      <th>Close_(t-10)</th>\n",
              "      <th>Close_(t-11)</th>\n",
              "      <th>Close_(t-12)</th>\n",
              "      <th>Close_(t-13)</th>\n",
              "      <th>Close_(t-14)</th>\n",
              "      <th>Close_(t-15)</th>\n",
              "    </tr>\n",
              "    <tr>\n",
              "      <th>datetime</th>\n",
              "      <th></th>\n",
              "      <th></th>\n",
              "      <th></th>\n",
              "      <th></th>\n",
              "      <th></th>\n",
              "      <th></th>\n",
              "      <th></th>\n",
              "      <th></th>\n",
              "      <th></th>\n",
              "      <th></th>\n",
              "      <th></th>\n",
              "      <th></th>\n",
              "      <th></th>\n",
              "      <th></th>\n",
              "      <th></th>\n",
              "      <th></th>\n",
              "    </tr>\n",
              "  </thead>\n",
              "  <tbody>\n",
              "    <tr>\n",
              "      <th>2017-01-16</th>\n",
              "      <td>831.53</td>\n",
              "      <td>821.80</td>\n",
              "      <td>818.41</td>\n",
              "      <td>823.98</td>\n",
              "      <td>804.83</td>\n",
              "      <td>777.76</td>\n",
              "      <td>907.68</td>\n",
              "      <td>902.83</td>\n",
              "      <td>911.20</td>\n",
              "      <td>908.59</td>\n",
              "      <td>902.20</td>\n",
              "      <td>1013.38</td>\n",
              "      <td>1154.73</td>\n",
              "      <td>1043.84</td>\n",
              "      <td>1021.75</td>\n",
              "      <td>998.33</td>\n",
              "    </tr>\n",
              "    <tr>\n",
              "      <th>2017-01-17</th>\n",
              "      <td>907.94</td>\n",
              "      <td>831.53</td>\n",
              "      <td>821.80</td>\n",
              "      <td>818.41</td>\n",
              "      <td>823.98</td>\n",
              "      <td>804.83</td>\n",
              "      <td>777.76</td>\n",
              "      <td>907.68</td>\n",
              "      <td>902.83</td>\n",
              "      <td>911.20</td>\n",
              "      <td>908.59</td>\n",
              "      <td>902.20</td>\n",
              "      <td>1013.38</td>\n",
              "      <td>1154.73</td>\n",
              "      <td>1043.84</td>\n",
              "      <td>1021.75</td>\n",
              "    </tr>\n",
              "    <tr>\n",
              "      <th>2017-01-18</th>\n",
              "      <td>886.62</td>\n",
              "      <td>907.94</td>\n",
              "      <td>831.53</td>\n",
              "      <td>821.80</td>\n",
              "      <td>818.41</td>\n",
              "      <td>823.98</td>\n",
              "      <td>804.83</td>\n",
              "      <td>777.76</td>\n",
              "      <td>907.68</td>\n",
              "      <td>902.83</td>\n",
              "      <td>911.20</td>\n",
              "      <td>908.59</td>\n",
              "      <td>902.20</td>\n",
              "      <td>1013.38</td>\n",
              "      <td>1154.73</td>\n",
              "      <td>1043.84</td>\n",
              "    </tr>\n",
              "    <tr>\n",
              "      <th>2017-01-19</th>\n",
              "      <td>899.07</td>\n",
              "      <td>886.62</td>\n",
              "      <td>907.94</td>\n",
              "      <td>831.53</td>\n",
              "      <td>821.80</td>\n",
              "      <td>818.41</td>\n",
              "      <td>823.98</td>\n",
              "      <td>804.83</td>\n",
              "      <td>777.76</td>\n",
              "      <td>907.68</td>\n",
              "      <td>902.83</td>\n",
              "      <td>911.20</td>\n",
              "      <td>908.59</td>\n",
              "      <td>902.20</td>\n",
              "      <td>1013.38</td>\n",
              "      <td>1154.73</td>\n",
              "    </tr>\n",
              "    <tr>\n",
              "      <th>2017-01-20</th>\n",
              "      <td>895.03</td>\n",
              "      <td>899.07</td>\n",
              "      <td>886.62</td>\n",
              "      <td>907.94</td>\n",
              "      <td>831.53</td>\n",
              "      <td>821.80</td>\n",
              "      <td>818.41</td>\n",
              "      <td>823.98</td>\n",
              "      <td>804.83</td>\n",
              "      <td>777.76</td>\n",
              "      <td>907.68</td>\n",
              "      <td>902.83</td>\n",
              "      <td>911.20</td>\n",
              "      <td>908.59</td>\n",
              "      <td>902.20</td>\n",
              "      <td>1013.38</td>\n",
              "    </tr>\n",
              "    <tr>\n",
              "      <th>...</th>\n",
              "      <td>...</td>\n",
              "      <td>...</td>\n",
              "      <td>...</td>\n",
              "      <td>...</td>\n",
              "      <td>...</td>\n",
              "      <td>...</td>\n",
              "      <td>...</td>\n",
              "      <td>...</td>\n",
              "      <td>...</td>\n",
              "      <td>...</td>\n",
              "      <td>...</td>\n",
              "      <td>...</td>\n",
              "      <td>...</td>\n",
              "      <td>...</td>\n",
              "      <td>...</td>\n",
              "      <td>...</td>\n",
              "    </tr>\n",
              "    <tr>\n",
              "      <th>2019-11-11</th>\n",
              "      <td>8757.79</td>\n",
              "      <td>9055.53</td>\n",
              "      <td>8813.58</td>\n",
              "      <td>8804.88</td>\n",
              "      <td>9267.56</td>\n",
              "      <td>9360.88</td>\n",
              "      <td>9342.53</td>\n",
              "      <td>9412.61</td>\n",
              "      <td>9235.35</td>\n",
              "      <td>9324.72</td>\n",
              "      <td>9261.10</td>\n",
              "      <td>9199.58</td>\n",
              "      <td>9205.73</td>\n",
              "      <td>9427.69</td>\n",
              "      <td>9256.15</td>\n",
              "      <td>9551.71</td>\n",
              "    </tr>\n",
              "    <tr>\n",
              "      <th>2019-11-12</th>\n",
              "      <td>8815.66</td>\n",
              "      <td>8757.79</td>\n",
              "      <td>9055.53</td>\n",
              "      <td>8813.58</td>\n",
              "      <td>8804.88</td>\n",
              "      <td>9267.56</td>\n",
              "      <td>9360.88</td>\n",
              "      <td>9342.53</td>\n",
              "      <td>9412.61</td>\n",
              "      <td>9235.35</td>\n",
              "      <td>9324.72</td>\n",
              "      <td>9261.10</td>\n",
              "      <td>9199.58</td>\n",
              "      <td>9205.73</td>\n",
              "      <td>9427.69</td>\n",
              "      <td>9256.15</td>\n",
              "    </tr>\n",
              "    <tr>\n",
              "      <th>2019-11-13</th>\n",
              "      <td>8808.26</td>\n",
              "      <td>8815.66</td>\n",
              "      <td>8757.79</td>\n",
              "      <td>9055.53</td>\n",
              "      <td>8813.58</td>\n",
              "      <td>8804.88</td>\n",
              "      <td>9267.56</td>\n",
              "      <td>9360.88</td>\n",
              "      <td>9342.53</td>\n",
              "      <td>9412.61</td>\n",
              "      <td>9235.35</td>\n",
              "      <td>9324.72</td>\n",
              "      <td>9261.10</td>\n",
              "      <td>9199.58</td>\n",
              "      <td>9205.73</td>\n",
              "      <td>9427.69</td>\n",
              "    </tr>\n",
              "    <tr>\n",
              "      <th>2019-11-14</th>\n",
              "      <td>8708.09</td>\n",
              "      <td>8808.26</td>\n",
              "      <td>8815.66</td>\n",
              "      <td>8757.79</td>\n",
              "      <td>9055.53</td>\n",
              "      <td>8813.58</td>\n",
              "      <td>8804.88</td>\n",
              "      <td>9267.56</td>\n",
              "      <td>9360.88</td>\n",
              "      <td>9342.53</td>\n",
              "      <td>9412.61</td>\n",
              "      <td>9235.35</td>\n",
              "      <td>9324.72</td>\n",
              "      <td>9261.10</td>\n",
              "      <td>9199.58</td>\n",
              "      <td>9205.73</td>\n",
              "    </tr>\n",
              "    <tr>\n",
              "      <th>2019-11-15</th>\n",
              "      <td>8491.99</td>\n",
              "      <td>8708.09</td>\n",
              "      <td>8808.26</td>\n",
              "      <td>8815.66</td>\n",
              "      <td>8757.79</td>\n",
              "      <td>9055.53</td>\n",
              "      <td>8813.58</td>\n",
              "      <td>8804.88</td>\n",
              "      <td>9267.56</td>\n",
              "      <td>9360.88</td>\n",
              "      <td>9342.53</td>\n",
              "      <td>9412.61</td>\n",
              "      <td>9235.35</td>\n",
              "      <td>9324.72</td>\n",
              "      <td>9261.10</td>\n",
              "      <td>9199.58</td>\n",
              "    </tr>\n",
              "  </tbody>\n",
              "</table>\n",
              "<p>1034 rows × 16 columns</p>\n",
              "</div>\n",
              "    <div class=\"colab-df-buttons\">\n",
              "\n",
              "  <div class=\"colab-df-container\">\n",
              "    <button class=\"colab-df-convert\" onclick=\"convertToInteractive('df-fe13d02c-ceae-4443-88e2-8c595c382317')\"\n",
              "            title=\"Convert this dataframe to an interactive table.\"\n",
              "            style=\"display:none;\">\n",
              "\n",
              "  <svg xmlns=\"http://www.w3.org/2000/svg\" height=\"24px\" viewBox=\"0 -960 960 960\">\n",
              "    <path d=\"M120-120v-720h720v720H120Zm60-500h600v-160H180v160Zm220 220h160v-160H400v160Zm0 220h160v-160H400v160ZM180-400h160v-160H180v160Zm440 0h160v-160H620v160ZM180-180h160v-160H180v160Zm440 0h160v-160H620v160Z\"/>\n",
              "  </svg>\n",
              "    </button>\n",
              "\n",
              "  <style>\n",
              "    .colab-df-container {\n",
              "      display:flex;\n",
              "      gap: 12px;\n",
              "    }\n",
              "\n",
              "    .colab-df-convert {\n",
              "      background-color: #E8F0FE;\n",
              "      border: none;\n",
              "      border-radius: 50%;\n",
              "      cursor: pointer;\n",
              "      display: none;\n",
              "      fill: #1967D2;\n",
              "      height: 32px;\n",
              "      padding: 0 0 0 0;\n",
              "      width: 32px;\n",
              "    }\n",
              "\n",
              "    .colab-df-convert:hover {\n",
              "      background-color: #E2EBFA;\n",
              "      box-shadow: 0px 1px 2px rgba(60, 64, 67, 0.3), 0px 1px 3px 1px rgba(60, 64, 67, 0.15);\n",
              "      fill: #174EA6;\n",
              "    }\n",
              "\n",
              "    .colab-df-buttons div {\n",
              "      margin-bottom: 4px;\n",
              "    }\n",
              "\n",
              "    [theme=dark] .colab-df-convert {\n",
              "      background-color: #3B4455;\n",
              "      fill: #D2E3FC;\n",
              "    }\n",
              "\n",
              "    [theme=dark] .colab-df-convert:hover {\n",
              "      background-color: #434B5C;\n",
              "      box-shadow: 0px 1px 3px 1px rgba(0, 0, 0, 0.15);\n",
              "      filter: drop-shadow(0px 1px 2px rgba(0, 0, 0, 0.3));\n",
              "      fill: #FFFFFF;\n",
              "    }\n",
              "  </style>\n",
              "\n",
              "    <script>\n",
              "      const buttonEl =\n",
              "        document.querySelector('#df-fe13d02c-ceae-4443-88e2-8c595c382317 button.colab-df-convert');\n",
              "      buttonEl.style.display =\n",
              "        google.colab.kernel.accessAllowed ? 'block' : 'none';\n",
              "\n",
              "      async function convertToInteractive(key) {\n",
              "        const element = document.querySelector('#df-fe13d02c-ceae-4443-88e2-8c595c382317');\n",
              "        const dataTable =\n",
              "          await google.colab.kernel.invokeFunction('convertToInteractive',\n",
              "                                                    [key], {});\n",
              "        if (!dataTable) return;\n",
              "\n",
              "        const docLinkHtml = 'Like what you see? Visit the ' +\n",
              "          '<a target=\"_blank\" href=https://colab.research.google.com/notebooks/data_table.ipynb>data table notebook</a>'\n",
              "          + ' to learn more about interactive tables.';\n",
              "        element.innerHTML = '';\n",
              "        dataTable['output_type'] = 'display_data';\n",
              "        await google.colab.output.renderOutput(dataTable, element);\n",
              "        const docLink = document.createElement('div');\n",
              "        docLink.innerHTML = docLinkHtml;\n",
              "        element.appendChild(docLink);\n",
              "      }\n",
              "    </script>\n",
              "  </div>\n",
              "\n",
              "\n",
              "<div id=\"df-5add1ac5-538f-42c7-b9a5-4bd04ed0f95d\">\n",
              "  <button class=\"colab-df-quickchart\" onclick=\"quickchart('df-5add1ac5-538f-42c7-b9a5-4bd04ed0f95d')\"\n",
              "            title=\"Suggest charts\"\n",
              "            style=\"display:none;\">\n",
              "\n",
              "<svg xmlns=\"http://www.w3.org/2000/svg\" height=\"24px\"viewBox=\"0 0 24 24\"\n",
              "     width=\"24px\">\n",
              "    <g>\n",
              "        <path d=\"M19 3H5c-1.1 0-2 .9-2 2v14c0 1.1.9 2 2 2h14c1.1 0 2-.9 2-2V5c0-1.1-.9-2-2-2zM9 17H7v-7h2v7zm4 0h-2V7h2v10zm4 0h-2v-4h2v4z\"/>\n",
              "    </g>\n",
              "</svg>\n",
              "  </button>\n",
              "\n",
              "<style>\n",
              "  .colab-df-quickchart {\n",
              "      --bg-color: #E8F0FE;\n",
              "      --fill-color: #1967D2;\n",
              "      --hover-bg-color: #E2EBFA;\n",
              "      --hover-fill-color: #174EA6;\n",
              "      --disabled-fill-color: #AAA;\n",
              "      --disabled-bg-color: #DDD;\n",
              "  }\n",
              "\n",
              "  [theme=dark] .colab-df-quickchart {\n",
              "      --bg-color: #3B4455;\n",
              "      --fill-color: #D2E3FC;\n",
              "      --hover-bg-color: #434B5C;\n",
              "      --hover-fill-color: #FFFFFF;\n",
              "      --disabled-bg-color: #3B4455;\n",
              "      --disabled-fill-color: #666;\n",
              "  }\n",
              "\n",
              "  .colab-df-quickchart {\n",
              "    background-color: var(--bg-color);\n",
              "    border: none;\n",
              "    border-radius: 50%;\n",
              "    cursor: pointer;\n",
              "    display: none;\n",
              "    fill: var(--fill-color);\n",
              "    height: 32px;\n",
              "    padding: 0;\n",
              "    width: 32px;\n",
              "  }\n",
              "\n",
              "  .colab-df-quickchart:hover {\n",
              "    background-color: var(--hover-bg-color);\n",
              "    box-shadow: 0 1px 2px rgba(60, 64, 67, 0.3), 0 1px 3px 1px rgba(60, 64, 67, 0.15);\n",
              "    fill: var(--button-hover-fill-color);\n",
              "  }\n",
              "\n",
              "  .colab-df-quickchart-complete:disabled,\n",
              "  .colab-df-quickchart-complete:disabled:hover {\n",
              "    background-color: var(--disabled-bg-color);\n",
              "    fill: var(--disabled-fill-color);\n",
              "    box-shadow: none;\n",
              "  }\n",
              "\n",
              "  .colab-df-spinner {\n",
              "    border: 2px solid var(--fill-color);\n",
              "    border-color: transparent;\n",
              "    border-bottom-color: var(--fill-color);\n",
              "    animation:\n",
              "      spin 1s steps(1) infinite;\n",
              "  }\n",
              "\n",
              "  @keyframes spin {\n",
              "    0% {\n",
              "      border-color: transparent;\n",
              "      border-bottom-color: var(--fill-color);\n",
              "      border-left-color: var(--fill-color);\n",
              "    }\n",
              "    20% {\n",
              "      border-color: transparent;\n",
              "      border-left-color: var(--fill-color);\n",
              "      border-top-color: var(--fill-color);\n",
              "    }\n",
              "    30% {\n",
              "      border-color: transparent;\n",
              "      border-left-color: var(--fill-color);\n",
              "      border-top-color: var(--fill-color);\n",
              "      border-right-color: var(--fill-color);\n",
              "    }\n",
              "    40% {\n",
              "      border-color: transparent;\n",
              "      border-right-color: var(--fill-color);\n",
              "      border-top-color: var(--fill-color);\n",
              "    }\n",
              "    60% {\n",
              "      border-color: transparent;\n",
              "      border-right-color: var(--fill-color);\n",
              "    }\n",
              "    80% {\n",
              "      border-color: transparent;\n",
              "      border-right-color: var(--fill-color);\n",
              "      border-bottom-color: var(--fill-color);\n",
              "    }\n",
              "    90% {\n",
              "      border-color: transparent;\n",
              "      border-bottom-color: var(--fill-color);\n",
              "    }\n",
              "  }\n",
              "</style>\n",
              "\n",
              "  <script>\n",
              "    async function quickchart(key) {\n",
              "      const quickchartButtonEl =\n",
              "        document.querySelector('#' + key + ' button');\n",
              "      quickchartButtonEl.disabled = true;  // To prevent multiple clicks.\n",
              "      quickchartButtonEl.classList.add('colab-df-spinner');\n",
              "      try {\n",
              "        const charts = await google.colab.kernel.invokeFunction(\n",
              "            'suggestCharts', [key], {});\n",
              "      } catch (error) {\n",
              "        console.error('Error during call to suggestCharts:', error);\n",
              "      }\n",
              "      quickchartButtonEl.classList.remove('colab-df-spinner');\n",
              "      quickchartButtonEl.classList.add('colab-df-quickchart-complete');\n",
              "    }\n",
              "    (() => {\n",
              "      let quickchartButtonEl =\n",
              "        document.querySelector('#df-5add1ac5-538f-42c7-b9a5-4bd04ed0f95d button');\n",
              "      quickchartButtonEl.style.display =\n",
              "        google.colab.kernel.accessAllowed ? 'block' : 'none';\n",
              "    })();\n",
              "  </script>\n",
              "</div>\n",
              "\n",
              "  <div id=\"id_e1c21ff2-ea24-4e08-b645-f0ad62842a5c\">\n",
              "    <style>\n",
              "      .colab-df-generate {\n",
              "        background-color: #E8F0FE;\n",
              "        border: none;\n",
              "        border-radius: 50%;\n",
              "        cursor: pointer;\n",
              "        display: none;\n",
              "        fill: #1967D2;\n",
              "        height: 32px;\n",
              "        padding: 0 0 0 0;\n",
              "        width: 32px;\n",
              "      }\n",
              "\n",
              "      .colab-df-generate:hover {\n",
              "        background-color: #E2EBFA;\n",
              "        box-shadow: 0px 1px 2px rgba(60, 64, 67, 0.3), 0px 1px 3px 1px rgba(60, 64, 67, 0.15);\n",
              "        fill: #174EA6;\n",
              "      }\n",
              "\n",
              "      [theme=dark] .colab-df-generate {\n",
              "        background-color: #3B4455;\n",
              "        fill: #D2E3FC;\n",
              "      }\n",
              "\n",
              "      [theme=dark] .colab-df-generate:hover {\n",
              "        background-color: #434B5C;\n",
              "        box-shadow: 0px 1px 3px 1px rgba(0, 0, 0, 0.15);\n",
              "        filter: drop-shadow(0px 1px 2px rgba(0, 0, 0, 0.3));\n",
              "        fill: #FFFFFF;\n",
              "      }\n",
              "    </style>\n",
              "    <button class=\"colab-df-generate\" onclick=\"generateWithVariable('df_new')\"\n",
              "            title=\"Generate code using this dataframe.\"\n",
              "            style=\"display:none;\">\n",
              "\n",
              "  <svg xmlns=\"http://www.w3.org/2000/svg\" height=\"24px\"viewBox=\"0 0 24 24\"\n",
              "       width=\"24px\">\n",
              "    <path d=\"M7,19H8.4L18.45,9,17,7.55,7,17.6ZM5,21V16.75L18.45,3.32a2,2,0,0,1,2.83,0l1.4,1.43a1.91,1.91,0,0,1,.58,1.4,1.91,1.91,0,0,1-.58,1.4L9.25,21ZM18.45,9,17,7.55Zm-12,3A5.31,5.31,0,0,0,4.9,8.1,5.31,5.31,0,0,0,1,6.5,5.31,5.31,0,0,0,4.9,4.9,5.31,5.31,0,0,0,6.5,1,5.31,5.31,0,0,0,8.1,4.9,5.31,5.31,0,0,0,12,6.5,5.46,5.46,0,0,0,6.5,12Z\"/>\n",
              "  </svg>\n",
              "    </button>\n",
              "    <script>\n",
              "      (() => {\n",
              "      const buttonEl =\n",
              "        document.querySelector('#id_e1c21ff2-ea24-4e08-b645-f0ad62842a5c button.colab-df-generate');\n",
              "      buttonEl.style.display =\n",
              "        google.colab.kernel.accessAllowed ? 'block' : 'none';\n",
              "\n",
              "      buttonEl.onclick = () => {\n",
              "        google.colab.notebook.generateWithVariable('df_new');\n",
              "      }\n",
              "      })();\n",
              "    </script>\n",
              "  </div>\n",
              "\n",
              "    </div>\n",
              "  </div>\n"
            ],
            "application/vnd.google.colaboratory.intrinsic+json": {
              "type": "dataframe",
              "variable_name": "df_new",
              "summary": "{\n  \"name\": \"df_new\",\n  \"rows\": 1034,\n  \"fields\": [\n    {\n      \"column\": \"datetime\",\n      \"properties\": {\n        \"dtype\": \"date\",\n        \"min\": \"2017-01-16 00:00:00\",\n        \"max\": \"2019-11-15 00:00:00\",\n        \"num_unique_values\": 1034,\n        \"samples\": [\n          \"2017-11-06 00:00:00\",\n          \"2018-04-14 00:00:00\",\n          \"2018-10-16 00:00:00\"\n        ],\n        \"semantic_type\": \"\",\n        \"description\": \"\"\n      }\n    },\n    {\n      \"column\": \"Close\",\n      \"properties\": {\n        \"dtype\": \"number\",\n        \"std\": 3568.774634855218,\n        \"min\": 831.53,\n        \"max\": 19497.4,\n        \"num_unique_values\": 1031,\n        \"samples\": [\n          1027.44,\n          1578.8,\n          2488.55\n        ],\n        \"semantic_type\": \"\",\n        \"description\": \"\"\n      }\n    },\n    {\n      \"column\": \"Close_(t-1)\",\n      \"properties\": {\n        \"dtype\": \"number\",\n        \"std\": 3572.2960771822713,\n        \"min\": 821.8,\n        \"max\": 19497.4,\n        \"num_unique_values\": 1031,\n        \"samples\": [\n          1007.48,\n          1555.45,\n          2407.88\n        ],\n        \"semantic_type\": \"\",\n        \"description\": \"\"\n      }\n    },\n    {\n      \"column\": \"Close_(t-2)\",\n      \"properties\": {\n        \"dtype\": \"number\",\n        \"std\": 3575.671433324779,\n        \"min\": 818.41,\n        \"max\": 19497.4,\n        \"num_unique_values\": 1031,\n        \"samples\": [\n          1004.55,\n          1537.67,\n          2286.41\n        ],\n        \"semantic_type\": \"\",\n        \"description\": \"\"\n      }\n    },\n    {\n      \"column\": \"Close_(t-3)\",\n      \"properties\": {\n        \"dtype\": \"number\",\n        \"std\": 3578.953265875549,\n        \"min\": 818.41,\n        \"max\": 19497.4,\n        \"num_unique_values\": 1031,\n        \"samples\": [\n          990.64,\n          1490.09,\n          2175.47\n        ],\n        \"semantic_type\": \"\",\n        \"description\": \"\"\n      }\n    },\n    {\n      \"column\": \"Close_(t-4)\",\n      \"properties\": {\n        \"dtype\": \"number\",\n        \"std\": 3582.2389641651653,\n        \"min\": 804.83,\n        \"max\": 19497.4,\n        \"num_unique_values\": 1031,\n        \"samples\": [\n          999.18,\n          1452.82,\n          2255.61\n        ],\n        \"semantic_type\": \"\",\n        \"description\": \"\"\n      }\n    },\n    {\n      \"column\": \"Close_(t-5)\",\n      \"properties\": {\n        \"dtype\": \"number\",\n        \"std\": 3585.5838783015697,\n        \"min\": 777.76,\n        \"max\": 19497.4,\n        \"num_unique_values\": 1031,\n        \"samples\": [\n          1004.45,\n          1421.6,\n          2155.8\n        ],\n        \"semantic_type\": \"\",\n        \"description\": \"\"\n      }\n    },\n    {\n      \"column\": \"Close_(t-6)\",\n      \"properties\": {\n        \"dtype\": \"number\",\n        \"std\": 3588.5088113886864,\n        \"min\": 777.76,\n        \"max\": 19497.4,\n        \"num_unique_values\": 1031,\n        \"samples\": [\n          988.67,\n          1347.89,\n          2038.87\n        ],\n        \"semantic_type\": \"\",\n        \"description\": \"\"\n      }\n    },\n    {\n      \"column\": \"Close_(t-7)\",\n      \"properties\": {\n        \"dtype\": \"number\",\n        \"std\": 3591.5929167045283,\n        \"min\": 777.76,\n        \"max\": 19497.4,\n        \"num_unique_values\": 1031,\n        \"samples\": [\n          994.38,\n          1321.79,\n          2202.42\n        ],\n        \"semantic_type\": \"\",\n        \"description\": \"\"\n      }\n    },\n    {\n      \"column\": \"Close_(t-8)\",\n      \"properties\": {\n        \"dtype\": \"number\",\n        \"std\": 3594.651834200349,\n        \"min\": 777.76,\n        \"max\": 19497.4,\n        \"num_unique_values\": 1031,\n        \"samples\": [\n          1063.07,\n          1316.48,\n          2304.98\n        ],\n        \"semantic_type\": \"\",\n        \"description\": \"\"\n      }\n    },\n    {\n      \"column\": \"Close_(t-9)\",\n      \"properties\": {\n        \"dtype\": \"number\",\n        \"std\": 3597.35314075986,\n        \"min\": 777.76,\n        \"max\": 19497.4,\n        \"num_unique_values\": 1031,\n        \"samples\": [\n          1061.35,\n          1317.73,\n          2443.64\n        ],\n        \"semantic_type\": \"\",\n        \"description\": \"\"\n      }\n    },\n    {\n      \"column\": \"Close_(t-10)\",\n      \"properties\": {\n        \"dtype\": \"number\",\n        \"std\": 3599.967245529389,\n        \"min\": 777.76,\n        \"max\": 19497.4,\n        \"num_unique_values\": 1031,\n        \"samples\": [\n          1038.15,\n          1281.08,\n          2320.42\n        ],\n        \"semantic_type\": \"\",\n        \"description\": \"\"\n      }\n    },\n    {\n      \"column\": \"Close_(t-11)\",\n      \"properties\": {\n        \"dtype\": \"number\",\n        \"std\": 3602.41741072965,\n        \"min\": 777.76,\n        \"max\": 19497.4,\n        \"num_unique_values\": 1031,\n        \"samples\": [\n          1027.34,\n          1265.49,\n          2173.4\n        ],\n        \"semantic_type\": \"\",\n        \"description\": \"\"\n      }\n    },\n    {\n      \"column\": \"Close_(t-12)\",\n      \"properties\": {\n        \"dtype\": \"number\",\n        \"std\": 3604.592738136182,\n        \"min\": 777.76,\n        \"max\": 19497.4,\n        \"num_unique_values\": 1031,\n        \"samples\": [\n          1042.9,\n          1250.15,\n          2041.2\n        ],\n        \"semantic_type\": \"\",\n        \"description\": \"\"\n      }\n    },\n    {\n      \"column\": \"Close_(t-13)\",\n      \"properties\": {\n        \"dtype\": \"number\",\n        \"std\": 3607.048549514055,\n        \"min\": 777.76,\n        \"max\": 19497.4,\n        \"num_unique_values\": 1031,\n        \"samples\": [\n          1029.91,\n          1207.21,\n          2084.73\n        ],\n        \"semantic_type\": \"\",\n        \"description\": \"\"\n      }\n    },\n    {\n      \"column\": \"Close_(t-14)\",\n      \"properties\": {\n        \"dtype\": \"number\",\n        \"std\": 3609.443399507549,\n        \"min\": 777.76,\n        \"max\": 19497.4,\n        \"num_unique_values\": 1031,\n        \"samples\": [\n          1011.8,\n          1231.71,\n          1987.71\n        ],\n        \"semantic_type\": \"\",\n        \"description\": \"\"\n      }\n    },\n    {\n      \"column\": \"Close_(t-15)\",\n      \"properties\": {\n        \"dtype\": \"number\",\n        \"std\": 3611.9037171454834,\n        \"min\": 777.76,\n        \"max\": 19497.4,\n        \"num_unique_values\": 1031,\n        \"samples\": [\n          989.02,\n          1222.05,\n          1888.65\n        ],\n        \"semantic_type\": \"\",\n        \"description\": \"\"\n      }\n    }\n  ]\n}"
            }
          },
          "metadata": {},
          "execution_count": 10
        }
      ]
    },
    {
      "cell_type": "markdown",
      "metadata": {
        "id": "FQK-QEa_Jg6L"
      },
      "source": [
        "### Build and compile the model\n",
        "\n",
        "Training a simple Network that has an input layer with 15 nodes (accounting for each of the 15 past regressor inputs)."
      ]
    },
    {
      "cell_type": "code",
      "metadata": {
        "id": "Y05MaMkv-QBG"
      },
      "source": [
        "# YOUR CODE HERE: To define the input layer with 15 nodes\n",
        "input_layer = Input(shape = (15,), dtype= 'float32')\n",
        "\n",
        "# YOUR CODE HERE: To create the first dense layer with 30 neurons and activation as 'linear'\n",
        "dense1 = Dense(30, activation= 'linear')(input_layer)\n",
        "dense2 = Dense(30, activation='linear')(dense1)\n",
        "\n",
        "# YOUR CODE HERE: To define the dropout layer with p=0.2\n",
        "dropout_layer = Dropout(0.2)(dense2)\n",
        "output_layer = Dense(1, activation='linear')(dropout_layer)"
      ],
      "execution_count": 11,
      "outputs": []
    },
    {
      "cell_type": "code",
      "metadata": {
        "id": "7vpnh7nf-St4",
        "outputId": "fac823d5-ed64-4831-99f3-503418b4c12c",
        "colab": {
          "base_uri": "https://localhost:8080/",
          "height": 289
        }
      },
      "source": [
        "model = Model(inputs=input_layer, outputs=output_layer)\n",
        "model.compile(optimizer='adam', loss='mse')\n",
        "\n",
        "# YOUR CODE HERE: To compile the model by passing loss (MSE) and optimizer (Adam) as parameters\n",
        "\n",
        "model.summary()"
      ],
      "execution_count": 12,
      "outputs": [
        {
          "output_type": "display_data",
          "data": {
            "text/plain": [
              "\u001b[1mModel: \"functional\"\u001b[0m\n"
            ],
            "text/html": [
              "<pre style=\"white-space:pre;overflow-x:auto;line-height:normal;font-family:Menlo,'DejaVu Sans Mono',consolas,'Courier New',monospace\"><span style=\"font-weight: bold\">Model: \"functional\"</span>\n",
              "</pre>\n"
            ]
          },
          "metadata": {}
        },
        {
          "output_type": "display_data",
          "data": {
            "text/plain": [
              "┏━━━━━━━━━━━━━━━━━━━━━━━━━━━━━━━━━━━━━━┳━━━━━━━━━━━━━━━━━━━━━━━━━━━━━┳━━━━━━━━━━━━━━━━━┓\n",
              "┃\u001b[1m \u001b[0m\u001b[1mLayer (type)                        \u001b[0m\u001b[1m \u001b[0m┃\u001b[1m \u001b[0m\u001b[1mOutput Shape               \u001b[0m\u001b[1m \u001b[0m┃\u001b[1m \u001b[0m\u001b[1m        Param #\u001b[0m\u001b[1m \u001b[0m┃\n",
              "┡━━━━━━━━━━━━━━━━━━━━━━━━━━━━━━━━━━━━━━╇━━━━━━━━━━━━━━━━━━━━━━━━━━━━━╇━━━━━━━━━━━━━━━━━┩\n",
              "│ input_layer (\u001b[38;5;33mInputLayer\u001b[0m)             │ (\u001b[38;5;45mNone\u001b[0m, \u001b[38;5;34m15\u001b[0m)                  │               \u001b[38;5;34m0\u001b[0m │\n",
              "├──────────────────────────────────────┼─────────────────────────────┼─────────────────┤\n",
              "│ dense (\u001b[38;5;33mDense\u001b[0m)                        │ (\u001b[38;5;45mNone\u001b[0m, \u001b[38;5;34m30\u001b[0m)                  │             \u001b[38;5;34m480\u001b[0m │\n",
              "├──────────────────────────────────────┼─────────────────────────────┼─────────────────┤\n",
              "│ dense_1 (\u001b[38;5;33mDense\u001b[0m)                      │ (\u001b[38;5;45mNone\u001b[0m, \u001b[38;5;34m30\u001b[0m)                  │             \u001b[38;5;34m930\u001b[0m │\n",
              "├──────────────────────────────────────┼─────────────────────────────┼─────────────────┤\n",
              "│ dropout (\u001b[38;5;33mDropout\u001b[0m)                    │ (\u001b[38;5;45mNone\u001b[0m, \u001b[38;5;34m30\u001b[0m)                  │               \u001b[38;5;34m0\u001b[0m │\n",
              "├──────────────────────────────────────┼─────────────────────────────┼─────────────────┤\n",
              "│ dense_2 (\u001b[38;5;33mDense\u001b[0m)                      │ (\u001b[38;5;45mNone\u001b[0m, \u001b[38;5;34m1\u001b[0m)                   │              \u001b[38;5;34m31\u001b[0m │\n",
              "└──────────────────────────────────────┴─────────────────────────────┴─────────────────┘\n"
            ],
            "text/html": [
              "<pre style=\"white-space:pre;overflow-x:auto;line-height:normal;font-family:Menlo,'DejaVu Sans Mono',consolas,'Courier New',monospace\">┏━━━━━━━━━━━━━━━━━━━━━━━━━━━━━━━━━━━━━━┳━━━━━━━━━━━━━━━━━━━━━━━━━━━━━┳━━━━━━━━━━━━━━━━━┓\n",
              "┃<span style=\"font-weight: bold\"> Layer (type)                         </span>┃<span style=\"font-weight: bold\"> Output Shape                </span>┃<span style=\"font-weight: bold\">         Param # </span>┃\n",
              "┡━━━━━━━━━━━━━━━━━━━━━━━━━━━━━━━━━━━━━━╇━━━━━━━━━━━━━━━━━━━━━━━━━━━━━╇━━━━━━━━━━━━━━━━━┩\n",
              "│ input_layer (<span style=\"color: #0087ff; text-decoration-color: #0087ff\">InputLayer</span>)             │ (<span style=\"color: #00d7ff; text-decoration-color: #00d7ff\">None</span>, <span style=\"color: #00af00; text-decoration-color: #00af00\">15</span>)                  │               <span style=\"color: #00af00; text-decoration-color: #00af00\">0</span> │\n",
              "├──────────────────────────────────────┼─────────────────────────────┼─────────────────┤\n",
              "│ dense (<span style=\"color: #0087ff; text-decoration-color: #0087ff\">Dense</span>)                        │ (<span style=\"color: #00d7ff; text-decoration-color: #00d7ff\">None</span>, <span style=\"color: #00af00; text-decoration-color: #00af00\">30</span>)                  │             <span style=\"color: #00af00; text-decoration-color: #00af00\">480</span> │\n",
              "├──────────────────────────────────────┼─────────────────────────────┼─────────────────┤\n",
              "│ dense_1 (<span style=\"color: #0087ff; text-decoration-color: #0087ff\">Dense</span>)                      │ (<span style=\"color: #00d7ff; text-decoration-color: #00d7ff\">None</span>, <span style=\"color: #00af00; text-decoration-color: #00af00\">30</span>)                  │             <span style=\"color: #00af00; text-decoration-color: #00af00\">930</span> │\n",
              "├──────────────────────────────────────┼─────────────────────────────┼─────────────────┤\n",
              "│ dropout (<span style=\"color: #0087ff; text-decoration-color: #0087ff\">Dropout</span>)                    │ (<span style=\"color: #00d7ff; text-decoration-color: #00d7ff\">None</span>, <span style=\"color: #00af00; text-decoration-color: #00af00\">30</span>)                  │               <span style=\"color: #00af00; text-decoration-color: #00af00\">0</span> │\n",
              "├──────────────────────────────────────┼─────────────────────────────┼─────────────────┤\n",
              "│ dense_2 (<span style=\"color: #0087ff; text-decoration-color: #0087ff\">Dense</span>)                      │ (<span style=\"color: #00d7ff; text-decoration-color: #00d7ff\">None</span>, <span style=\"color: #00af00; text-decoration-color: #00af00\">1</span>)                   │              <span style=\"color: #00af00; text-decoration-color: #00af00\">31</span> │\n",
              "└──────────────────────────────────────┴─────────────────────────────┴─────────────────┘\n",
              "</pre>\n"
            ]
          },
          "metadata": {}
        },
        {
          "output_type": "display_data",
          "data": {
            "text/plain": [
              "\u001b[1m Total params: \u001b[0m\u001b[38;5;34m1,441\u001b[0m (5.63 KB)\n"
            ],
            "text/html": [
              "<pre style=\"white-space:pre;overflow-x:auto;line-height:normal;font-family:Menlo,'DejaVu Sans Mono',consolas,'Courier New',monospace\"><span style=\"font-weight: bold\"> Total params: </span><span style=\"color: #00af00; text-decoration-color: #00af00\">1,441</span> (5.63 KB)\n",
              "</pre>\n"
            ]
          },
          "metadata": {}
        },
        {
          "output_type": "display_data",
          "data": {
            "text/plain": [
              "\u001b[1m Trainable params: \u001b[0m\u001b[38;5;34m1,441\u001b[0m (5.63 KB)\n"
            ],
            "text/html": [
              "<pre style=\"white-space:pre;overflow-x:auto;line-height:normal;font-family:Menlo,'DejaVu Sans Mono',consolas,'Courier New',monospace\"><span style=\"font-weight: bold\"> Trainable params: </span><span style=\"color: #00af00; text-decoration-color: #00af00\">1,441</span> (5.63 KB)\n",
              "</pre>\n"
            ]
          },
          "metadata": {}
        },
        {
          "output_type": "display_data",
          "data": {
            "text/plain": [
              "\u001b[1m Non-trainable params: \u001b[0m\u001b[38;5;34m0\u001b[0m (0.00 B)\n"
            ],
            "text/html": [
              "<pre style=\"white-space:pre;overflow-x:auto;line-height:normal;font-family:Menlo,'DejaVu Sans Mono',consolas,'Courier New',monospace\"><span style=\"font-weight: bold\"> Non-trainable params: </span><span style=\"color: #00af00; text-decoration-color: #00af00\">0</span> (0.00 B)\n",
              "</pre>\n"
            ]
          },
          "metadata": {}
        }
      ]
    },
    {
      "cell_type": "markdown",
      "metadata": {
        "id": "rDFClfAuA7yn"
      },
      "source": [
        "### Split the data into train and test\n",
        "\n",
        "Define the features and labels from the data and split data into train and test  in 90-10 split ratio"
      ]
    },
    {
      "cell_type": "code",
      "metadata": {
        "id": "5-n1aI1ezEyq",
        "outputId": "14916300-36fc-4422-de44-c86c2d76bcdd",
        "colab": {
          "base_uri": "https://localhost:8080/"
        }
      },
      "source": [
        "df_copy = df_new.reset_index(drop=True)\n",
        "\n",
        "from sklearn.model_selection import train_test_split\n",
        "features = df_copy.iloc[:, 1:]\n",
        "labels = df_copy.iloc[:, 0]\n",
        "\n",
        "# YOUR CODE HERE: To split the data into train and test sets\n",
        "X_train, X_test, y_train, y_test = train_test_split(features, labels, test_size=0.1, shuffle=False)\n",
        "\n",
        "X_train.shape, y_train.shape\n",
        "\n",
        "print('The Shape of training inputs, training target:', X_train.shape, y_train.shape)\n",
        "print('The Shape of test inputs, test target:', X_test.shape, y_test.shape)"
      ],
      "execution_count": 13,
      "outputs": [
        {
          "output_type": "stream",
          "name": "stdout",
          "text": [
            "The Shape of training inputs, training target: (930, 15) (930,)\n",
            "The Shape of test inputs, test target: (104, 15) (104,)\n"
          ]
        }
      ]
    },
    {
      "cell_type": "markdown",
      "metadata": {
        "id": "rfyU0KIwJzTF"
      },
      "source": [
        "### Scaling the data\n",
        "\n",
        "Normalize the data before feeding it to the neural network."
      ]
    },
    {
      "cell_type": "code",
      "metadata": {
        "id": "auV8zmDh-as4"
      },
      "source": [
        "from sklearn.preprocessing import MinMaxScaler\n",
        "\n",
        "Target_scaler = MinMaxScaler()\n",
        "Feature_scaler = MinMaxScaler()\n",
        "\n",
        "# YOUR CODE HERE: To fit and transform the train and test data using feature scalar\n",
        "X_train_scaled = Feature_scaler.fit_transform(np.array(X_train))\n",
        "X_test_scaled = Feature_scaler.fit_transform(np.array(X_test))\n",
        "\n",
        "y_train_scaled = Target_scaler.fit_transform(np.array(y_train).reshape(-1,1))\n",
        "y_test_scaled = Target_scaler.fit_transform(np.array(y_test).reshape(-1,1))"
      ],
      "execution_count": 16,
      "outputs": []
    },
    {
      "cell_type": "markdown",
      "metadata": {
        "id": "PjIsrap6KOL4"
      },
      "source": [
        "### Training and Validation"
      ]
    },
    {
      "cell_type": "code",
      "metadata": {
        "id": "8gAREqY3-hDh",
        "outputId": "ea2def1b-acce-483f-f9ec-2ead027a285c",
        "colab": {
          "base_uri": "https://localhost:8080/"
        }
      },
      "source": [
        "# YOUR CODE HERE: To train and validate the model\n",
        "model.fit(X_train_scaled, y_train_scaled, epochs=10, batch_size=5, shuffle=True)"
      ],
      "execution_count": 17,
      "outputs": [
        {
          "output_type": "stream",
          "name": "stdout",
          "text": [
            "Epoch 1/10\n",
            "\u001b[1m186/186\u001b[0m \u001b[32m━━━━━━━━━━━━━━━━━━━━\u001b[0m\u001b[37m\u001b[0m \u001b[1m2s\u001b[0m 2ms/step - loss: 0.0269\n",
            "Epoch 2/10\n",
            "\u001b[1m186/186\u001b[0m \u001b[32m━━━━━━━━━━━━━━━━━━━━\u001b[0m\u001b[37m\u001b[0m \u001b[1m0s\u001b[0m 2ms/step - loss: 0.0042\n",
            "Epoch 3/10\n",
            "\u001b[1m186/186\u001b[0m \u001b[32m━━━━━━━━━━━━━━━━━━━━\u001b[0m\u001b[37m\u001b[0m \u001b[1m1s\u001b[0m 2ms/step - loss: 0.0037\n",
            "Epoch 4/10\n",
            "\u001b[1m186/186\u001b[0m \u001b[32m━━━━━━━━━━━━━━━━━━━━\u001b[0m\u001b[37m\u001b[0m \u001b[1m1s\u001b[0m 2ms/step - loss: 0.0030\n",
            "Epoch 5/10\n",
            "\u001b[1m186/186\u001b[0m \u001b[32m━━━━━━━━━━━━━━━━━━━━\u001b[0m\u001b[37m\u001b[0m \u001b[1m1s\u001b[0m 2ms/step - loss: 0.0023\n",
            "Epoch 6/10\n",
            "\u001b[1m186/186\u001b[0m \u001b[32m━━━━━━━━━━━━━━━━━━━━\u001b[0m\u001b[37m\u001b[0m \u001b[1m1s\u001b[0m 2ms/step - loss: 0.0026\n",
            "Epoch 7/10\n",
            "\u001b[1m186/186\u001b[0m \u001b[32m━━━━━━━━━━━━━━━━━━━━\u001b[0m\u001b[37m\u001b[0m \u001b[1m1s\u001b[0m 2ms/step - loss: 0.0019\n",
            "Epoch 8/10\n",
            "\u001b[1m186/186\u001b[0m \u001b[32m━━━━━━━━━━━━━━━━━━━━\u001b[0m\u001b[37m\u001b[0m \u001b[1m0s\u001b[0m 2ms/step - loss: 0.0026\n",
            "Epoch 9/10\n",
            "\u001b[1m186/186\u001b[0m \u001b[32m━━━━━━━━━━━━━━━━━━━━\u001b[0m\u001b[37m\u001b[0m \u001b[1m1s\u001b[0m 2ms/step - loss: 0.0023\n",
            "Epoch 10/10\n",
            "\u001b[1m186/186\u001b[0m \u001b[32m━━━━━━━━━━━━━━━━━━━━\u001b[0m\u001b[37m\u001b[0m \u001b[1m1s\u001b[0m 2ms/step - loss: 0.0022\n"
          ]
        },
        {
          "output_type": "execute_result",
          "data": {
            "text/plain": [
              "<keras.src.callbacks.history.History at 0x7c9d45c930d0>"
            ]
          },
          "metadata": {},
          "execution_count": 17
        }
      ]
    },
    {
      "cell_type": "markdown",
      "metadata": {
        "id": "8aHKzHr0KTop"
      },
      "source": [
        "### Making predictions on the test set"
      ]
    },
    {
      "cell_type": "code",
      "metadata": {
        "id": "KGcLzpwN-mot",
        "outputId": "48f10f0a-a70d-44ae-dd40-9d4f381cbf41",
        "colab": {
          "base_uri": "https://localhost:8080/"
        }
      },
      "source": [
        "# YOUR CODE HERE: To get the predictions on the scaled test data\n",
        "y_pred = model.predict(X_test_scaled)"
      ],
      "execution_count": 18,
      "outputs": [
        {
          "output_type": "stream",
          "name": "stdout",
          "text": [
            "\u001b[1m4/4\u001b[0m \u001b[32m━━━━━━━━━━━━━━━━━━━━\u001b[0m\u001b[37m\u001b[0m \u001b[1m0s\u001b[0m 29ms/step\n"
          ]
        }
      ]
    },
    {
      "cell_type": "code",
      "metadata": {
        "id": "3lLTisjDUxIu"
      },
      "source": [
        "# YOUR CODE HERE: To rescale the predicted data and actual data to plot\n",
        "y_pred_rescaled = Target_scaler.inverse_transform(y_pred)\n",
        "y_test_rescaled = Target_scaler.inverse_transform(y_test_scaled)"
      ],
      "execution_count": 21,
      "outputs": []
    },
    {
      "cell_type": "markdown",
      "metadata": {
        "id": "B5JoozZXKYBQ"
      },
      "source": [
        "### Plotting the predictions"
      ]
    },
    {
      "cell_type": "code",
      "metadata": {
        "id": "8JdttE-s-5NM",
        "outputId": "f452b037-88ee-42ca-c8d0-8d484b2d2584",
        "colab": {
          "base_uri": "https://localhost:8080/",
          "height": 564
        }
      },
      "source": [
        "plt.figure(figsize=(11, 6))\n",
        "plt.plot(y_test_rescaled, linestyle='solid', color='r')\n",
        "plt.plot(y_pred_rescaled, linestyle='dashed', color='b')\n",
        "\n",
        "plt.legend(['Actual','Predicted'])\n",
        "plt.title('Bitcoin Stock Closing Prices')\n",
        "plt.ylabel('USD ($)')\n",
        "plt.xlabel('Day counts of the test data')\n",
        "\n",
        "plt.show()"
      ],
      "execution_count": 22,
      "outputs": [
        {
          "output_type": "display_data",
          "data": {
            "text/plain": [
              "<Figure size 1100x600 with 1 Axes>"
            ],
            "image/png": "[encoded data removed]"
          },
          "metadata": {}
        }
      ]
    },
    {
      "cell_type": "markdown",
      "metadata": {
        "id": "w4-oWiOAI7kZ"
      },
      "source": [
        "### Please answer the questions below to complete the experiment:\n",
        "\n",
        "\n"
      ]
    },
    {
      "cell_type": "code",
      "metadata": {
        "id": "Hvm-8H2RI7kd"
      },
      "source": [
        "#@title State True or False: A time series autocorrelation plot refers to the degree of correlation between the values of the same variables across different observations in the data { run: \"auto\", form-width: \"500px\", display-mode: \"form\" }\n",
        "Answer = \"TRUE\" #@param [\"\",\"TRUE\", \"FALSE\"]"
      ],
      "execution_count": 23,
      "outputs": []
    },
    {
      "cell_type": "code",
      "metadata": {
        "id": "NMzKSbLIgFzQ"
      },
      "source": [
        "#@title How was the experiment? { run: \"auto\", form-width: \"500px\", display-mode: \"form\" }\n",
        "Complexity = \"Good, But Not Challenging for me\" #@param [\"\",\"Too Simple, I am wasting time\", \"Good, But Not Challenging for me\", \"Good and Challenging for me\", \"Was Tough, but I did it\", \"Too Difficult for me\"]\n"
      ],
      "execution_count": 24,
      "outputs": []
    },
    {
      "cell_type": "code",
      "metadata": {
        "id": "DjcH1VWSFI2l"
      },
      "source": [
        "#@title If it was too easy, what more would you have liked to be added? If it was very difficult, what would you have liked to have been removed? { run: \"auto\", display-mode: \"form\" }\n",
        "Additional = \"good\" #@param {type:\"string\"}\n"
      ],
      "execution_count": 25,
      "outputs": []
    },
    {
      "cell_type": "code",
      "metadata": {
        "id": "94dIhQKDI7kf"
      },
      "source": [
        "#@title Can you identify the concepts from the lecture which this experiment covered? { run: \"auto\", vertical-output: true, display-mode: \"form\" }\n",
        "Concepts = \"Yes\" #@param [\"\",\"Yes\", \"No\"]\n"
      ],
      "execution_count": 26,
      "outputs": []
    },
    {
      "cell_type": "code",
      "metadata": {
        "id": "YKzGvfdyI7kg"
      },
      "source": [
        "#@title  Experiment walkthrough video? { run: \"auto\", vertical-output: true, display-mode: \"form\" }\n",
        "Walkthrough = \"Very Useful\" #@param [\"\",\"Very Useful\", \"Somewhat Useful\", \"Not Useful\", \"Didn't use\"]\n"
      ],
      "execution_count": 27,
      "outputs": []
    },
    {
      "cell_type": "code",
      "metadata": {
        "id": "2OjkIq7II7kh"
      },
      "source": [
        "#@title  Text and image description/explanation and code comments within the experiment: { run: \"auto\", vertical-output: true, display-mode: \"form\" }\n",
        "Comments = \"Very Useful\" #@param [\"\",\"Very Useful\", \"Somewhat Useful\", \"Not Useful\", \"Didn't use\"]\n"
      ],
      "execution_count": 28,
      "outputs": []
    },
    {
      "cell_type": "code",
      "metadata": {
        "id": "OwLT_C0vI7ki"
      },
      "source": [
        "#@title Mentor Support: { run: \"auto\", vertical-output: true, display-mode: \"form\" }\n",
        "Mentor_support = \"Somewhat Useful\" #@param [\"\",\"Very Useful\", \"Somewhat Useful\", \"Not Useful\", \"Didn't use\"]\n"
      ],
      "execution_count": 29,
      "outputs": []
    },
    {
      "cell_type": "code",
      "metadata": {
        "cellView": "form",
        "id": "gPMKJg_eI7kj",
        "outputId": "ad827ac2-86f0-4f79-ceb5-f1b1ee4eb170",
        "colab": {
          "base_uri": "https://localhost:8080/"
        }
      },
      "source": [
        "#@title Run this cell to submit your notebook for grading { vertical-output: true }\n",
        "try:\n",
        "  if submission_id:\n",
        "      return_id = submit_notebook()\n",
        "      if return_id : submission_id = return_id\n",
        "  else:\n",
        "      print(\"Please complete the setup first.\")\n",
        "except NameError:\n",
        "  print (\"Please complete the setup first.\")"
      ],
      "execution_count": 30,
      "outputs": [
        {
          "output_type": "stream",
          "name": "stdout",
          "text": [
            "Your submission is successful.\n",
            "Ref Id: 1917\n",
            "Date of submission:  22 Feb 2025\n",
            "Time of submission:  15:47:00\n",
            "View your submissions: https://learn-iiith.talentsprint.com/notebook_submissions\n"
          ]
        }
      ]
    }
  ]
}